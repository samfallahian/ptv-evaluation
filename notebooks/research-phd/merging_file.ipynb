{
 "cells": [
  {
   "cell_type": "code",
   "execution_count": 3,
   "metadata": {
    "collapsed": true
   },
   "outputs": [],
   "source": [
    "import os\n",
    "import glob\n",
    "import pandas as pd\n",
    "import numpy as np"
   ]
  },
  {
   "cell_type": "markdown",
   "source": [
    "### Find folder based on speed"
   ],
   "metadata": {
    "collapsed": false
   }
  },
  {
   "cell_type": "code",
   "execution_count": 57,
   "outputs": [],
   "source": [
    "def speed_to_folder(speed):\n",
    "    if speed == 0.05232:\n",
    "        return \"3p6\" # 1/0.4735 = 2.1193\n",
    "    elif speed == 0.06528:\n",
    "        return \"4p4\"\n",
    "    elif speed == 0.06852:\n",
    "        return \"4p6\"\n",
    "    elif speed == 0.07824:\n",
    "        return \"5p2\"\n",
    "    elif speed == 0.09768:\n",
    "        return \"6p4\"\n",
    "    elif speed == 0.10092:\n",
    "        return \"6p6\"\n",
    "    elif speed == 0.11064:\n",
    "        return \"7p2\"\n",
    "    elif speed == 0.12036:\n",
    "        return \"7p8\"\n",
    "    elif speed == 0.13008:\n",
    "        return \"8p4\"\n",
    "    elif speed == 0.16248:\n",
    "        return \"10p4\"\n",
    "    elif speed == 0.17868:\n",
    "        return \"11p4\"\n",
    "    else:\n",
    "        return \"test\""
   ],
   "metadata": {
    "collapsed": false
   }
  },
  {
   "cell_type": "code",
   "execution_count": 58,
   "outputs": [],
   "source": [
    "def distance(x, y, z):\n",
    "    return np.sqrt(x**2.0 + y**2.0 + z**2.0)"
   ],
   "metadata": {
    "collapsed": false
   }
  },
  {
   "cell_type": "markdown",
   "source": [
    "### Merge files in the folders"
   ],
   "metadata": {
    "collapsed": false
   }
  },
  {
   "cell_type": "code",
   "execution_count": 7,
   "outputs": [],
   "source": [
    "def get_files_list(speed):\n",
    "    folder = speed_to_folder(speed)\n",
    "    # path = os.getcwd()\n",
    "    csv_files = glob.glob(os.path.join(f\"/mnt/d/sources/data/DL-PTV/{folder}-1\", \"*.csv\"))+glob.glob(os.path.join(f\"/mnt/d/sources/data/DL-PTV/{folder}-2\", \"*.csv\"))\n",
    "\n",
    "    data = []\n",
    "    for csv in csv_files:\n",
    "        frame = pd.read_csv(csv, sep=\";\")\n",
    "        frame.columns= [\"x\",\"y\",\"z\",\"vx\",\"vy\",\"vz\"]\n",
    "        frame = pd.merge(frame.iloc[:50689,:], frame.iloc[50690:,:], how=\"inner\", on=[\"x\", \"y\", \"z\"])\n",
    "        frame.columns=[\"x\",\"y\",\"z\",\"vx\",\"vy\",\"vz\",\"px\",\"py\",\"pz\"]\n",
    "        frame['time'] = int(csv[-8:][:4])\n",
    "        frame[\"distance\"] = distance(frame[\"x\"], frame[\"y\"], frame[\"z\"])\n",
    "        frame[\"distance\"] = frame[\"distance\"].round(decimals=0)\n",
    "        data.append(frame)\n",
    "\n",
    "    df = pd.concat(data, ignore_index=True)\n",
    "    df.columns=[\"x\",\"y\",\"z\",\"vx\",\"vy\",\"vz\",\"px\",\"py\",\"pz\",\"time\",\"distance\"]\n",
    "    # Converting kPa to Pa for presurre columns\n",
    "    df[\"px\"]=df[\"px\"]*1000\n",
    "    df[\"py\"]=df[\"py\"]*1000\n",
    "    df[\"pz\"]=df[\"pz\"]*1000\n",
    "    # Scaling up the velocity\n",
    "    df[\"vx\"]=df[\"vx\"]*10\n",
    "    df[\"vy\"]=df[\"vy\"]*10\n",
    "    df[\"vz\"]=df[\"vz\"]*10\n",
    "    # Rounding decimal place\n",
    "    df[\"vx\"] = df[\"vx\"].round(decimals=2)\n",
    "    df[\"vy\"] = df[\"vy\"].round(decimals=2)\n",
    "    df[\"vz\"] = df[\"vz\"].round(decimals=2)\n",
    "    df[\"px\"] = df[\"px\"].round(decimals=2)\n",
    "    df[\"py\"] = df[\"py\"].round(decimals=2)\n",
    "    df[\"pz\"] = df[\"pz\"].round(decimals=2)\n",
    "\n",
    "    df[\"x\"] = df[\"x\"].round(decimals=0)\n",
    "    df[\"y\"] = df[\"y\"].round(decimals=0)\n",
    "    df[\"z\"] = df[\"z\"].round(decimals=0)\n",
    "\n",
    "\n",
    "    return df"
   ],
   "metadata": {
    "collapsed": false
   }
  },
  {
   "cell_type": "code",
   "execution_count": 8,
   "outputs": [],
   "source": [
    "# final_df = pd.read_pickle(f\"/mnt/d/sources/data/DL-PTV/merged/Old_merged/3p6.pkl\", compression=\"zip\")"
   ],
   "metadata": {
    "collapsed": false
   }
  },
  {
   "cell_type": "code",
   "execution_count": 9,
   "outputs": [],
   "source": [
    "speed = 0.05232\n",
    "folder = speed_to_folder(speed)\n",
    "final_df = get_files_list(speed)"
   ],
   "metadata": {
    "collapsed": false
   }
  },
  {
   "cell_type": "code",
   "execution_count": 10,
   "outputs": [
    {
     "data": {
      "text/plain": "       x     y     z    vx    vy   vz    px    py    pz  time  distance\n0 -117.0  87.0 -33.0  0.46  0.02 -0.0  2.47 -2.39 -0.49   363     150.0\n1 -113.0  87.0 -33.0  0.46  0.02  0.0  2.54 -2.25 -0.54   363     146.0\n2 -109.0  87.0 -33.0  0.47  0.03  0.0  2.44 -2.00 -0.58   363     143.0\n3 -105.0  87.0 -33.0  0.47  0.03  0.0  2.21 -1.68 -0.61   363     140.0\n4 -101.0  87.0 -33.0  0.47  0.03  0.0  1.89 -1.36 -0.60   363     137.0",
      "text/html": "<div>\n<style scoped>\n    .dataframe tbody tr th:only-of-type {\n        vertical-align: middle;\n    }\n\n    .dataframe tbody tr th {\n        vertical-align: top;\n    }\n\n    .dataframe thead th {\n        text-align: right;\n    }\n</style>\n<table border=\"1\" class=\"dataframe\">\n  <thead>\n    <tr style=\"text-align: right;\">\n      <th></th>\n      <th>x</th>\n      <th>y</th>\n      <th>z</th>\n      <th>vx</th>\n      <th>vy</th>\n      <th>vz</th>\n      <th>px</th>\n      <th>py</th>\n      <th>pz</th>\n      <th>time</th>\n      <th>distance</th>\n    </tr>\n  </thead>\n  <tbody>\n    <tr>\n      <th>0</th>\n      <td>-117.0</td>\n      <td>87.0</td>\n      <td>-33.0</td>\n      <td>0.46</td>\n      <td>0.02</td>\n      <td>-0.0</td>\n      <td>2.47</td>\n      <td>-2.39</td>\n      <td>-0.49</td>\n      <td>363</td>\n      <td>150.0</td>\n    </tr>\n    <tr>\n      <th>1</th>\n      <td>-113.0</td>\n      <td>87.0</td>\n      <td>-33.0</td>\n      <td>0.46</td>\n      <td>0.02</td>\n      <td>0.0</td>\n      <td>2.54</td>\n      <td>-2.25</td>\n      <td>-0.54</td>\n      <td>363</td>\n      <td>146.0</td>\n    </tr>\n    <tr>\n      <th>2</th>\n      <td>-109.0</td>\n      <td>87.0</td>\n      <td>-33.0</td>\n      <td>0.47</td>\n      <td>0.03</td>\n      <td>0.0</td>\n      <td>2.44</td>\n      <td>-2.00</td>\n      <td>-0.58</td>\n      <td>363</td>\n      <td>143.0</td>\n    </tr>\n    <tr>\n      <th>3</th>\n      <td>-105.0</td>\n      <td>87.0</td>\n      <td>-33.0</td>\n      <td>0.47</td>\n      <td>0.03</td>\n      <td>0.0</td>\n      <td>2.21</td>\n      <td>-1.68</td>\n      <td>-0.61</td>\n      <td>363</td>\n      <td>140.0</td>\n    </tr>\n    <tr>\n      <th>4</th>\n      <td>-101.0</td>\n      <td>87.0</td>\n      <td>-33.0</td>\n      <td>0.47</td>\n      <td>0.03</td>\n      <td>0.0</td>\n      <td>1.89</td>\n      <td>-1.36</td>\n      <td>-0.60</td>\n      <td>363</td>\n      <td>137.0</td>\n    </tr>\n  </tbody>\n</table>\n</div>"
     },
     "execution_count": 10,
     "metadata": {},
     "output_type": "execute_result"
    }
   ],
   "source": [
    "final_df.head()"
   ],
   "metadata": {
    "collapsed": false
   }
  },
  {
   "cell_type": "code",
   "execution_count": 11,
   "outputs": [
    {
     "data": {
      "text/plain": "(60823200, 11)"
     },
     "execution_count": 11,
     "metadata": {},
     "output_type": "execute_result"
    }
   ],
   "source": [
    "final_df.shape"
   ],
   "metadata": {
    "collapsed": false
   }
  },
  {
   "cell_type": "code",
   "execution_count": 15,
   "outputs": [
    {
     "name": "stdout",
     "output_type": "stream",
     "text": [
      "4p4 is done!\n",
      "4p6 is done!\n",
      "5p2 is done!\n",
      "6p4 is done!\n",
      "6p6 is done!\n",
      "7p2 is done!\n",
      "7p8 is done!\n",
      "8p4 is done!\n",
      "10p4 is done!\n",
      "11p4 is done!\n"
     ]
    }
   ],
   "source": [
    "speeds=[0.06528, 0.06852, 0.07824, 0.09768, 0.10092, 0.11064, 0.12036, 0.13008, 0.16248, 0.17868]\n",
    "for i in speeds:\n",
    "    folder = speed_to_folder(i)\n",
    "    final_df = get_files_list(i)\n",
    "    final_df.to_pickle(f\"/mnt/d/sources/data/DL-PTV/Engineered/{folder}.pkl\", compression='zip')\n",
    "    print(f\"{folder} is done!\")"
   ],
   "metadata": {
    "collapsed": false
   }
  },
  {
   "cell_type": "code",
   "execution_count": 13,
   "outputs": [],
   "source": [
    "final_df.to_pickle(f\"/mnt/d/sources/data/DL-PTV/Engineered/{folder}.pkl\", compression='zip')"
   ],
   "metadata": {
    "collapsed": false
   }
  },
  {
   "cell_type": "code",
   "execution_count": null,
   "outputs": [],
   "source": [],
   "metadata": {
    "collapsed": false
   }
  },
  {
   "cell_type": "markdown",
   "source": [
    "## Test"
   ],
   "metadata": {
    "collapsed": false
   }
  },
  {
   "cell_type": "code",
   "execution_count": 4,
   "outputs": [],
   "source": [
    "path = \"/mnt/d/sources/data/DL-PTV/Engineered/\""
   ],
   "metadata": {
    "collapsed": false
   }
  },
  {
   "cell_type": "code",
   "execution_count": 7,
   "outputs": [],
   "source": [
    "df1 = pd.read_pickle(path + \"multiple_speeds.pkl\", compression=\"zip\")"
   ],
   "metadata": {
    "collapsed": false
   }
  },
  {
   "cell_type": "code",
   "execution_count": 12,
   "outputs": [
    {
     "data": {
      "text/plain": "array([ 5.232,  6.528,  6.852,  7.824,  9.768, 10.092])"
     },
     "execution_count": 12,
     "metadata": {},
     "output_type": "execute_result"
    }
   ],
   "source": [
    "# t = df1.sort_index().head(1200)\n",
    "# df1.iloc[:500]\n",
    "df1[\"speed\"].unique()"
   ],
   "metadata": {
    "collapsed": false
   }
  },
  {
   "cell_type": "code",
   "execution_count": 11,
   "outputs": [
    {
     "data": {
      "text/plain": "            x     y     z    vx    vy    vz    px    py    pz  distance  speed\n50686  -117.0  87.0 -33.0  0.56  0.04  0.02  1.68 -9.85 -2.00     150.0  6.528\n50687  -113.0  87.0 -33.0  0.56  0.04  0.02  2.40 -9.85 -2.03     146.0  6.528\n50688  -109.0  87.0 -33.0  0.56  0.04  0.03  2.85 -9.66 -1.83     143.0  6.528\n50689  -105.0  87.0 -33.0  0.56  0.05  0.03  3.08 -9.24 -1.37     140.0  6.528\n50690  -101.0  87.0 -33.0  0.56  0.05  0.02  3.21 -8.61 -0.67     137.0  6.528\n...       ...   ...   ...   ...   ...   ...   ...   ...   ...       ...    ...\n101367  109.0 -83.0  34.0  0.55 -0.02  0.07 -1.12 -0.49  6.93     141.0  6.528\n101368  113.0 -83.0  34.0  0.54 -0.02  0.07 -0.45 -0.72  6.32     144.0  6.528\n101369  117.0 -83.0  34.0  0.54 -0.02  0.07  0.29 -0.90  5.79     147.0  6.528\n101370  121.0 -83.0  34.0  0.53 -0.02  0.07  1.08 -1.08  5.34     151.0  6.528\n101371  125.0 -83.0  34.0  0.53 -0.02  0.07  1.88 -1.29  4.96     154.0  6.528\n\n[50686 rows x 11 columns]",
      "text/html": "<div>\n<style scoped>\n    .dataframe tbody tr th:only-of-type {\n        vertical-align: middle;\n    }\n\n    .dataframe tbody tr th {\n        vertical-align: top;\n    }\n\n    .dataframe thead th {\n        text-align: right;\n    }\n</style>\n<table border=\"1\" class=\"dataframe\">\n  <thead>\n    <tr style=\"text-align: right;\">\n      <th></th>\n      <th>x</th>\n      <th>y</th>\n      <th>z</th>\n      <th>vx</th>\n      <th>vy</th>\n      <th>vz</th>\n      <th>px</th>\n      <th>py</th>\n      <th>pz</th>\n      <th>distance</th>\n      <th>speed</th>\n    </tr>\n  </thead>\n  <tbody>\n    <tr>\n      <th>50686</th>\n      <td>-117.0</td>\n      <td>87.0</td>\n      <td>-33.0</td>\n      <td>0.56</td>\n      <td>0.04</td>\n      <td>0.02</td>\n      <td>1.68</td>\n      <td>-9.85</td>\n      <td>-2.00</td>\n      <td>150.0</td>\n      <td>6.528</td>\n    </tr>\n    <tr>\n      <th>50687</th>\n      <td>-113.0</td>\n      <td>87.0</td>\n      <td>-33.0</td>\n      <td>0.56</td>\n      <td>0.04</td>\n      <td>0.02</td>\n      <td>2.40</td>\n      <td>-9.85</td>\n      <td>-2.03</td>\n      <td>146.0</td>\n      <td>6.528</td>\n    </tr>\n    <tr>\n      <th>50688</th>\n      <td>-109.0</td>\n      <td>87.0</td>\n      <td>-33.0</td>\n      <td>0.56</td>\n      <td>0.04</td>\n      <td>0.03</td>\n      <td>2.85</td>\n      <td>-9.66</td>\n      <td>-1.83</td>\n      <td>143.0</td>\n      <td>6.528</td>\n    </tr>\n    <tr>\n      <th>50689</th>\n      <td>-105.0</td>\n      <td>87.0</td>\n      <td>-33.0</td>\n      <td>0.56</td>\n      <td>0.05</td>\n      <td>0.03</td>\n      <td>3.08</td>\n      <td>-9.24</td>\n      <td>-1.37</td>\n      <td>140.0</td>\n      <td>6.528</td>\n    </tr>\n    <tr>\n      <th>50690</th>\n      <td>-101.0</td>\n      <td>87.0</td>\n      <td>-33.0</td>\n      <td>0.56</td>\n      <td>0.05</td>\n      <td>0.02</td>\n      <td>3.21</td>\n      <td>-8.61</td>\n      <td>-0.67</td>\n      <td>137.0</td>\n      <td>6.528</td>\n    </tr>\n    <tr>\n      <th>...</th>\n      <td>...</td>\n      <td>...</td>\n      <td>...</td>\n      <td>...</td>\n      <td>...</td>\n      <td>...</td>\n      <td>...</td>\n      <td>...</td>\n      <td>...</td>\n      <td>...</td>\n      <td>...</td>\n    </tr>\n    <tr>\n      <th>101367</th>\n      <td>109.0</td>\n      <td>-83.0</td>\n      <td>34.0</td>\n      <td>0.55</td>\n      <td>-0.02</td>\n      <td>0.07</td>\n      <td>-1.12</td>\n      <td>-0.49</td>\n      <td>6.93</td>\n      <td>141.0</td>\n      <td>6.528</td>\n    </tr>\n    <tr>\n      <th>101368</th>\n      <td>113.0</td>\n      <td>-83.0</td>\n      <td>34.0</td>\n      <td>0.54</td>\n      <td>-0.02</td>\n      <td>0.07</td>\n      <td>-0.45</td>\n      <td>-0.72</td>\n      <td>6.32</td>\n      <td>144.0</td>\n      <td>6.528</td>\n    </tr>\n    <tr>\n      <th>101369</th>\n      <td>117.0</td>\n      <td>-83.0</td>\n      <td>34.0</td>\n      <td>0.54</td>\n      <td>-0.02</td>\n      <td>0.07</td>\n      <td>0.29</td>\n      <td>-0.90</td>\n      <td>5.79</td>\n      <td>147.0</td>\n      <td>6.528</td>\n    </tr>\n    <tr>\n      <th>101370</th>\n      <td>121.0</td>\n      <td>-83.0</td>\n      <td>34.0</td>\n      <td>0.53</td>\n      <td>-0.02</td>\n      <td>0.07</td>\n      <td>1.08</td>\n      <td>-1.08</td>\n      <td>5.34</td>\n      <td>151.0</td>\n      <td>6.528</td>\n    </tr>\n    <tr>\n      <th>101371</th>\n      <td>125.0</td>\n      <td>-83.0</td>\n      <td>34.0</td>\n      <td>0.53</td>\n      <td>-0.02</td>\n      <td>0.07</td>\n      <td>1.88</td>\n      <td>-1.29</td>\n      <td>4.96</td>\n      <td>154.0</td>\n      <td>6.528</td>\n    </tr>\n  </tbody>\n</table>\n<p>50686 rows × 11 columns</p>\n</div>"
     },
     "execution_count": 11,
     "metadata": {},
     "output_type": "execute_result"
    }
   ],
   "source": [
    "df1[np.isclose(df1[\"speed\"],6.5280)]"
   ],
   "metadata": {
    "collapsed": false
   }
  },
  {
   "cell_type": "code",
   "execution_count": 35,
   "outputs": [
    {
     "name": "stdout",
     "output_type": "stream",
     "text": [
      "5.232 is done!\n",
      "6.528 is done!\n",
      "6.852 is done!\n",
      "7.824 is done!\n",
      "9.768 is done!\n",
      "10.092 is done!\n"
     ]
    }
   ],
   "source": [
    "path = \"/mnt/d/sources/data/DL-PTV/Engineered/multiple_speeds.pkl\"\n",
    "speeds = [ 5.232,  6.528,  6.852,  7.824,  9.768, 10.092]\n",
    "\n",
    "data = []\n",
    "df = pd.read_pickle(path, compression=\"zip\")\n",
    "for speed in speeds:\n",
    "    frame= df[np.isclose(df[\"speed\"],speed)]\n",
    "    data.append(frame.iloc[:500])\n",
    "    print(str(speed)+\" is done!\")\n",
    "\n",
    "df_speeds = pd.concat(data, ignore_index=True)\n",
    "df_speeds.columns=[\"x\",\"y\",\"z\",\"vx\",\"vy\",\"vz\",\"px\",\"py\",\"pz\",\"distance\", \"speed\"]\n",
    "df_speeds.to_pickle(f\"/mnt/d/sources/data/DL-PTV/Engineered/multiple_speeds_500.pkl\", compression='zip')"
   ],
   "metadata": {
    "collapsed": false
   }
  },
  {
   "cell_type": "code",
   "execution_count": 36,
   "outputs": [
    {
     "data": {
      "text/plain": "array([ 5.232,  6.528,  6.852,  7.824,  9.768, 10.092])"
     },
     "execution_count": 36,
     "metadata": {},
     "output_type": "execute_result"
    }
   ],
   "source": [
    "df = pd.read_pickle(\"/mnt/d/sources/data/DL-PTV/Engineered/multiple_speeds_500.pkl\", compression=\"zip\")\n",
    "df[\"speed\"].unique()"
   ],
   "metadata": {
    "collapsed": false
   }
  },
  {
   "cell_type": "code",
   "execution_count": null,
   "outputs": [],
   "source": [
    "path = \"/mnt/d/sources/data/DL-PTV/Engineered/\"\n",
    "files = [\"3p6.pkl\", \"4p4.pkl\", \"4p6.pkl\", \"5p2.pkl\", \"6p4.pkl\", \"6p6.pkl\"]\n",
    "speeds=[0.05232, 0.06528, 0.06852, 0.07824, 0.09768, 0.10092]\n",
    "data = []\n",
    "j=0\n",
    "for i in files:\n",
    "    frame = pd.read_pickle(path + i, compression=\"zip\")\n",
    "    frame[\"speed\"] = speeds[j]*100\n",
    "    frame = frame[frame[\"time\"]==300]\n",
    "    data.append(frame.iloc[:500])\n",
    "    j+=1\n",
    "    print(i+\" is done!\")\n",
    "\n",
    "df_speeds = pd.concat(data, ignore_index=True)\n",
    "df_speeds.columns=[\"x\",\"y\",\"z\",\"vx\",\"vy\",\"vz\",\"px\",\"py\",\"pz\",\"time\",\"distance\", \"speed\"]\n",
    "df_speeds.to_pickle(f\"/mnt/d/sources/data/DL-PTV/Engineered/multiple_speeds_500.pkl\", compression='zip')"
   ],
   "metadata": {
    "collapsed": false,
    "pycharm": {
     "is_executing": true
    }
   }
  },
  {
   "cell_type": "code",
   "execution_count": 17,
   "outputs": [],
   "source": [
    "df_speeds[\"speed\"] = df_speeds[\"speed\"].round(decimals=2)"
   ],
   "metadata": {
    "collapsed": false
   }
  },
  {
   "cell_type": "code",
   "execution_count": 64,
   "outputs": [
    {
     "data": {
      "text/plain": "                   vx  vy  vz  px  py  pz  distance  speed\nx      y    z                                             \n-125.0 59.0 -33.0   6   4   6   6   6   6         1      6\n       63.0 -33.0   6   4   5   6   6   6         1      6\n       67.0 -33.0   6   4   4   6   6   6         1      6\n       71.0 -33.0   6   2   5   6   6   6         1      6\n       75.0 -33.0   6   4   4   6   6   6         1      6\n...                ..  ..  ..  ..  ..  ..       ...    ...\n 125.0 71.0 -33.0   6   6   5   6   6   6         1      6\n       75.0 -33.0   6   6   5   6   6   6         1      6\n       79.0 -33.0   6   5   6   6   6   6         1      6\n       83.0 -33.0   6   5   6   6   6   6         1      6\n       87.0 -33.0   6   6   6   6   6   6         1      6\n\n[500 rows x 8 columns]",
      "text/html": "<div>\n<style scoped>\n    .dataframe tbody tr th:only-of-type {\n        vertical-align: middle;\n    }\n\n    .dataframe tbody tr th {\n        vertical-align: top;\n    }\n\n    .dataframe thead th {\n        text-align: right;\n    }\n</style>\n<table border=\"1\" class=\"dataframe\">\n  <thead>\n    <tr style=\"text-align: right;\">\n      <th></th>\n      <th></th>\n      <th></th>\n      <th>vx</th>\n      <th>vy</th>\n      <th>vz</th>\n      <th>px</th>\n      <th>py</th>\n      <th>pz</th>\n      <th>distance</th>\n      <th>speed</th>\n    </tr>\n    <tr>\n      <th>x</th>\n      <th>y</th>\n      <th>z</th>\n      <th></th>\n      <th></th>\n      <th></th>\n      <th></th>\n      <th></th>\n      <th></th>\n      <th></th>\n      <th></th>\n    </tr>\n  </thead>\n  <tbody>\n    <tr>\n      <th rowspan=\"5\" valign=\"top\">-125.0</th>\n      <th>59.0</th>\n      <th>-33.0</th>\n      <td>6</td>\n      <td>4</td>\n      <td>6</td>\n      <td>6</td>\n      <td>6</td>\n      <td>6</td>\n      <td>1</td>\n      <td>6</td>\n    </tr>\n    <tr>\n      <th>63.0</th>\n      <th>-33.0</th>\n      <td>6</td>\n      <td>4</td>\n      <td>5</td>\n      <td>6</td>\n      <td>6</td>\n      <td>6</td>\n      <td>1</td>\n      <td>6</td>\n    </tr>\n    <tr>\n      <th>67.0</th>\n      <th>-33.0</th>\n      <td>6</td>\n      <td>4</td>\n      <td>4</td>\n      <td>6</td>\n      <td>6</td>\n      <td>6</td>\n      <td>1</td>\n      <td>6</td>\n    </tr>\n    <tr>\n      <th>71.0</th>\n      <th>-33.0</th>\n      <td>6</td>\n      <td>2</td>\n      <td>5</td>\n      <td>6</td>\n      <td>6</td>\n      <td>6</td>\n      <td>1</td>\n      <td>6</td>\n    </tr>\n    <tr>\n      <th>75.0</th>\n      <th>-33.0</th>\n      <td>6</td>\n      <td>4</td>\n      <td>4</td>\n      <td>6</td>\n      <td>6</td>\n      <td>6</td>\n      <td>1</td>\n      <td>6</td>\n    </tr>\n    <tr>\n      <th>...</th>\n      <th>...</th>\n      <th>...</th>\n      <td>...</td>\n      <td>...</td>\n      <td>...</td>\n      <td>...</td>\n      <td>...</td>\n      <td>...</td>\n      <td>...</td>\n      <td>...</td>\n    </tr>\n    <tr>\n      <th rowspan=\"5\" valign=\"top\">125.0</th>\n      <th>71.0</th>\n      <th>-33.0</th>\n      <td>6</td>\n      <td>6</td>\n      <td>5</td>\n      <td>6</td>\n      <td>6</td>\n      <td>6</td>\n      <td>1</td>\n      <td>6</td>\n    </tr>\n    <tr>\n      <th>75.0</th>\n      <th>-33.0</th>\n      <td>6</td>\n      <td>6</td>\n      <td>5</td>\n      <td>6</td>\n      <td>6</td>\n      <td>6</td>\n      <td>1</td>\n      <td>6</td>\n    </tr>\n    <tr>\n      <th>79.0</th>\n      <th>-33.0</th>\n      <td>6</td>\n      <td>5</td>\n      <td>6</td>\n      <td>6</td>\n      <td>6</td>\n      <td>6</td>\n      <td>1</td>\n      <td>6</td>\n    </tr>\n    <tr>\n      <th>83.0</th>\n      <th>-33.0</th>\n      <td>6</td>\n      <td>5</td>\n      <td>6</td>\n      <td>6</td>\n      <td>6</td>\n      <td>6</td>\n      <td>1</td>\n      <td>6</td>\n    </tr>\n    <tr>\n      <th>87.0</th>\n      <th>-33.0</th>\n      <td>6</td>\n      <td>6</td>\n      <td>6</td>\n      <td>6</td>\n      <td>6</td>\n      <td>6</td>\n      <td>1</td>\n      <td>6</td>\n    </tr>\n  </tbody>\n</table>\n<p>500 rows × 8 columns</p>\n</div>"
     },
     "execution_count": 64,
     "metadata": {},
     "output_type": "execute_result"
    }
   ],
   "source": [
    "# df_speeds.groupby([\"x\",\"y\",\"z\"]).nunique()\n",
    "import itertools\n",
    "# Create a list of column names\n",
    "cols = ['x', 'y', 'z']\n",
    "\n",
    "# Generate all unique combinations of three columns\n",
    "combinations = list(itertools.combinations(cols, 3))\n",
    "\n",
    "# Print the list of combinations\n",
    "print(combinations)"
   ],
   "metadata": {
    "collapsed": false
   }
  },
  {
   "cell_type": "code",
   "execution_count": 50,
   "outputs": [
    {
     "data": {
      "text/plain": "        x      y      z\n0  -117.0   87.0  -33.0\n1    87.0  -33.0 -113.0\n2   -33.0 -113.0 -109.0\n3  -113.0 -109.0 -105.0\n4  -109.0 -105.0 -101.0\n..    ...    ...    ...\n66 -121.0   79.0   75.0\n67   79.0   75.0   71.0\n68   75.0   71.0   67.0\n69   71.0   67.0   63.0\n70   67.0   63.0   59.0\n\n[71 rows x 3 columns]",
      "text/html": "<div>\n<style scoped>\n    .dataframe tbody tr th:only-of-type {\n        vertical-align: middle;\n    }\n\n    .dataframe tbody tr th {\n        vertical-align: top;\n    }\n\n    .dataframe thead th {\n        text-align: right;\n    }\n</style>\n<table border=\"1\" class=\"dataframe\">\n  <thead>\n    <tr style=\"text-align: right;\">\n      <th></th>\n      <th>x</th>\n      <th>y</th>\n      <th>z</th>\n    </tr>\n  </thead>\n  <tbody>\n    <tr>\n      <th>0</th>\n      <td>-117.0</td>\n      <td>87.0</td>\n      <td>-33.0</td>\n    </tr>\n    <tr>\n      <th>1</th>\n      <td>87.0</td>\n      <td>-33.0</td>\n      <td>-113.0</td>\n    </tr>\n    <tr>\n      <th>2</th>\n      <td>-33.0</td>\n      <td>-113.0</td>\n      <td>-109.0</td>\n    </tr>\n    <tr>\n      <th>3</th>\n      <td>-113.0</td>\n      <td>-109.0</td>\n      <td>-105.0</td>\n    </tr>\n    <tr>\n      <th>4</th>\n      <td>-109.0</td>\n      <td>-105.0</td>\n      <td>-101.0</td>\n    </tr>\n    <tr>\n      <th>...</th>\n      <td>...</td>\n      <td>...</td>\n      <td>...</td>\n    </tr>\n    <tr>\n      <th>66</th>\n      <td>-121.0</td>\n      <td>79.0</td>\n      <td>75.0</td>\n    </tr>\n    <tr>\n      <th>67</th>\n      <td>79.0</td>\n      <td>75.0</td>\n      <td>71.0</td>\n    </tr>\n    <tr>\n      <th>68</th>\n      <td>75.0</td>\n      <td>71.0</td>\n      <td>67.0</td>\n    </tr>\n    <tr>\n      <th>69</th>\n      <td>71.0</td>\n      <td>67.0</td>\n      <td>63.0</td>\n    </tr>\n    <tr>\n      <th>70</th>\n      <td>67.0</td>\n      <td>63.0</td>\n      <td>59.0</td>\n    </tr>\n  </tbody>\n</table>\n<p>71 rows × 3 columns</p>\n</div>"
     },
     "execution_count": 50,
     "metadata": {},
     "output_type": "execute_result"
    }
   ],
   "source": [
    "a = pd.unique(df_speeds[[\"x\",\"y\",\"z\"]].values.ravel())\n",
    "dic = []\n",
    "df_p = pd.DataFrame(columns=[\"x\",\"y\",\"z\"])\n",
    "for i in range(len(a)-2):\n",
    "\n",
    "    dic.append([a[i], a[i+1], a[i+2]])\n",
    "    df_p.loc[len(df_p.index)] = [a[i], a[i+1], a[i+2]]\n",
    "\n",
    "# df_position = pd.concat(dic, ignore_index=True)\n",
    "# df_position.columns=[\"x\",\"y\",\"z\"]\n",
    "# df_position\n",
    "df_p"
   ],
   "metadata": {
    "collapsed": false
   }
  },
  {
   "cell_type": "code",
   "execution_count": 60,
   "outputs": [
    {
     "data": {
      "text/plain": "x           500\ny           500\nz           500\nvx          500\nvy          500\nvz          500\npx          500\npy          500\npz          500\ndistance    500\nspeed       500\ndtype: int64"
     },
     "execution_count": 60,
     "metadata": {},
     "output_type": "execute_result"
    }
   ],
   "source": [
    "df_speeds[df_speeds[\"speed\"]==5.232].count()"
   ],
   "metadata": {
    "collapsed": false
   }
  },
  {
   "cell_type": "code",
   "execution_count": 58,
   "outputs": [
    {
     "data": {
      "text/plain": "          x     y     z    vx    vy    vz    px    py    pz  distance   speed\n0    -117.0  87.0 -33.0  0.47  0.03  0.03  1.90 -0.53  0.57     150.0   5.232\n1    -113.0  87.0 -33.0  0.47  0.04  0.03  2.00 -0.34  0.76     146.0   5.232\n2    -109.0  87.0 -33.0  0.47  0.04  0.02  2.16 -0.05  0.95     143.0   5.232\n3    -105.0  87.0 -33.0  0.47  0.04  0.02  2.33  0.27  1.10     140.0   5.232\n4    -101.0  87.0 -33.0  0.48  0.04  0.01  2.48  0.49  1.17     137.0   5.232\n...     ...   ...   ...   ...   ...   ...   ...   ...   ...       ...     ...\n2995   69.0  59.0 -33.0  0.92  0.00  0.01  8.11  4.51  5.62      97.0  10.092\n2996   73.0  59.0 -33.0  0.92  0.00 -0.00  8.43  4.03  0.78     100.0  10.092\n2997   77.0  59.0 -33.0  0.92  0.00  0.00  7.10  3.69 -3.44     103.0  10.092\n2998   81.0  59.0 -33.0  0.92  0.00  0.02  4.09  3.58 -6.29     106.0  10.092\n2999   85.0  59.0 -33.0  0.91  0.00  0.05  0.02  3.67 -7.39     109.0  10.092\n\n[3000 rows x 11 columns]",
      "text/html": "<div>\n<style scoped>\n    .dataframe tbody tr th:only-of-type {\n        vertical-align: middle;\n    }\n\n    .dataframe tbody tr th {\n        vertical-align: top;\n    }\n\n    .dataframe thead th {\n        text-align: right;\n    }\n</style>\n<table border=\"1\" class=\"dataframe\">\n  <thead>\n    <tr style=\"text-align: right;\">\n      <th></th>\n      <th>x</th>\n      <th>y</th>\n      <th>z</th>\n      <th>vx</th>\n      <th>vy</th>\n      <th>vz</th>\n      <th>px</th>\n      <th>py</th>\n      <th>pz</th>\n      <th>distance</th>\n      <th>speed</th>\n    </tr>\n  </thead>\n  <tbody>\n    <tr>\n      <th>0</th>\n      <td>-117.0</td>\n      <td>87.0</td>\n      <td>-33.0</td>\n      <td>0.47</td>\n      <td>0.03</td>\n      <td>0.03</td>\n      <td>1.90</td>\n      <td>-0.53</td>\n      <td>0.57</td>\n      <td>150.0</td>\n      <td>5.232</td>\n    </tr>\n    <tr>\n      <th>1</th>\n      <td>-113.0</td>\n      <td>87.0</td>\n      <td>-33.0</td>\n      <td>0.47</td>\n      <td>0.04</td>\n      <td>0.03</td>\n      <td>2.00</td>\n      <td>-0.34</td>\n      <td>0.76</td>\n      <td>146.0</td>\n      <td>5.232</td>\n    </tr>\n    <tr>\n      <th>2</th>\n      <td>-109.0</td>\n      <td>87.0</td>\n      <td>-33.0</td>\n      <td>0.47</td>\n      <td>0.04</td>\n      <td>0.02</td>\n      <td>2.16</td>\n      <td>-0.05</td>\n      <td>0.95</td>\n      <td>143.0</td>\n      <td>5.232</td>\n    </tr>\n    <tr>\n      <th>3</th>\n      <td>-105.0</td>\n      <td>87.0</td>\n      <td>-33.0</td>\n      <td>0.47</td>\n      <td>0.04</td>\n      <td>0.02</td>\n      <td>2.33</td>\n      <td>0.27</td>\n      <td>1.10</td>\n      <td>140.0</td>\n      <td>5.232</td>\n    </tr>\n    <tr>\n      <th>4</th>\n      <td>-101.0</td>\n      <td>87.0</td>\n      <td>-33.0</td>\n      <td>0.48</td>\n      <td>0.04</td>\n      <td>0.01</td>\n      <td>2.48</td>\n      <td>0.49</td>\n      <td>1.17</td>\n      <td>137.0</td>\n      <td>5.232</td>\n    </tr>\n    <tr>\n      <th>...</th>\n      <td>...</td>\n      <td>...</td>\n      <td>...</td>\n      <td>...</td>\n      <td>...</td>\n      <td>...</td>\n      <td>...</td>\n      <td>...</td>\n      <td>...</td>\n      <td>...</td>\n      <td>...</td>\n    </tr>\n    <tr>\n      <th>2995</th>\n      <td>69.0</td>\n      <td>59.0</td>\n      <td>-33.0</td>\n      <td>0.92</td>\n      <td>0.00</td>\n      <td>0.01</td>\n      <td>8.11</td>\n      <td>4.51</td>\n      <td>5.62</td>\n      <td>97.0</td>\n      <td>10.092</td>\n    </tr>\n    <tr>\n      <th>2996</th>\n      <td>73.0</td>\n      <td>59.0</td>\n      <td>-33.0</td>\n      <td>0.92</td>\n      <td>0.00</td>\n      <td>-0.00</td>\n      <td>8.43</td>\n      <td>4.03</td>\n      <td>0.78</td>\n      <td>100.0</td>\n      <td>10.092</td>\n    </tr>\n    <tr>\n      <th>2997</th>\n      <td>77.0</td>\n      <td>59.0</td>\n      <td>-33.0</td>\n      <td>0.92</td>\n      <td>0.00</td>\n      <td>0.00</td>\n      <td>7.10</td>\n      <td>3.69</td>\n      <td>-3.44</td>\n      <td>103.0</td>\n      <td>10.092</td>\n    </tr>\n    <tr>\n      <th>2998</th>\n      <td>81.0</td>\n      <td>59.0</td>\n      <td>-33.0</td>\n      <td>0.92</td>\n      <td>0.00</td>\n      <td>0.02</td>\n      <td>4.09</td>\n      <td>3.58</td>\n      <td>-6.29</td>\n      <td>106.0</td>\n      <td>10.092</td>\n    </tr>\n    <tr>\n      <th>2999</th>\n      <td>85.0</td>\n      <td>59.0</td>\n      <td>-33.0</td>\n      <td>0.91</td>\n      <td>0.00</td>\n      <td>0.05</td>\n      <td>0.02</td>\n      <td>3.67</td>\n      <td>-7.39</td>\n      <td>109.0</td>\n      <td>10.092</td>\n    </tr>\n  </tbody>\n</table>\n<p>3000 rows × 11 columns</p>\n</div>"
     },
     "execution_count": 58,
     "metadata": {},
     "output_type": "execute_result"
    }
   ],
   "source": [
    "df_speeds"
   ],
   "metadata": {
    "collapsed": false
   }
  },
  {
   "cell_type": "code",
   "execution_count": 66,
   "outputs": [],
   "source": [
    "df_speeds.drop([\"time\"], axis=1, inplace=True)"
   ],
   "metadata": {
    "collapsed": false
   }
  },
  {
   "cell_type": "code",
   "execution_count": 67,
   "outputs": [
    {
     "data": {
      "text/plain": "(304116, 11)"
     },
     "execution_count": 67,
     "metadata": {},
     "output_type": "execute_result"
    }
   ],
   "source": [
    "df_speeds.shape"
   ],
   "metadata": {
    "collapsed": false
   }
  },
  {
   "cell_type": "code",
   "execution_count": 68,
   "outputs": [],
   "source": [
    "df_speeds.to_pickle(f\"/mnt/d/sources/data/DL-PTV/Engineered/multiple_speeds.pkl\", compression='zip')"
   ],
   "metadata": {
    "collapsed": false
   }
  },
  {
   "cell_type": "code",
   "execution_count": null,
   "outputs": [],
   "source": [],
   "metadata": {
    "collapsed": false
   }
  },
  {
   "cell_type": "code",
   "execution_count": null,
   "outputs": [],
   "source": [],
   "metadata": {
    "collapsed": false
   }
  },
  {
   "cell_type": "code",
   "execution_count": 8,
   "outputs": [],
   "source": [
    "t.to_pickle(f\"/mnt/d/sources/data/DL-PTV/Engineered/test.pkl\", compression='zip')"
   ],
   "metadata": {
    "collapsed": false
   }
  },
  {
   "cell_type": "code",
   "execution_count": 135,
   "outputs": [],
   "source": [
    "df = df1.loc[df1[\"time\"]<3]"
   ],
   "metadata": {
    "collapsed": false
   }
  },
  {
   "cell_type": "code",
   "execution_count": 136,
   "outputs": [],
   "source": [
    "x_values = df[\"x\"].unique()\n",
    "y_values = df[\"y\"].unique()\n",
    "z_values = df[\"z\"].unique()"
   ],
   "metadata": {
    "collapsed": false
   }
  },
  {
   "cell_type": "code",
   "execution_count": 139,
   "outputs": [],
   "source": [
    "df = add_transformed_values(df, x_values,\"x\")\n",
    "df = add_transformed_values(df, y_values,\"y\")\n",
    "df = add_transformed_values(df, z_values,\"z\")"
   ],
   "metadata": {
    "collapsed": false
   }
  },
  {
   "cell_type": "code",
   "execution_count": 140,
   "outputs": [
    {
     "data": {
      "text/plain": "            x          y          z        vx        vy        vz  time  \\\n0 -125.078910  86.888915 -33.059413  0.049976  0.002444  0.009331     1   \n1 -121.116733  86.888915 -33.059413  0.049832  0.002287  0.009501     1   \n2 -117.154557  86.888915 -33.059413  0.049630  0.002129  0.009603     1   \n3 -113.192381  86.888915 -33.059413  0.049365  0.001991  0.009568     1   \n4 -109.230205  86.888915 -33.059413  0.049041  0.001901  0.009327     1   \n\n   transformed_x  transformed_y  transformed_z  \n0          -32.0          -22.0           -9.0  \n1          -31.0          -22.0           -9.0  \n2          -30.0          -22.0           -9.0  \n3          -29.0          -22.0           -9.0  \n4          -28.0          -22.0           -9.0  ",
      "text/html": "<div>\n<style scoped>\n    .dataframe tbody tr th:only-of-type {\n        vertical-align: middle;\n    }\n\n    .dataframe tbody tr th {\n        vertical-align: top;\n    }\n\n    .dataframe thead th {\n        text-align: right;\n    }\n</style>\n<table border=\"1\" class=\"dataframe\">\n  <thead>\n    <tr style=\"text-align: right;\">\n      <th></th>\n      <th>x</th>\n      <th>y</th>\n      <th>z</th>\n      <th>vx</th>\n      <th>vy</th>\n      <th>vz</th>\n      <th>time</th>\n      <th>transformed_x</th>\n      <th>transformed_y</th>\n      <th>transformed_z</th>\n    </tr>\n  </thead>\n  <tbody>\n    <tr>\n      <th>0</th>\n      <td>-125.078910</td>\n      <td>86.888915</td>\n      <td>-33.059413</td>\n      <td>0.049976</td>\n      <td>0.002444</td>\n      <td>0.009331</td>\n      <td>1</td>\n      <td>-32.0</td>\n      <td>-22.0</td>\n      <td>-9.0</td>\n    </tr>\n    <tr>\n      <th>1</th>\n      <td>-121.116733</td>\n      <td>86.888915</td>\n      <td>-33.059413</td>\n      <td>0.049832</td>\n      <td>0.002287</td>\n      <td>0.009501</td>\n      <td>1</td>\n      <td>-31.0</td>\n      <td>-22.0</td>\n      <td>-9.0</td>\n    </tr>\n    <tr>\n      <th>2</th>\n      <td>-117.154557</td>\n      <td>86.888915</td>\n      <td>-33.059413</td>\n      <td>0.049630</td>\n      <td>0.002129</td>\n      <td>0.009603</td>\n      <td>1</td>\n      <td>-30.0</td>\n      <td>-22.0</td>\n      <td>-9.0</td>\n    </tr>\n    <tr>\n      <th>3</th>\n      <td>-113.192381</td>\n      <td>86.888915</td>\n      <td>-33.059413</td>\n      <td>0.049365</td>\n      <td>0.001991</td>\n      <td>0.009568</td>\n      <td>1</td>\n      <td>-29.0</td>\n      <td>-22.0</td>\n      <td>-9.0</td>\n    </tr>\n    <tr>\n      <th>4</th>\n      <td>-109.230205</td>\n      <td>86.888915</td>\n      <td>-33.059413</td>\n      <td>0.049041</td>\n      <td>0.001901</td>\n      <td>0.009327</td>\n      <td>1</td>\n      <td>-28.0</td>\n      <td>-22.0</td>\n      <td>-9.0</td>\n    </tr>\n  </tbody>\n</table>\n</div>"
     },
     "execution_count": 140,
     "metadata": {},
     "output_type": "execute_result"
    }
   ],
   "source": [
    "df.head()"
   ],
   "metadata": {
    "collapsed": false
   }
  },
  {
   "cell_type": "code",
   "execution_count": null,
   "outputs": [],
   "source": [
    "final_df.to_pickle(f\"/mnt/d/sources/data/DL-PTV/Engineered/{folder}.pkl\", compression='zip')"
   ],
   "metadata": {
    "collapsed": false
   }
  },
  {
   "cell_type": "code",
   "execution_count": 34,
   "outputs": [],
   "source": [
    "test = pd.read_pickle(\"/mnt/d/sources/data/DL-PTV/Engineered/test.pkl\", compression='zip')\n"
   ],
   "metadata": {
    "collapsed": false
   }
  },
  {
   "cell_type": "code",
   "execution_count": 41,
   "outputs": [],
   "source": [
    "labels= test.drop(test.columns.difference([\"x\",\"y\",\"z\",\"time\"]), axis=1).to_numpy()\n",
    "data = test.drop(test.columns.difference([\"vx\",\"vy\",\"vz\",\"px\",\"py\",\"pz\",\"distance\"]), axis=1)"
   ],
   "metadata": {
    "collapsed": false
   }
  },
  {
   "cell_type": "code",
   "execution_count": 45,
   "outputs": [
    {
     "data": {
      "text/plain": "array([[-117.,   87.,  -33.,  363.],\n       [-113.,   87.,  -33.,  363.],\n       [-109.,   87.,  -33.,  363.],\n       [-105.,   87.,  -33.,  363.],\n       [-101.,   87.,  -33.,  363.]])"
     },
     "execution_count": 45,
     "metadata": {},
     "output_type": "execute_result"
    }
   ],
   "source": [
    "labels[0:5]"
   ],
   "metadata": {
    "collapsed": false
   }
  },
  {
   "cell_type": "code",
   "execution_count": 43,
   "outputs": [],
   "source": [
    "test = test.to_numpy()"
   ],
   "metadata": {
    "collapsed": false
   }
  },
  {
   "cell_type": "code",
   "execution_count": 36,
   "outputs": [
    {
     "data": {
      "text/plain": "       x     y     z    vx    vy   vz    px    py    pz  time  distance\n0 -117.0  87.0 -33.0  0.46  0.02 -0.0  2.47 -2.39 -0.49   363     150.0\n1 -113.0  87.0 -33.0  0.46  0.02  0.0  2.54 -2.25 -0.54   363     146.0\n2 -109.0  87.0 -33.0  0.47  0.03  0.0  2.44 -2.00 -0.58   363     143.0\n3 -105.0  87.0 -33.0  0.47  0.03  0.0  2.21 -1.68 -0.61   363     140.0\n4 -101.0  87.0 -33.0  0.47  0.03  0.0  1.89 -1.36 -0.60   363     137.0",
      "text/html": "<div>\n<style scoped>\n    .dataframe tbody tr th:only-of-type {\n        vertical-align: middle;\n    }\n\n    .dataframe tbody tr th {\n        vertical-align: top;\n    }\n\n    .dataframe thead th {\n        text-align: right;\n    }\n</style>\n<table border=\"1\" class=\"dataframe\">\n  <thead>\n    <tr style=\"text-align: right;\">\n      <th></th>\n      <th>x</th>\n      <th>y</th>\n      <th>z</th>\n      <th>vx</th>\n      <th>vy</th>\n      <th>vz</th>\n      <th>px</th>\n      <th>py</th>\n      <th>pz</th>\n      <th>time</th>\n      <th>distance</th>\n    </tr>\n  </thead>\n  <tbody>\n    <tr>\n      <th>0</th>\n      <td>-117.0</td>\n      <td>87.0</td>\n      <td>-33.0</td>\n      <td>0.46</td>\n      <td>0.02</td>\n      <td>-0.0</td>\n      <td>2.47</td>\n      <td>-2.39</td>\n      <td>-0.49</td>\n      <td>363</td>\n      <td>150.0</td>\n    </tr>\n    <tr>\n      <th>1</th>\n      <td>-113.0</td>\n      <td>87.0</td>\n      <td>-33.0</td>\n      <td>0.46</td>\n      <td>0.02</td>\n      <td>0.0</td>\n      <td>2.54</td>\n      <td>-2.25</td>\n      <td>-0.54</td>\n      <td>363</td>\n      <td>146.0</td>\n    </tr>\n    <tr>\n      <th>2</th>\n      <td>-109.0</td>\n      <td>87.0</td>\n      <td>-33.0</td>\n      <td>0.47</td>\n      <td>0.03</td>\n      <td>0.0</td>\n      <td>2.44</td>\n      <td>-2.00</td>\n      <td>-0.58</td>\n      <td>363</td>\n      <td>143.0</td>\n    </tr>\n    <tr>\n      <th>3</th>\n      <td>-105.0</td>\n      <td>87.0</td>\n      <td>-33.0</td>\n      <td>0.47</td>\n      <td>0.03</td>\n      <td>0.0</td>\n      <td>2.21</td>\n      <td>-1.68</td>\n      <td>-0.61</td>\n      <td>363</td>\n      <td>140.0</td>\n    </tr>\n    <tr>\n      <th>4</th>\n      <td>-101.0</td>\n      <td>87.0</td>\n      <td>-33.0</td>\n      <td>0.47</td>\n      <td>0.03</td>\n      <td>0.0</td>\n      <td>1.89</td>\n      <td>-1.36</td>\n      <td>-0.60</td>\n      <td>363</td>\n      <td>137.0</td>\n    </tr>\n  </tbody>\n</table>\n</div>"
     },
     "execution_count": 36,
     "metadata": {},
     "output_type": "execute_result"
    }
   ],
   "source": [
    "test.head()"
   ],
   "metadata": {
    "collapsed": false
   }
  },
  {
   "cell_type": "code",
   "execution_count": 30,
   "outputs": [],
   "source": [
    "labels = np.concatenate((test[:, 0:3]))\n",
    "data = test[:, 3:]"
   ],
   "metadata": {
    "collapsed": false
   }
  },
  {
   "cell_type": "code",
   "execution_count": 31,
   "outputs": [
    {
     "data": {
      "text/plain": "array([[-117.,   87.,  -33.],\n       [-113.,   87.,  -33.]])"
     },
     "execution_count": 31,
     "metadata": {},
     "output_type": "execute_result"
    }
   ],
   "source": [
    "labels[0:2]"
   ],
   "metadata": {
    "collapsed": false
   }
  },
  {
   "cell_type": "code",
   "execution_count": 32,
   "outputs": [
    {
     "data": {
      "text/plain": "array([[ 4.60e-01,  2.00e-02, -0.00e+00,  2.47e+00, -2.39e+00, -4.90e-01,\n         3.63e+02,  1.50e+02],\n       [ 4.60e-01,  2.00e-02,  0.00e+00,  2.54e+00, -2.25e+00, -5.40e-01,\n         3.63e+02,  1.46e+02],\n       [ 4.70e-01,  3.00e-02,  0.00e+00,  2.44e+00, -2.00e+00, -5.80e-01,\n         3.63e+02,  1.43e+02]])"
     },
     "execution_count": 32,
     "metadata": {},
     "output_type": "execute_result"
    }
   ],
   "source": [
    "data[0:3]"
   ],
   "metadata": {
    "collapsed": false
   }
  },
  {
   "cell_type": "code",
   "execution_count": 65,
   "outputs": [],
   "source": [
    "df = pd.read_pickle(\"/mnt/d/sources/data/DL-PTV/Engineered/multiple_speeds_500.pkl\", compression=\"zip\")\n",
    "df_loc = pd.read_csv(\"/mnt/d/sources/data/DL-PTV/Engineered/loc.csv\")"
   ],
   "metadata": {
    "collapsed": false
   }
  },
  {
   "cell_type": "code",
   "execution_count": 66,
   "outputs": [],
   "source": [
    "result = pd.merge(df, df_loc, how=\"left\", on=[\"x\", \"y\", \"z\"])"
   ],
   "metadata": {
    "collapsed": false
   }
  },
  {
   "cell_type": "code",
   "execution_count": 67,
   "outputs": [
    {
     "data": {
      "text/plain": "       x     y     z    vx    vy    vz    px    py    pz  distance  speed  \\\n0 -117.0  87.0 -33.0  0.47  0.03  0.03  1.90 -0.53  0.57     150.0  5.232   \n1 -117.0  87.0 -33.0  0.47  0.03  0.03  1.90 -0.53  0.57     150.0  5.232   \n2 -113.0  87.0 -33.0  0.47  0.04  0.03  2.00 -0.34  0.76     146.0  5.232   \n3 -113.0  87.0 -33.0  0.47  0.04  0.03  2.00 -0.34  0.76     146.0  5.232   \n4 -109.0  87.0 -33.0  0.47  0.04  0.02  2.16 -0.05  0.95     143.0  5.232   \n\n   label  \n0      3  \n1  50691  \n2      4  \n3  50692  \n4      5  ",
      "text/html": "<div>\n<style scoped>\n    .dataframe tbody tr th:only-of-type {\n        vertical-align: middle;\n    }\n\n    .dataframe tbody tr th {\n        vertical-align: top;\n    }\n\n    .dataframe thead th {\n        text-align: right;\n    }\n</style>\n<table border=\"1\" class=\"dataframe\">\n  <thead>\n    <tr style=\"text-align: right;\">\n      <th></th>\n      <th>x</th>\n      <th>y</th>\n      <th>z</th>\n      <th>vx</th>\n      <th>vy</th>\n      <th>vz</th>\n      <th>px</th>\n      <th>py</th>\n      <th>pz</th>\n      <th>distance</th>\n      <th>speed</th>\n      <th>label</th>\n    </tr>\n  </thead>\n  <tbody>\n    <tr>\n      <th>0</th>\n      <td>-117.0</td>\n      <td>87.0</td>\n      <td>-33.0</td>\n      <td>0.47</td>\n      <td>0.03</td>\n      <td>0.03</td>\n      <td>1.90</td>\n      <td>-0.53</td>\n      <td>0.57</td>\n      <td>150.0</td>\n      <td>5.232</td>\n      <td>3</td>\n    </tr>\n    <tr>\n      <th>1</th>\n      <td>-117.0</td>\n      <td>87.0</td>\n      <td>-33.0</td>\n      <td>0.47</td>\n      <td>0.03</td>\n      <td>0.03</td>\n      <td>1.90</td>\n      <td>-0.53</td>\n      <td>0.57</td>\n      <td>150.0</td>\n      <td>5.232</td>\n      <td>50691</td>\n    </tr>\n    <tr>\n      <th>2</th>\n      <td>-113.0</td>\n      <td>87.0</td>\n      <td>-33.0</td>\n      <td>0.47</td>\n      <td>0.04</td>\n      <td>0.03</td>\n      <td>2.00</td>\n      <td>-0.34</td>\n      <td>0.76</td>\n      <td>146.0</td>\n      <td>5.232</td>\n      <td>4</td>\n    </tr>\n    <tr>\n      <th>3</th>\n      <td>-113.0</td>\n      <td>87.0</td>\n      <td>-33.0</td>\n      <td>0.47</td>\n      <td>0.04</td>\n      <td>0.03</td>\n      <td>2.00</td>\n      <td>-0.34</td>\n      <td>0.76</td>\n      <td>146.0</td>\n      <td>5.232</td>\n      <td>50692</td>\n    </tr>\n    <tr>\n      <th>4</th>\n      <td>-109.0</td>\n      <td>87.0</td>\n      <td>-33.0</td>\n      <td>0.47</td>\n      <td>0.04</td>\n      <td>0.02</td>\n      <td>2.16</td>\n      <td>-0.05</td>\n      <td>0.95</td>\n      <td>143.0</td>\n      <td>5.232</td>\n      <td>5</td>\n    </tr>\n  </tbody>\n</table>\n</div>"
     },
     "execution_count": 67,
     "metadata": {},
     "output_type": "execute_result"
    }
   ],
   "source": [
    "result.head()"
   ],
   "metadata": {
    "collapsed": false
   }
  },
  {
   "cell_type": "code",
   "execution_count": 69,
   "outputs": [
    {
     "data": {
      "text/plain": "1000"
     },
     "execution_count": 69,
     "metadata": {},
     "output_type": "execute_result"
    }
   ],
   "source": [
    "len(result.label.unique())"
   ],
   "metadata": {
    "collapsed": false
   }
  },
  {
   "cell_type": "code",
   "execution_count": 72,
   "outputs": [
    {
     "data": {
      "text/plain": "       x  y  z  vx  vy  vz  px  py  pz  distance  speed\nlabel                                                  \n3      6  6  6   6   6   6   6   6   6         6      6\n4      6  6  6   6   6   6   6   6   6         6      6\n5      6  6  6   6   6   6   6   6   6         6      6\n6      6  6  6   6   6   6   6   6   6         6      6\n7      6  6  6   6   6   6   6   6   6         6      6\n...   .. .. ..  ..  ..  ..  ..  ..  ..       ...    ...\n51186  6  6  6   6   6   6   6   6   6         6      6\n51187  6  6  6   6   6   6   6   6   6         6      6\n51188  6  6  6   6   6   6   6   6   6         6      6\n51189  6  6  6   6   6   6   6   6   6         6      6\n51190  6  6  6   6   6   6   6   6   6         6      6\n\n[1000 rows x 11 columns]",
      "text/html": "<div>\n<style scoped>\n    .dataframe tbody tr th:only-of-type {\n        vertical-align: middle;\n    }\n\n    .dataframe tbody tr th {\n        vertical-align: top;\n    }\n\n    .dataframe thead th {\n        text-align: right;\n    }\n</style>\n<table border=\"1\" class=\"dataframe\">\n  <thead>\n    <tr style=\"text-align: right;\">\n      <th></th>\n      <th>x</th>\n      <th>y</th>\n      <th>z</th>\n      <th>vx</th>\n      <th>vy</th>\n      <th>vz</th>\n      <th>px</th>\n      <th>py</th>\n      <th>pz</th>\n      <th>distance</th>\n      <th>speed</th>\n    </tr>\n    <tr>\n      <th>label</th>\n      <th></th>\n      <th></th>\n      <th></th>\n      <th></th>\n      <th></th>\n      <th></th>\n      <th></th>\n      <th></th>\n      <th></th>\n      <th></th>\n      <th></th>\n    </tr>\n  </thead>\n  <tbody>\n    <tr>\n      <th>3</th>\n      <td>6</td>\n      <td>6</td>\n      <td>6</td>\n      <td>6</td>\n      <td>6</td>\n      <td>6</td>\n      <td>6</td>\n      <td>6</td>\n      <td>6</td>\n      <td>6</td>\n      <td>6</td>\n    </tr>\n    <tr>\n      <th>4</th>\n      <td>6</td>\n      <td>6</td>\n      <td>6</td>\n      <td>6</td>\n      <td>6</td>\n      <td>6</td>\n      <td>6</td>\n      <td>6</td>\n      <td>6</td>\n      <td>6</td>\n      <td>6</td>\n    </tr>\n    <tr>\n      <th>5</th>\n      <td>6</td>\n      <td>6</td>\n      <td>6</td>\n      <td>6</td>\n      <td>6</td>\n      <td>6</td>\n      <td>6</td>\n      <td>6</td>\n      <td>6</td>\n      <td>6</td>\n      <td>6</td>\n    </tr>\n    <tr>\n      <th>6</th>\n      <td>6</td>\n      <td>6</td>\n      <td>6</td>\n      <td>6</td>\n      <td>6</td>\n      <td>6</td>\n      <td>6</td>\n      <td>6</td>\n      <td>6</td>\n      <td>6</td>\n      <td>6</td>\n    </tr>\n    <tr>\n      <th>7</th>\n      <td>6</td>\n      <td>6</td>\n      <td>6</td>\n      <td>6</td>\n      <td>6</td>\n      <td>6</td>\n      <td>6</td>\n      <td>6</td>\n      <td>6</td>\n      <td>6</td>\n      <td>6</td>\n    </tr>\n    <tr>\n      <th>...</th>\n      <td>...</td>\n      <td>...</td>\n      <td>...</td>\n      <td>...</td>\n      <td>...</td>\n      <td>...</td>\n      <td>...</td>\n      <td>...</td>\n      <td>...</td>\n      <td>...</td>\n      <td>...</td>\n    </tr>\n    <tr>\n      <th>51186</th>\n      <td>6</td>\n      <td>6</td>\n      <td>6</td>\n      <td>6</td>\n      <td>6</td>\n      <td>6</td>\n      <td>6</td>\n      <td>6</td>\n      <td>6</td>\n      <td>6</td>\n      <td>6</td>\n    </tr>\n    <tr>\n      <th>51187</th>\n      <td>6</td>\n      <td>6</td>\n      <td>6</td>\n      <td>6</td>\n      <td>6</td>\n      <td>6</td>\n      <td>6</td>\n      <td>6</td>\n      <td>6</td>\n      <td>6</td>\n      <td>6</td>\n    </tr>\n    <tr>\n      <th>51188</th>\n      <td>6</td>\n      <td>6</td>\n      <td>6</td>\n      <td>6</td>\n      <td>6</td>\n      <td>6</td>\n      <td>6</td>\n      <td>6</td>\n      <td>6</td>\n      <td>6</td>\n      <td>6</td>\n    </tr>\n    <tr>\n      <th>51189</th>\n      <td>6</td>\n      <td>6</td>\n      <td>6</td>\n      <td>6</td>\n      <td>6</td>\n      <td>6</td>\n      <td>6</td>\n      <td>6</td>\n      <td>6</td>\n      <td>6</td>\n      <td>6</td>\n    </tr>\n    <tr>\n      <th>51190</th>\n      <td>6</td>\n      <td>6</td>\n      <td>6</td>\n      <td>6</td>\n      <td>6</td>\n      <td>6</td>\n      <td>6</td>\n      <td>6</td>\n      <td>6</td>\n      <td>6</td>\n      <td>6</td>\n    </tr>\n  </tbody>\n</table>\n<p>1000 rows × 11 columns</p>\n</div>"
     },
     "execution_count": 72,
     "metadata": {},
     "output_type": "execute_result"
    }
   ],
   "source": [
    "result.groupby(\"label\").count()"
   ],
   "metadata": {
    "collapsed": false
   }
  },
  {
   "cell_type": "code",
   "execution_count": 73,
   "outputs": [],
   "source": [
    "result.to_pickle(f\"/mnt/d/sources/data/DL-PTV/Engineered/multiple_speeds_500.pkl\", compression='zip')"
   ],
   "metadata": {
    "collapsed": false
   }
  },
  {
   "cell_type": "code",
   "execution_count": null,
   "outputs": [],
   "source": [],
   "metadata": {
    "collapsed": false
   }
  }
 ],
 "metadata": {
  "kernelspec": {
   "display_name": "Python 3",
   "language": "python",
   "name": "python3"
  },
  "language_info": {
   "codemirror_mode": {
    "name": "ipython",
    "version": 2
   },
   "file_extension": ".py",
   "mimetype": "text/x-python",
   "name": "python",
   "nbconvert_exporter": "python",
   "pygments_lexer": "ipython2",
   "version": "2.7.6"
  }
 },
 "nbformat": 4,
 "nbformat_minor": 0
}
