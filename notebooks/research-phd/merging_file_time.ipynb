{
 "cells": [
  {
   "cell_type": "code",
   "execution_count": 2,
   "metadata": {
    "collapsed": true
   },
   "outputs": [],
   "source": [
    "import os\n",
    "import glob\n",
    "import pandas as pd\n",
    "import numpy as np"
   ]
  },
  {
   "cell_type": "markdown",
   "source": [
    "### Find folder based on speed"
   ],
   "metadata": {
    "collapsed": false
   }
  },
  {
   "cell_type": "code",
   "execution_count": 47,
   "outputs": [],
   "source": [
    "def speed_to_folder(speed):\n",
    "    if speed == 0.05232:\n",
    "        return \"3p6\" # 1/0.4735 = 2.1193\n",
    "    elif speed == 0.06528:\n",
    "        return \"4p4\"\n",
    "    elif speed == 0.06852:\n",
    "        return \"4p6\"\n",
    "    elif speed == 0.07824:\n",
    "        return \"5p2\"\n",
    "    elif speed == 0.09768:\n",
    "        return \"6p4\"\n",
    "    elif speed == 0.10092:\n",
    "        return \"6p6\"\n",
    "    elif speed == 0.11064:\n",
    "        return \"7p2\"\n",
    "    elif speed == 0.12036:\n",
    "        return \"7p8\"\n",
    "    elif speed == 0.13008:\n",
    "        return \"8p4\"\n",
    "    elif speed == 0.16248:\n",
    "        return \"10p4\"\n",
    "    elif speed == 0.17868:\n",
    "        return \"11p4\"\n",
    "    else:\n",
    "        return \"test\""
   ],
   "metadata": {
    "collapsed": false
   }
  },
  {
   "cell_type": "code",
   "execution_count": 6,
   "outputs": [],
   "source": [
    "def distance(x, y, z):\n",
    "    return np.sqrt(x**2.0 + y**2.0 + z**2.0)"
   ],
   "metadata": {
    "collapsed": false
   }
  },
  {
   "cell_type": "markdown",
   "source": [
    "### Merge files in the folders"
   ],
   "metadata": {
    "collapsed": false
   }
  },
  {
   "cell_type": "code",
   "execution_count": null,
   "outputs": [],
   "source": [],
   "metadata": {
    "collapsed": false
   }
  },
  {
   "cell_type": "code",
   "execution_count": 7,
   "outputs": [],
   "source": [
    "def get_files_list(speed):\n",
    "    folder = speed_to_folder(speed)\n",
    "    # path = os.getcwd()\n",
    "    csv_files = glob.glob(os.path.join(f\"/mnt/d/sources/data/DL-PTV/{folder}-1\", \"*.csv\"))+glob.glob(os.path.join(f\"/mnt/d/sources/data/DL-PTV/{folder}-2\", \"*.csv\"))\n",
    "\n",
    "    data = []\n",
    "    for csv in csv_files:\n",
    "        frame = pd.read_csv(csv, sep=\";\")\n",
    "        frame.columns= [\"x\",\"y\",\"z\",\"vx\",\"vy\",\"vz\"]\n",
    "        frame = pd.merge(frame.iloc[:50689,:], frame.iloc[50690:,:], how=\"inner\", on=[\"x\", \"y\", \"z\"])\n",
    "        frame.columns=[\"x\",\"y\",\"z\",\"vx\",\"vy\",\"vz\",\"px\",\"py\",\"pz\"]\n",
    "        frame['time'] = int(csv[-8:][:4])\n",
    "        frame[\"distance\"] = distance(frame[\"x\"], frame[\"y\"], frame[\"z\"])\n",
    "        frame[\"distance\"] = frame[\"distance\"].round(decimals=0)\n",
    "        data.append(frame)\n",
    "\n",
    "    df = pd.concat(data, ignore_index=True)\n",
    "    df.columns=[\"x\",\"y\",\"z\",\"vx\",\"vy\",\"vz\",\"px\",\"py\",\"pz\",\"time\",\"distance\"]\n",
    "    # Converting kPa to Pa for presurre columns\n",
    "    df[\"px\"]=df[\"px\"]*1000\n",
    "    df[\"py\"]=df[\"py\"]*1000\n",
    "    df[\"pz\"]=df[\"pz\"]*1000\n",
    "    # Scaling up the velocity\n",
    "    df[\"vx\"]=df[\"vx\"]*10\n",
    "    df[\"vy\"]=df[\"vy\"]*10\n",
    "    df[\"vz\"]=df[\"vz\"]*10\n",
    "    # Rounding decimal place\n",
    "    df[\"vx\"] = df[\"vx\"].round(decimals=2)\n",
    "    df[\"vy\"] = df[\"vy\"].round(decimals=2)\n",
    "    df[\"vz\"] = df[\"vz\"].round(decimals=2)\n",
    "    df[\"px\"] = df[\"px\"].round(decimals=2)\n",
    "    df[\"py\"] = df[\"py\"].round(decimals=2)\n",
    "    df[\"pz\"] = df[\"pz\"].round(decimals=2)\n",
    "\n",
    "    df[\"x\"] = df[\"x\"].round(decimals=0)\n",
    "    df[\"y\"] = df[\"y\"].round(decimals=0)\n",
    "    df[\"z\"] = df[\"z\"].round(decimals=0)\n",
    "\n",
    "\n",
    "    return df"
   ],
   "metadata": {
    "collapsed": false
   }
  },
  {
   "cell_type": "code",
   "execution_count": 8,
   "outputs": [],
   "source": [
    "# final_df = pd.read_pickle(f\"/mnt/d/sources/data/DL-PTV/merged/Old_merged/3p6.pkl\", compression=\"zip\")"
   ],
   "metadata": {
    "collapsed": false
   }
  },
  {
   "cell_type": "code",
   "execution_count": 9,
   "outputs": [],
   "source": [
    "speed = 0.05232\n",
    "folder = speed_to_folder(speed)\n",
    "final_df = get_files_list(speed)"
   ],
   "metadata": {
    "collapsed": false
   }
  },
  {
   "cell_type": "code",
   "execution_count": 10,
   "outputs": [
    {
     "data": {
      "text/plain": "       x     y     z    vx    vy   vz    px    py    pz  time  distance\n0 -117.0  87.0 -33.0  0.46  0.02 -0.0  2.47 -2.39 -0.49   363     150.0\n1 -113.0  87.0 -33.0  0.46  0.02  0.0  2.54 -2.25 -0.54   363     146.0\n2 -109.0  87.0 -33.0  0.47  0.03  0.0  2.44 -2.00 -0.58   363     143.0\n3 -105.0  87.0 -33.0  0.47  0.03  0.0  2.21 -1.68 -0.61   363     140.0\n4 -101.0  87.0 -33.0  0.47  0.03  0.0  1.89 -1.36 -0.60   363     137.0",
      "text/html": "<div>\n<style scoped>\n    .dataframe tbody tr th:only-of-type {\n        vertical-align: middle;\n    }\n\n    .dataframe tbody tr th {\n        vertical-align: top;\n    }\n\n    .dataframe thead th {\n        text-align: right;\n    }\n</style>\n<table border=\"1\" class=\"dataframe\">\n  <thead>\n    <tr style=\"text-align: right;\">\n      <th></th>\n      <th>x</th>\n      <th>y</th>\n      <th>z</th>\n      <th>vx</th>\n      <th>vy</th>\n      <th>vz</th>\n      <th>px</th>\n      <th>py</th>\n      <th>pz</th>\n      <th>time</th>\n      <th>distance</th>\n    </tr>\n  </thead>\n  <tbody>\n    <tr>\n      <th>0</th>\n      <td>-117.0</td>\n      <td>87.0</td>\n      <td>-33.0</td>\n      <td>0.46</td>\n      <td>0.02</td>\n      <td>-0.0</td>\n      <td>2.47</td>\n      <td>-2.39</td>\n      <td>-0.49</td>\n      <td>363</td>\n      <td>150.0</td>\n    </tr>\n    <tr>\n      <th>1</th>\n      <td>-113.0</td>\n      <td>87.0</td>\n      <td>-33.0</td>\n      <td>0.46</td>\n      <td>0.02</td>\n      <td>0.0</td>\n      <td>2.54</td>\n      <td>-2.25</td>\n      <td>-0.54</td>\n      <td>363</td>\n      <td>146.0</td>\n    </tr>\n    <tr>\n      <th>2</th>\n      <td>-109.0</td>\n      <td>87.0</td>\n      <td>-33.0</td>\n      <td>0.47</td>\n      <td>0.03</td>\n      <td>0.0</td>\n      <td>2.44</td>\n      <td>-2.00</td>\n      <td>-0.58</td>\n      <td>363</td>\n      <td>143.0</td>\n    </tr>\n    <tr>\n      <th>3</th>\n      <td>-105.0</td>\n      <td>87.0</td>\n      <td>-33.0</td>\n      <td>0.47</td>\n      <td>0.03</td>\n      <td>0.0</td>\n      <td>2.21</td>\n      <td>-1.68</td>\n      <td>-0.61</td>\n      <td>363</td>\n      <td>140.0</td>\n    </tr>\n    <tr>\n      <th>4</th>\n      <td>-101.0</td>\n      <td>87.0</td>\n      <td>-33.0</td>\n      <td>0.47</td>\n      <td>0.03</td>\n      <td>0.0</td>\n      <td>1.89</td>\n      <td>-1.36</td>\n      <td>-0.60</td>\n      <td>363</td>\n      <td>137.0</td>\n    </tr>\n  </tbody>\n</table>\n</div>"
     },
     "execution_count": 10,
     "metadata": {},
     "output_type": "execute_result"
    }
   ],
   "source": [
    "final_df.head()"
   ],
   "metadata": {
    "collapsed": false
   }
  },
  {
   "cell_type": "code",
   "execution_count": 11,
   "outputs": [
    {
     "data": {
      "text/plain": "(60823200, 11)"
     },
     "execution_count": 11,
     "metadata": {},
     "output_type": "execute_result"
    }
   ],
   "source": [
    "final_df.shape"
   ],
   "metadata": {
    "collapsed": false
   }
  },
  {
   "cell_type": "code",
   "execution_count": 15,
   "outputs": [
    {
     "name": "stdout",
     "output_type": "stream",
     "text": [
      "4p4 is done!\n",
      "4p6 is done!\n",
      "5p2 is done!\n",
      "6p4 is done!\n",
      "6p6 is done!\n",
      "7p2 is done!\n",
      "7p8 is done!\n",
      "8p4 is done!\n",
      "10p4 is done!\n",
      "11p4 is done!\n"
     ]
    }
   ],
   "source": [
    "speeds=[0.06528, 0.06852, 0.07824, 0.09768, 0.10092, 0.11064, 0.12036, 0.13008, 0.16248, 0.17868]\n",
    "for i in speeds:\n",
    "    folder = speed_to_folder(i)\n",
    "    final_df = get_files_list(i)\n",
    "    final_df.to_pickle(f\"/mnt/d/sources/data/DL-PTV/Engineered/{folder}.pkl\", compression='zip')\n",
    "    print(f\"{folder} is done!\")"
   ],
   "metadata": {
    "collapsed": false
   }
  },
  {
   "cell_type": "code",
   "execution_count": 13,
   "outputs": [],
   "source": [
    "final_df.to_pickle(f\"/mnt/d/sources/data/DL-PTV/Engineered/{folder}.pkl\", compression='zip')"
   ],
   "metadata": {
    "collapsed": false
   }
  },
  {
   "cell_type": "code",
   "execution_count": null,
   "outputs": [],
   "source": [],
   "metadata": {
    "collapsed": false
   }
  },
  {
   "cell_type": "markdown",
   "source": [
    "## Test"
   ],
   "metadata": {
    "collapsed": false
   }
  },
  {
   "cell_type": "code",
   "execution_count": 48,
   "outputs": [],
   "source": [
    "path = \"/mnt/d/sources/data/DL-PTV/Engineered/\""
   ],
   "metadata": {
    "collapsed": false
   }
  },
  {
   "cell_type": "code",
   "execution_count": 49,
   "outputs": [],
   "source": [
    "df1 = pd.read_pickle(path + \"3p6.pkl\", compression=\"zip\")"
   ],
   "metadata": {
    "collapsed": false
   }
  },
  {
   "cell_type": "code",
   "execution_count": 55,
   "outputs": [
    {
     "data": {
      "text/plain": "             x     y     z    vx    vy    vz    px    py    pz  time  distance\n9681026 -117.0  87.0 -33.0  0.47  0.03  0.03  1.90 -0.53  0.57   300     150.0\n9681027 -113.0  87.0 -33.0  0.47  0.04  0.03  2.00 -0.34  0.76   300     146.0\n9681028 -109.0  87.0 -33.0  0.47  0.04  0.02  2.16 -0.05  0.95   300     143.0\n9681029 -105.0  87.0 -33.0  0.47  0.04  0.02  2.33  0.27  1.10   300     140.0\n9681030 -101.0  87.0 -33.0  0.48  0.04  0.01  2.48  0.49  1.17   300     137.0\n...        ...   ...   ...   ...   ...   ...   ...   ...   ...   ...       ...\n9731707  109.0 -83.0  34.0  0.46  0.00  0.03  1.20 -0.26  1.46   300     141.0\n9731708  113.0 -83.0  34.0  0.46  0.01  0.03  1.42 -0.38  1.18   300     144.0\n9731709  117.0 -83.0  34.0  0.46  0.01  0.02  1.70 -0.54  0.88   300     147.0\n9731710  121.0 -83.0  34.0  0.45  0.01  0.02  2.01 -0.73  0.57   300     151.0\n9731711  125.0 -83.0  34.0  0.45  0.01  0.02  2.31 -0.90  0.26   300     154.0\n\n[50686 rows x 11 columns]",
      "text/html": "<div>\n<style scoped>\n    .dataframe tbody tr th:only-of-type {\n        vertical-align: middle;\n    }\n\n    .dataframe tbody tr th {\n        vertical-align: top;\n    }\n\n    .dataframe thead th {\n        text-align: right;\n    }\n</style>\n<table border=\"1\" class=\"dataframe\">\n  <thead>\n    <tr style=\"text-align: right;\">\n      <th></th>\n      <th>x</th>\n      <th>y</th>\n      <th>z</th>\n      <th>vx</th>\n      <th>vy</th>\n      <th>vz</th>\n      <th>px</th>\n      <th>py</th>\n      <th>pz</th>\n      <th>time</th>\n      <th>distance</th>\n    </tr>\n  </thead>\n  <tbody>\n    <tr>\n      <th>9681026</th>\n      <td>-117.0</td>\n      <td>87.0</td>\n      <td>-33.0</td>\n      <td>0.47</td>\n      <td>0.03</td>\n      <td>0.03</td>\n      <td>1.90</td>\n      <td>-0.53</td>\n      <td>0.57</td>\n      <td>300</td>\n      <td>150.0</td>\n    </tr>\n    <tr>\n      <th>9681027</th>\n      <td>-113.0</td>\n      <td>87.0</td>\n      <td>-33.0</td>\n      <td>0.47</td>\n      <td>0.04</td>\n      <td>0.03</td>\n      <td>2.00</td>\n      <td>-0.34</td>\n      <td>0.76</td>\n      <td>300</td>\n      <td>146.0</td>\n    </tr>\n    <tr>\n      <th>9681028</th>\n      <td>-109.0</td>\n      <td>87.0</td>\n      <td>-33.0</td>\n      <td>0.47</td>\n      <td>0.04</td>\n      <td>0.02</td>\n      <td>2.16</td>\n      <td>-0.05</td>\n      <td>0.95</td>\n      <td>300</td>\n      <td>143.0</td>\n    </tr>\n    <tr>\n      <th>9681029</th>\n      <td>-105.0</td>\n      <td>87.0</td>\n      <td>-33.0</td>\n      <td>0.47</td>\n      <td>0.04</td>\n      <td>0.02</td>\n      <td>2.33</td>\n      <td>0.27</td>\n      <td>1.10</td>\n      <td>300</td>\n      <td>140.0</td>\n    </tr>\n    <tr>\n      <th>9681030</th>\n      <td>-101.0</td>\n      <td>87.0</td>\n      <td>-33.0</td>\n      <td>0.48</td>\n      <td>0.04</td>\n      <td>0.01</td>\n      <td>2.48</td>\n      <td>0.49</td>\n      <td>1.17</td>\n      <td>300</td>\n      <td>137.0</td>\n    </tr>\n    <tr>\n      <th>...</th>\n      <td>...</td>\n      <td>...</td>\n      <td>...</td>\n      <td>...</td>\n      <td>...</td>\n      <td>...</td>\n      <td>...</td>\n      <td>...</td>\n      <td>...</td>\n      <td>...</td>\n      <td>...</td>\n    </tr>\n    <tr>\n      <th>9731707</th>\n      <td>109.0</td>\n      <td>-83.0</td>\n      <td>34.0</td>\n      <td>0.46</td>\n      <td>0.00</td>\n      <td>0.03</td>\n      <td>1.20</td>\n      <td>-0.26</td>\n      <td>1.46</td>\n      <td>300</td>\n      <td>141.0</td>\n    </tr>\n    <tr>\n      <th>9731708</th>\n      <td>113.0</td>\n      <td>-83.0</td>\n      <td>34.0</td>\n      <td>0.46</td>\n      <td>0.01</td>\n      <td>0.03</td>\n      <td>1.42</td>\n      <td>-0.38</td>\n      <td>1.18</td>\n      <td>300</td>\n      <td>144.0</td>\n    </tr>\n    <tr>\n      <th>9731709</th>\n      <td>117.0</td>\n      <td>-83.0</td>\n      <td>34.0</td>\n      <td>0.46</td>\n      <td>0.01</td>\n      <td>0.02</td>\n      <td>1.70</td>\n      <td>-0.54</td>\n      <td>0.88</td>\n      <td>300</td>\n      <td>147.0</td>\n    </tr>\n    <tr>\n      <th>9731710</th>\n      <td>121.0</td>\n      <td>-83.0</td>\n      <td>34.0</td>\n      <td>0.45</td>\n      <td>0.01</td>\n      <td>0.02</td>\n      <td>2.01</td>\n      <td>-0.73</td>\n      <td>0.57</td>\n      <td>300</td>\n      <td>151.0</td>\n    </tr>\n    <tr>\n      <th>9731711</th>\n      <td>125.0</td>\n      <td>-83.0</td>\n      <td>34.0</td>\n      <td>0.45</td>\n      <td>0.01</td>\n      <td>0.02</td>\n      <td>2.31</td>\n      <td>-0.90</td>\n      <td>0.26</td>\n      <td>300</td>\n      <td>154.0</td>\n    </tr>\n  </tbody>\n</table>\n<p>50686 rows × 11 columns</p>\n</div>"
     },
     "execution_count": 55,
     "metadata": {},
     "output_type": "execute_result"
    }
   ],
   "source": [
    "# t = df1.sort_index().head(1200)\n",
    "df1[df1[\"time\"]==300]"
   ],
   "metadata": {
    "collapsed": false
   }
  },
  {
   "cell_type": "code",
   "execution_count": null,
   "outputs": [],
   "source": [],
   "metadata": {
    "collapsed": false
   }
  },
  {
   "cell_type": "code",
   "execution_count": 8,
   "outputs": [],
   "source": [
    "t.to_pickle(f\"/mnt/d/sources/data/DL-PTV/Engineered/test.pkl\", compression='zip')"
   ],
   "metadata": {
    "collapsed": false
   }
  },
  {
   "cell_type": "code",
   "execution_count": 135,
   "outputs": [],
   "source": [
    "df = df1.loc[df1[\"time\"]<3]"
   ],
   "metadata": {
    "collapsed": false
   }
  },
  {
   "cell_type": "code",
   "execution_count": 136,
   "outputs": [],
   "source": [
    "x_values = df[\"x\"].unique()\n",
    "y_values = df[\"y\"].unique()\n",
    "z_values = df[\"z\"].unique()"
   ],
   "metadata": {
    "collapsed": false
   }
  },
  {
   "cell_type": "code",
   "execution_count": 139,
   "outputs": [],
   "source": [
    "df = add_transformed_values(df, x_values,\"x\")\n",
    "df = add_transformed_values(df, y_values,\"y\")\n",
    "df = add_transformed_values(df, z_values,\"z\")"
   ],
   "metadata": {
    "collapsed": false
   }
  },
  {
   "cell_type": "code",
   "execution_count": 140,
   "outputs": [
    {
     "data": {
      "text/plain": "            x          y          z        vx        vy        vz  time  \\\n0 -125.078910  86.888915 -33.059413  0.049976  0.002444  0.009331     1   \n1 -121.116733  86.888915 -33.059413  0.049832  0.002287  0.009501     1   \n2 -117.154557  86.888915 -33.059413  0.049630  0.002129  0.009603     1   \n3 -113.192381  86.888915 -33.059413  0.049365  0.001991  0.009568     1   \n4 -109.230205  86.888915 -33.059413  0.049041  0.001901  0.009327     1   \n\n   transformed_x  transformed_y  transformed_z  \n0          -32.0          -22.0           -9.0  \n1          -31.0          -22.0           -9.0  \n2          -30.0          -22.0           -9.0  \n3          -29.0          -22.0           -9.0  \n4          -28.0          -22.0           -9.0  ",
      "text/html": "<div>\n<style scoped>\n    .dataframe tbody tr th:only-of-type {\n        vertical-align: middle;\n    }\n\n    .dataframe tbody tr th {\n        vertical-align: top;\n    }\n\n    .dataframe thead th {\n        text-align: right;\n    }\n</style>\n<table border=\"1\" class=\"dataframe\">\n  <thead>\n    <tr style=\"text-align: right;\">\n      <th></th>\n      <th>x</th>\n      <th>y</th>\n      <th>z</th>\n      <th>vx</th>\n      <th>vy</th>\n      <th>vz</th>\n      <th>time</th>\n      <th>transformed_x</th>\n      <th>transformed_y</th>\n      <th>transformed_z</th>\n    </tr>\n  </thead>\n  <tbody>\n    <tr>\n      <th>0</th>\n      <td>-125.078910</td>\n      <td>86.888915</td>\n      <td>-33.059413</td>\n      <td>0.049976</td>\n      <td>0.002444</td>\n      <td>0.009331</td>\n      <td>1</td>\n      <td>-32.0</td>\n      <td>-22.0</td>\n      <td>-9.0</td>\n    </tr>\n    <tr>\n      <th>1</th>\n      <td>-121.116733</td>\n      <td>86.888915</td>\n      <td>-33.059413</td>\n      <td>0.049832</td>\n      <td>0.002287</td>\n      <td>0.009501</td>\n      <td>1</td>\n      <td>-31.0</td>\n      <td>-22.0</td>\n      <td>-9.0</td>\n    </tr>\n    <tr>\n      <th>2</th>\n      <td>-117.154557</td>\n      <td>86.888915</td>\n      <td>-33.059413</td>\n      <td>0.049630</td>\n      <td>0.002129</td>\n      <td>0.009603</td>\n      <td>1</td>\n      <td>-30.0</td>\n      <td>-22.0</td>\n      <td>-9.0</td>\n    </tr>\n    <tr>\n      <th>3</th>\n      <td>-113.192381</td>\n      <td>86.888915</td>\n      <td>-33.059413</td>\n      <td>0.049365</td>\n      <td>0.001991</td>\n      <td>0.009568</td>\n      <td>1</td>\n      <td>-29.0</td>\n      <td>-22.0</td>\n      <td>-9.0</td>\n    </tr>\n    <tr>\n      <th>4</th>\n      <td>-109.230205</td>\n      <td>86.888915</td>\n      <td>-33.059413</td>\n      <td>0.049041</td>\n      <td>0.001901</td>\n      <td>0.009327</td>\n      <td>1</td>\n      <td>-28.0</td>\n      <td>-22.0</td>\n      <td>-9.0</td>\n    </tr>\n  </tbody>\n</table>\n</div>"
     },
     "execution_count": 140,
     "metadata": {},
     "output_type": "execute_result"
    }
   ],
   "source": [
    "df.head()"
   ],
   "metadata": {
    "collapsed": false
   }
  },
  {
   "cell_type": "code",
   "execution_count": null,
   "outputs": [],
   "source": [
    "final_df.to_pickle(f\"/mnt/d/sources/data/DL-PTV/Engineered/{folder}.pkl\", compression='zip')"
   ],
   "metadata": {
    "collapsed": false
   }
  },
  {
   "cell_type": "code",
   "execution_count": 34,
   "outputs": [],
   "source": [
    "test = pd.read_pickle(\"/mnt/d/sources/data/DL-PTV/Engineered/test.pkl\", compression='zip')\n"
   ],
   "metadata": {
    "collapsed": false
   }
  },
  {
   "cell_type": "code",
   "execution_count": 41,
   "outputs": [],
   "source": [
    "labels= test.drop(test.columns.difference([\"x\",\"y\",\"z\",\"time\"]), axis=1).to_numpy()\n",
    "data = test.drop(test.columns.difference([\"vx\",\"vy\",\"vz\",\"px\",\"py\",\"pz\",\"distance\"]), axis=1)"
   ],
   "metadata": {
    "collapsed": false
   }
  },
  {
   "cell_type": "code",
   "execution_count": 45,
   "outputs": [
    {
     "data": {
      "text/plain": "array([[-117.,   87.,  -33.,  363.],\n       [-113.,   87.,  -33.,  363.],\n       [-109.,   87.,  -33.,  363.],\n       [-105.,   87.,  -33.,  363.],\n       [-101.,   87.,  -33.,  363.]])"
     },
     "execution_count": 45,
     "metadata": {},
     "output_type": "execute_result"
    }
   ],
   "source": [
    "labels[0:5]"
   ],
   "metadata": {
    "collapsed": false
   }
  },
  {
   "cell_type": "code",
   "execution_count": 43,
   "outputs": [],
   "source": [
    "test = test.to_numpy()"
   ],
   "metadata": {
    "collapsed": false
   }
  },
  {
   "cell_type": "code",
   "execution_count": 36,
   "outputs": [
    {
     "data": {
      "text/plain": "       x     y     z    vx    vy   vz    px    py    pz  time  distance\n0 -117.0  87.0 -33.0  0.46  0.02 -0.0  2.47 -2.39 -0.49   363     150.0\n1 -113.0  87.0 -33.0  0.46  0.02  0.0  2.54 -2.25 -0.54   363     146.0\n2 -109.0  87.0 -33.0  0.47  0.03  0.0  2.44 -2.00 -0.58   363     143.0\n3 -105.0  87.0 -33.0  0.47  0.03  0.0  2.21 -1.68 -0.61   363     140.0\n4 -101.0  87.0 -33.0  0.47  0.03  0.0  1.89 -1.36 -0.60   363     137.0",
      "text/html": "<div>\n<style scoped>\n    .dataframe tbody tr th:only-of-type {\n        vertical-align: middle;\n    }\n\n    .dataframe tbody tr th {\n        vertical-align: top;\n    }\n\n    .dataframe thead th {\n        text-align: right;\n    }\n</style>\n<table border=\"1\" class=\"dataframe\">\n  <thead>\n    <tr style=\"text-align: right;\">\n      <th></th>\n      <th>x</th>\n      <th>y</th>\n      <th>z</th>\n      <th>vx</th>\n      <th>vy</th>\n      <th>vz</th>\n      <th>px</th>\n      <th>py</th>\n      <th>pz</th>\n      <th>time</th>\n      <th>distance</th>\n    </tr>\n  </thead>\n  <tbody>\n    <tr>\n      <th>0</th>\n      <td>-117.0</td>\n      <td>87.0</td>\n      <td>-33.0</td>\n      <td>0.46</td>\n      <td>0.02</td>\n      <td>-0.0</td>\n      <td>2.47</td>\n      <td>-2.39</td>\n      <td>-0.49</td>\n      <td>363</td>\n      <td>150.0</td>\n    </tr>\n    <tr>\n      <th>1</th>\n      <td>-113.0</td>\n      <td>87.0</td>\n      <td>-33.0</td>\n      <td>0.46</td>\n      <td>0.02</td>\n      <td>0.0</td>\n      <td>2.54</td>\n      <td>-2.25</td>\n      <td>-0.54</td>\n      <td>363</td>\n      <td>146.0</td>\n    </tr>\n    <tr>\n      <th>2</th>\n      <td>-109.0</td>\n      <td>87.0</td>\n      <td>-33.0</td>\n      <td>0.47</td>\n      <td>0.03</td>\n      <td>0.0</td>\n      <td>2.44</td>\n      <td>-2.00</td>\n      <td>-0.58</td>\n      <td>363</td>\n      <td>143.0</td>\n    </tr>\n    <tr>\n      <th>3</th>\n      <td>-105.0</td>\n      <td>87.0</td>\n      <td>-33.0</td>\n      <td>0.47</td>\n      <td>0.03</td>\n      <td>0.0</td>\n      <td>2.21</td>\n      <td>-1.68</td>\n      <td>-0.61</td>\n      <td>363</td>\n      <td>140.0</td>\n    </tr>\n    <tr>\n      <th>4</th>\n      <td>-101.0</td>\n      <td>87.0</td>\n      <td>-33.0</td>\n      <td>0.47</td>\n      <td>0.03</td>\n      <td>0.0</td>\n      <td>1.89</td>\n      <td>-1.36</td>\n      <td>-0.60</td>\n      <td>363</td>\n      <td>137.0</td>\n    </tr>\n  </tbody>\n</table>\n</div>"
     },
     "execution_count": 36,
     "metadata": {},
     "output_type": "execute_result"
    }
   ],
   "source": [
    "test.head()"
   ],
   "metadata": {
    "collapsed": false
   }
  },
  {
   "cell_type": "code",
   "execution_count": 30,
   "outputs": [],
   "source": [
    "labels = np.concatenate((test[:, 0:3]))\n",
    "data = test[:, 3:]"
   ],
   "metadata": {
    "collapsed": false
   }
  },
  {
   "cell_type": "code",
   "execution_count": 31,
   "outputs": [
    {
     "data": {
      "text/plain": "array([[-117.,   87.,  -33.],\n       [-113.,   87.,  -33.]])"
     },
     "execution_count": 31,
     "metadata": {},
     "output_type": "execute_result"
    }
   ],
   "source": [
    "labels[0:2]"
   ],
   "metadata": {
    "collapsed": false
   }
  },
  {
   "cell_type": "code",
   "execution_count": 32,
   "outputs": [
    {
     "data": {
      "text/plain": "array([[ 4.60e-01,  2.00e-02, -0.00e+00,  2.47e+00, -2.39e+00, -4.90e-01,\n         3.63e+02,  1.50e+02],\n       [ 4.60e-01,  2.00e-02,  0.00e+00,  2.54e+00, -2.25e+00, -5.40e-01,\n         3.63e+02,  1.46e+02],\n       [ 4.70e-01,  3.00e-02,  0.00e+00,  2.44e+00, -2.00e+00, -5.80e-01,\n         3.63e+02,  1.43e+02]])"
     },
     "execution_count": 32,
     "metadata": {},
     "output_type": "execute_result"
    }
   ],
   "source": [
    "data[0:3]"
   ],
   "metadata": {
    "collapsed": false
   }
  },
  {
   "cell_type": "code",
   "execution_count": null,
   "outputs": [],
   "source": [],
   "metadata": {
    "collapsed": false
   }
  }
 ],
 "metadata": {
  "kernelspec": {
   "display_name": "Python 3",
   "language": "python",
   "name": "python3"
  },
  "language_info": {
   "codemirror_mode": {
    "name": "ipython",
    "version": 2
   },
   "file_extension": ".py",
   "mimetype": "text/x-python",
   "name": "python",
   "nbconvert_exporter": "python",
   "pygments_lexer": "ipython2",
   "version": "2.7.6"
  }
 },
 "nbformat": 4,
 "nbformat_minor": 0
}
