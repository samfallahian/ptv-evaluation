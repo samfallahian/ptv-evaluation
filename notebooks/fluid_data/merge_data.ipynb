{
 "cells": [
  {
   "cell_type": "code",
   "execution_count": 1,
   "metadata": {
    "collapsed": true
   },
   "outputs": [],
   "source": [
    "import os\n",
    "import glob\n",
    "import pandas as pd\n",
    "import numpy as np"
   ]
  },
  {
   "cell_type": "markdown",
   "source": [
    "### Select corresponding folder for each speed"
   ],
   "metadata": {
    "collapsed": false
   }
  },
  {
   "cell_type": "code",
   "execution_count": 2,
   "outputs": [],
   "source": [
    "def speed_to_folder(speed):\n",
    "    if speed == 0.05232:\n",
    "        return \"3p6\" # 1/0.4735 = 2.1193\n",
    "    elif speed == 0.06528:\n",
    "        return \"4p4\"\n",
    "    elif speed == 0.06852:\n",
    "        return \"4p6\"\n",
    "    elif speed == 0.07824:\n",
    "        return \"5p2\"\n",
    "    elif speed == 0.09768:\n",
    "        return \"6p4\"\n",
    "    elif speed == 0.10092:\n",
    "        return \"6p6\"\n",
    "    elif speed == 0.11064:\n",
    "        return \"7p2\"\n",
    "    elif speed == 0.12036:\n",
    "        return \"7p8\"\n",
    "    elif speed == 0.13008:\n",
    "        return \"8p4\"\n",
    "    elif speed == 0.16248:\n",
    "        return \"10p4\"\n",
    "    elif speed == 0.17868:\n",
    "        return \"11p4\"\n",
    "    else:\n",
    "        return \"test\""
   ],
   "metadata": {
    "collapsed": false
   }
  },
  {
   "cell_type": "code",
   "execution_count": 3,
   "outputs": [],
   "source": [
    "folder = speed_to_folder(0.05232)\n",
    "path = os.getcwd()\n",
    "csv_files = glob.glob(os.path.join(f\"/mnt/d/sources/data/DL-PTV/{folder}-1\", \"*.csv\"))+glob.glob(os.path.join(f\"/mnt/d/sources/data/DL-PTV/{folder}-2\", \"*.csv\"))"
   ],
   "metadata": {
    "collapsed": false
   }
  },
  {
   "cell_type": "code",
   "execution_count": 111,
   "outputs": [],
   "source": [
    "data = []\n",
    "csv_files.sort()\n",
    "for idx, csv in enumerate(csv_files):\n",
    "    frame = pd.read_csv(csv, sep=\";\")\n",
    "    frame = frame.head(48)\n",
    "    frame['time'] = idx+1\n",
    "    data.append(frame)"
   ],
   "metadata": {
    "collapsed": false
   }
  },
  {
   "cell_type": "code",
   "execution_count": 119,
   "outputs": [],
   "source": [
    "df = pd.concat(data, ignore_index=True)"
   ],
   "metadata": {
    "collapsed": false
   }
  },
  {
   "cell_type": "code",
   "execution_count": 120,
   "outputs": [],
   "source": [
    "df = df.iloc[:,[6,0,1,2,3,4,5]]"
   ],
   "metadata": {
    "collapsed": false
   }
  },
  {
   "cell_type": "code",
   "execution_count": 121,
   "outputs": [],
   "source": [
    "df.columns=[\"time\", \"x\",\"y\",\"z\",\"vx\",\"vy\",\"vz\"]"
   ],
   "metadata": {
    "collapsed": false
   }
  },
  {
   "cell_type": "code",
   "execution_count": 124,
   "outputs": [
    {
     "data": {
      "text/plain": "    time           x          y          z        vx        vy        vz\n0      1 -125.078910  86.888915 -33.059413  0.049976  0.002444  0.009331\n1      1 -121.116733  86.888915 -33.059413  0.049832  0.002287  0.009501\n2      1 -117.154557  86.888915 -33.059413  0.049630  0.002129  0.009603\n3      1 -113.192381  86.888915 -33.059413  0.049365  0.001991  0.009568\n4      1 -109.230205  86.888915 -33.059413  0.049041  0.001901  0.009327\n5      1 -105.268029  86.888915 -33.059413  0.048675  0.001882  0.008832\n6      1 -101.305853  86.888915 -33.059413  0.048289  0.001948  0.008066\n7      1  -97.343677  86.888915 -33.059413  0.047911  0.002077  0.007069\n8      1  -93.381501  86.888915 -33.059413  0.047563  0.002243  0.005918\n9      1  -89.419325  86.888915 -33.059413  0.047264  0.002419  0.004719\n10     1  -85.457149  86.888915 -33.059413  0.047032  0.002589  0.003584\n11     1  -81.494973  86.888915 -33.059413  0.046881  0.002736  0.002639\n12     1  -77.532797  86.888915 -33.059413  0.046807  0.002830  0.002023\n13     1  -73.570620  86.888915 -33.059413  0.046771  0.002848  0.001813\n14     1  -69.608444  86.888915 -33.059413  0.046714  0.002795  0.001971\n15     1  -65.646268  86.888915 -33.059413  0.046599  0.002717  0.002334\n16     1  -61.684092  86.888915 -33.059413  0.046437  0.002664  0.002703\n17     1  -57.721916  86.888915 -33.059413  0.046266  0.002658  0.002928\n18     1  -53.759740  86.888915 -33.059413  0.046116  0.002692  0.002923\n19     1  -49.797564  86.888915 -33.059413  0.046004  0.002760  0.002658\n20     1  -45.835388  86.888915 -33.059413  0.045953  0.002856  0.002127\n21     1  -41.873212  86.888915 -33.059413  0.045990  0.002978  0.001377\n22     1  -37.911036  86.888915 -33.059413  0.046142  0.003112  0.000497\n23     1  -33.948860  86.888915 -33.059413  0.046411  0.003223 -0.000399\n24     1  -29.986683  86.888915 -33.059413  0.046772  0.003272 -0.001212\n25     1  -26.024507  86.888915 -33.059413  0.047182  0.003231 -0.001889\n26     1  -22.062331  86.888915 -33.059413  0.047589  0.003118 -0.002419\n27     1  -18.100155  86.888915 -33.059413  0.047956  0.002993 -0.002812\n28     1  -14.137979  86.888915 -33.059413  0.048270  0.002937 -0.003085\n29     1  -10.175803  86.888915 -33.059413  0.048549  0.003007 -0.003226\n30     1   -6.213627  86.888915 -33.059413  0.048823  0.003186 -0.003170\n31     1   -2.251451  86.888915 -33.059413  0.049099  0.003369 -0.002807\n32     1    1.710725  86.888915 -33.059413  0.049331  0.003407 -0.002033\n33     1    5.672901  86.888915 -33.059413  0.049437  0.003231 -0.000880\n34     1    9.635077  86.888915 -33.059413  0.049359  0.002919  0.000469\n35     1   13.597253  86.888915 -33.059413  0.049106  0.002636  0.001785\n36     1   17.559430  86.888915 -33.059413  0.048744  0.002538  0.002914\n37     1   21.521606  86.888915 -33.059413  0.048361  0.002674  0.003840\n38     1   25.483782  86.888915 -33.059413  0.048011  0.002987  0.004590\n39     1   29.445958  86.888915 -33.059413  0.047708  0.003340  0.005184\n40     1   33.408134  86.888915 -33.059413  0.047433  0.003612  0.005632\n41     1   37.370310  86.888915 -33.059413  0.047176  0.003769  0.005994\n42     1   41.332486  86.888915 -33.059413  0.046952  0.003827  0.006386\n43     1   45.294662  86.888915 -33.059413  0.046776  0.003814  0.006910\n44     1   49.256838  86.888915 -33.059413  0.046655  0.003732  0.007622\n45     1   53.219014  86.888915 -33.059413  0.046578  0.003575  0.008473\n46     1   57.181190  86.888915 -33.059413  0.046529  0.003350  0.009327\n47     1   61.143366  86.888915 -33.059413  0.046498  0.003095  0.009938",
      "text/html": "<div>\n<style scoped>\n    .dataframe tbody tr th:only-of-type {\n        vertical-align: middle;\n    }\n\n    .dataframe tbody tr th {\n        vertical-align: top;\n    }\n\n    .dataframe thead th {\n        text-align: right;\n    }\n</style>\n<table border=\"1\" class=\"dataframe\">\n  <thead>\n    <tr style=\"text-align: right;\">\n      <th></th>\n      <th>time</th>\n      <th>x</th>\n      <th>y</th>\n      <th>z</th>\n      <th>vx</th>\n      <th>vy</th>\n      <th>vz</th>\n    </tr>\n  </thead>\n  <tbody>\n    <tr>\n      <th>0</th>\n      <td>1</td>\n      <td>-125.078910</td>\n      <td>86.888915</td>\n      <td>-33.059413</td>\n      <td>0.049976</td>\n      <td>0.002444</td>\n      <td>0.009331</td>\n    </tr>\n    <tr>\n      <th>1</th>\n      <td>1</td>\n      <td>-121.116733</td>\n      <td>86.888915</td>\n      <td>-33.059413</td>\n      <td>0.049832</td>\n      <td>0.002287</td>\n      <td>0.009501</td>\n    </tr>\n    <tr>\n      <th>2</th>\n      <td>1</td>\n      <td>-117.154557</td>\n      <td>86.888915</td>\n      <td>-33.059413</td>\n      <td>0.049630</td>\n      <td>0.002129</td>\n      <td>0.009603</td>\n    </tr>\n    <tr>\n      <th>3</th>\n      <td>1</td>\n      <td>-113.192381</td>\n      <td>86.888915</td>\n      <td>-33.059413</td>\n      <td>0.049365</td>\n      <td>0.001991</td>\n      <td>0.009568</td>\n    </tr>\n    <tr>\n      <th>4</th>\n      <td>1</td>\n      <td>-109.230205</td>\n      <td>86.888915</td>\n      <td>-33.059413</td>\n      <td>0.049041</td>\n      <td>0.001901</td>\n      <td>0.009327</td>\n    </tr>\n    <tr>\n      <th>5</th>\n      <td>1</td>\n      <td>-105.268029</td>\n      <td>86.888915</td>\n      <td>-33.059413</td>\n      <td>0.048675</td>\n      <td>0.001882</td>\n      <td>0.008832</td>\n    </tr>\n    <tr>\n      <th>6</th>\n      <td>1</td>\n      <td>-101.305853</td>\n      <td>86.888915</td>\n      <td>-33.059413</td>\n      <td>0.048289</td>\n      <td>0.001948</td>\n      <td>0.008066</td>\n    </tr>\n    <tr>\n      <th>7</th>\n      <td>1</td>\n      <td>-97.343677</td>\n      <td>86.888915</td>\n      <td>-33.059413</td>\n      <td>0.047911</td>\n      <td>0.002077</td>\n      <td>0.007069</td>\n    </tr>\n    <tr>\n      <th>8</th>\n      <td>1</td>\n      <td>-93.381501</td>\n      <td>86.888915</td>\n      <td>-33.059413</td>\n      <td>0.047563</td>\n      <td>0.002243</td>\n      <td>0.005918</td>\n    </tr>\n    <tr>\n      <th>9</th>\n      <td>1</td>\n      <td>-89.419325</td>\n      <td>86.888915</td>\n      <td>-33.059413</td>\n      <td>0.047264</td>\n      <td>0.002419</td>\n      <td>0.004719</td>\n    </tr>\n    <tr>\n      <th>10</th>\n      <td>1</td>\n      <td>-85.457149</td>\n      <td>86.888915</td>\n      <td>-33.059413</td>\n      <td>0.047032</td>\n      <td>0.002589</td>\n      <td>0.003584</td>\n    </tr>\n    <tr>\n      <th>11</th>\n      <td>1</td>\n      <td>-81.494973</td>\n      <td>86.888915</td>\n      <td>-33.059413</td>\n      <td>0.046881</td>\n      <td>0.002736</td>\n      <td>0.002639</td>\n    </tr>\n    <tr>\n      <th>12</th>\n      <td>1</td>\n      <td>-77.532797</td>\n      <td>86.888915</td>\n      <td>-33.059413</td>\n      <td>0.046807</td>\n      <td>0.002830</td>\n      <td>0.002023</td>\n    </tr>\n    <tr>\n      <th>13</th>\n      <td>1</td>\n      <td>-73.570620</td>\n      <td>86.888915</td>\n      <td>-33.059413</td>\n      <td>0.046771</td>\n      <td>0.002848</td>\n      <td>0.001813</td>\n    </tr>\n    <tr>\n      <th>14</th>\n      <td>1</td>\n      <td>-69.608444</td>\n      <td>86.888915</td>\n      <td>-33.059413</td>\n      <td>0.046714</td>\n      <td>0.002795</td>\n      <td>0.001971</td>\n    </tr>\n    <tr>\n      <th>15</th>\n      <td>1</td>\n      <td>-65.646268</td>\n      <td>86.888915</td>\n      <td>-33.059413</td>\n      <td>0.046599</td>\n      <td>0.002717</td>\n      <td>0.002334</td>\n    </tr>\n    <tr>\n      <th>16</th>\n      <td>1</td>\n      <td>-61.684092</td>\n      <td>86.888915</td>\n      <td>-33.059413</td>\n      <td>0.046437</td>\n      <td>0.002664</td>\n      <td>0.002703</td>\n    </tr>\n    <tr>\n      <th>17</th>\n      <td>1</td>\n      <td>-57.721916</td>\n      <td>86.888915</td>\n      <td>-33.059413</td>\n      <td>0.046266</td>\n      <td>0.002658</td>\n      <td>0.002928</td>\n    </tr>\n    <tr>\n      <th>18</th>\n      <td>1</td>\n      <td>-53.759740</td>\n      <td>86.888915</td>\n      <td>-33.059413</td>\n      <td>0.046116</td>\n      <td>0.002692</td>\n      <td>0.002923</td>\n    </tr>\n    <tr>\n      <th>19</th>\n      <td>1</td>\n      <td>-49.797564</td>\n      <td>86.888915</td>\n      <td>-33.059413</td>\n      <td>0.046004</td>\n      <td>0.002760</td>\n      <td>0.002658</td>\n    </tr>\n    <tr>\n      <th>20</th>\n      <td>1</td>\n      <td>-45.835388</td>\n      <td>86.888915</td>\n      <td>-33.059413</td>\n      <td>0.045953</td>\n      <td>0.002856</td>\n      <td>0.002127</td>\n    </tr>\n    <tr>\n      <th>21</th>\n      <td>1</td>\n      <td>-41.873212</td>\n      <td>86.888915</td>\n      <td>-33.059413</td>\n      <td>0.045990</td>\n      <td>0.002978</td>\n      <td>0.001377</td>\n    </tr>\n    <tr>\n      <th>22</th>\n      <td>1</td>\n      <td>-37.911036</td>\n      <td>86.888915</td>\n      <td>-33.059413</td>\n      <td>0.046142</td>\n      <td>0.003112</td>\n      <td>0.000497</td>\n    </tr>\n    <tr>\n      <th>23</th>\n      <td>1</td>\n      <td>-33.948860</td>\n      <td>86.888915</td>\n      <td>-33.059413</td>\n      <td>0.046411</td>\n      <td>0.003223</td>\n      <td>-0.000399</td>\n    </tr>\n    <tr>\n      <th>24</th>\n      <td>1</td>\n      <td>-29.986683</td>\n      <td>86.888915</td>\n      <td>-33.059413</td>\n      <td>0.046772</td>\n      <td>0.003272</td>\n      <td>-0.001212</td>\n    </tr>\n    <tr>\n      <th>25</th>\n      <td>1</td>\n      <td>-26.024507</td>\n      <td>86.888915</td>\n      <td>-33.059413</td>\n      <td>0.047182</td>\n      <td>0.003231</td>\n      <td>-0.001889</td>\n    </tr>\n    <tr>\n      <th>26</th>\n      <td>1</td>\n      <td>-22.062331</td>\n      <td>86.888915</td>\n      <td>-33.059413</td>\n      <td>0.047589</td>\n      <td>0.003118</td>\n      <td>-0.002419</td>\n    </tr>\n    <tr>\n      <th>27</th>\n      <td>1</td>\n      <td>-18.100155</td>\n      <td>86.888915</td>\n      <td>-33.059413</td>\n      <td>0.047956</td>\n      <td>0.002993</td>\n      <td>-0.002812</td>\n    </tr>\n    <tr>\n      <th>28</th>\n      <td>1</td>\n      <td>-14.137979</td>\n      <td>86.888915</td>\n      <td>-33.059413</td>\n      <td>0.048270</td>\n      <td>0.002937</td>\n      <td>-0.003085</td>\n    </tr>\n    <tr>\n      <th>29</th>\n      <td>1</td>\n      <td>-10.175803</td>\n      <td>86.888915</td>\n      <td>-33.059413</td>\n      <td>0.048549</td>\n      <td>0.003007</td>\n      <td>-0.003226</td>\n    </tr>\n    <tr>\n      <th>30</th>\n      <td>1</td>\n      <td>-6.213627</td>\n      <td>86.888915</td>\n      <td>-33.059413</td>\n      <td>0.048823</td>\n      <td>0.003186</td>\n      <td>-0.003170</td>\n    </tr>\n    <tr>\n      <th>31</th>\n      <td>1</td>\n      <td>-2.251451</td>\n      <td>86.888915</td>\n      <td>-33.059413</td>\n      <td>0.049099</td>\n      <td>0.003369</td>\n      <td>-0.002807</td>\n    </tr>\n    <tr>\n      <th>32</th>\n      <td>1</td>\n      <td>1.710725</td>\n      <td>86.888915</td>\n      <td>-33.059413</td>\n      <td>0.049331</td>\n      <td>0.003407</td>\n      <td>-0.002033</td>\n    </tr>\n    <tr>\n      <th>33</th>\n      <td>1</td>\n      <td>5.672901</td>\n      <td>86.888915</td>\n      <td>-33.059413</td>\n      <td>0.049437</td>\n      <td>0.003231</td>\n      <td>-0.000880</td>\n    </tr>\n    <tr>\n      <th>34</th>\n      <td>1</td>\n      <td>9.635077</td>\n      <td>86.888915</td>\n      <td>-33.059413</td>\n      <td>0.049359</td>\n      <td>0.002919</td>\n      <td>0.000469</td>\n    </tr>\n    <tr>\n      <th>35</th>\n      <td>1</td>\n      <td>13.597253</td>\n      <td>86.888915</td>\n      <td>-33.059413</td>\n      <td>0.049106</td>\n      <td>0.002636</td>\n      <td>0.001785</td>\n    </tr>\n    <tr>\n      <th>36</th>\n      <td>1</td>\n      <td>17.559430</td>\n      <td>86.888915</td>\n      <td>-33.059413</td>\n      <td>0.048744</td>\n      <td>0.002538</td>\n      <td>0.002914</td>\n    </tr>\n    <tr>\n      <th>37</th>\n      <td>1</td>\n      <td>21.521606</td>\n      <td>86.888915</td>\n      <td>-33.059413</td>\n      <td>0.048361</td>\n      <td>0.002674</td>\n      <td>0.003840</td>\n    </tr>\n    <tr>\n      <th>38</th>\n      <td>1</td>\n      <td>25.483782</td>\n      <td>86.888915</td>\n      <td>-33.059413</td>\n      <td>0.048011</td>\n      <td>0.002987</td>\n      <td>0.004590</td>\n    </tr>\n    <tr>\n      <th>39</th>\n      <td>1</td>\n      <td>29.445958</td>\n      <td>86.888915</td>\n      <td>-33.059413</td>\n      <td>0.047708</td>\n      <td>0.003340</td>\n      <td>0.005184</td>\n    </tr>\n    <tr>\n      <th>40</th>\n      <td>1</td>\n      <td>33.408134</td>\n      <td>86.888915</td>\n      <td>-33.059413</td>\n      <td>0.047433</td>\n      <td>0.003612</td>\n      <td>0.005632</td>\n    </tr>\n    <tr>\n      <th>41</th>\n      <td>1</td>\n      <td>37.370310</td>\n      <td>86.888915</td>\n      <td>-33.059413</td>\n      <td>0.047176</td>\n      <td>0.003769</td>\n      <td>0.005994</td>\n    </tr>\n    <tr>\n      <th>42</th>\n      <td>1</td>\n      <td>41.332486</td>\n      <td>86.888915</td>\n      <td>-33.059413</td>\n      <td>0.046952</td>\n      <td>0.003827</td>\n      <td>0.006386</td>\n    </tr>\n    <tr>\n      <th>43</th>\n      <td>1</td>\n      <td>45.294662</td>\n      <td>86.888915</td>\n      <td>-33.059413</td>\n      <td>0.046776</td>\n      <td>0.003814</td>\n      <td>0.006910</td>\n    </tr>\n    <tr>\n      <th>44</th>\n      <td>1</td>\n      <td>49.256838</td>\n      <td>86.888915</td>\n      <td>-33.059413</td>\n      <td>0.046655</td>\n      <td>0.003732</td>\n      <td>0.007622</td>\n    </tr>\n    <tr>\n      <th>45</th>\n      <td>1</td>\n      <td>53.219014</td>\n      <td>86.888915</td>\n      <td>-33.059413</td>\n      <td>0.046578</td>\n      <td>0.003575</td>\n      <td>0.008473</td>\n    </tr>\n    <tr>\n      <th>46</th>\n      <td>1</td>\n      <td>57.181190</td>\n      <td>86.888915</td>\n      <td>-33.059413</td>\n      <td>0.046529</td>\n      <td>0.003350</td>\n      <td>0.009327</td>\n    </tr>\n    <tr>\n      <th>47</th>\n      <td>1</td>\n      <td>61.143366</td>\n      <td>86.888915</td>\n      <td>-33.059413</td>\n      <td>0.046498</td>\n      <td>0.003095</td>\n      <td>0.009938</td>\n    </tr>\n  </tbody>\n</table>\n</div>"
     },
     "execution_count": 124,
     "metadata": {},
     "output_type": "execute_result"
    }
   ],
   "source": [
    "df[df['time']==1]"
   ],
   "metadata": {
    "collapsed": false
   }
  },
  {
   "cell_type": "code",
   "execution_count": 126,
   "outputs": [],
   "source": [
    "df_t = df.copy()"
   ],
   "metadata": {
    "collapsed": false
   }
  },
  {
   "cell_type": "code",
   "execution_count": 131,
   "outputs": [
    {
     "name": "stderr",
     "output_type": "stream",
     "text": [
      "/tmp/ipykernel_342623/4181585366.py:4: SettingWithCopyWarning: \n",
      "A value is trying to be set on a copy of a slice from a DataFrame\n",
      "\n",
      "See the caveats in the documentation: https://pandas.pydata.org/pandas-docs/stable/user_guide/indexing.html#returning-a-view-versus-a-copy\n",
      "  df_t['vx'].iloc[idx] = np.nan\n",
      "/tmp/ipykernel_342623/4181585366.py:5: SettingWithCopyWarning: \n",
      "A value is trying to be set on a copy of a slice from a DataFrame\n",
      "\n",
      "See the caveats in the documentation: https://pandas.pydata.org/pandas-docs/stable/user_guide/indexing.html#returning-a-view-versus-a-copy\n",
      "  df_t['vy'].iloc[idx] = np.nan\n",
      "/tmp/ipykernel_342623/4181585366.py:6: SettingWithCopyWarning: \n",
      "A value is trying to be set on a copy of a slice from a DataFrame\n",
      "\n",
      "See the caveats in the documentation: https://pandas.pydata.org/pandas-docs/stable/user_guide/indexing.html#returning-a-view-versus-a-copy\n",
      "  df_t['vz'].iloc[idx] = np.nan\n"
     ]
    }
   ],
   "source": [
    "for idx, row in df_t.iterrows():\n",
    "    # print((idx+1) % 3)\n",
    "    if (df_t['time'].iloc[idx] % 3) == 0:\n",
    "        df_t['vx'].iloc[idx] = np.nan\n",
    "        df_t['vy'].iloc[idx] = np.nan\n",
    "        df_t['vz'].iloc[idx] = np.nan"
   ],
   "metadata": {
    "collapsed": false
   }
  },
  {
   "cell_type": "code",
   "execution_count": 132,
   "outputs": [
    {
     "data": {
      "text/plain": "       time           x          y          z        vx        vy        vz\n0         1 -125.078910  86.888915 -33.059413  0.049976  0.002444  0.009331\n1         1 -121.116733  86.888915 -33.059413  0.049832  0.002287  0.009501\n2         1 -117.154557  86.888915 -33.059413  0.049630  0.002129  0.009603\n3         1 -113.192381  86.888915 -33.059413  0.049365  0.001991  0.009568\n4         1 -109.230205  86.888915 -33.059413  0.049041  0.001901  0.009327\n...     ...         ...        ...        ...       ...       ...       ...\n57595  1200   45.294662  86.888915 -33.059413       NaN       NaN       NaN\n57596  1200   49.256838  86.888915 -33.059413       NaN       NaN       NaN\n57597  1200   53.219014  86.888915 -33.059413       NaN       NaN       NaN\n57598  1200   57.181190  86.888915 -33.059413       NaN       NaN       NaN\n57599  1200   61.143366  86.888915 -33.059413       NaN       NaN       NaN\n\n[57600 rows x 7 columns]",
      "text/html": "<div>\n<style scoped>\n    .dataframe tbody tr th:only-of-type {\n        vertical-align: middle;\n    }\n\n    .dataframe tbody tr th {\n        vertical-align: top;\n    }\n\n    .dataframe thead th {\n        text-align: right;\n    }\n</style>\n<table border=\"1\" class=\"dataframe\">\n  <thead>\n    <tr style=\"text-align: right;\">\n      <th></th>\n      <th>time</th>\n      <th>x</th>\n      <th>y</th>\n      <th>z</th>\n      <th>vx</th>\n      <th>vy</th>\n      <th>vz</th>\n    </tr>\n  </thead>\n  <tbody>\n    <tr>\n      <th>0</th>\n      <td>1</td>\n      <td>-125.078910</td>\n      <td>86.888915</td>\n      <td>-33.059413</td>\n      <td>0.049976</td>\n      <td>0.002444</td>\n      <td>0.009331</td>\n    </tr>\n    <tr>\n      <th>1</th>\n      <td>1</td>\n      <td>-121.116733</td>\n      <td>86.888915</td>\n      <td>-33.059413</td>\n      <td>0.049832</td>\n      <td>0.002287</td>\n      <td>0.009501</td>\n    </tr>\n    <tr>\n      <th>2</th>\n      <td>1</td>\n      <td>-117.154557</td>\n      <td>86.888915</td>\n      <td>-33.059413</td>\n      <td>0.049630</td>\n      <td>0.002129</td>\n      <td>0.009603</td>\n    </tr>\n    <tr>\n      <th>3</th>\n      <td>1</td>\n      <td>-113.192381</td>\n      <td>86.888915</td>\n      <td>-33.059413</td>\n      <td>0.049365</td>\n      <td>0.001991</td>\n      <td>0.009568</td>\n    </tr>\n    <tr>\n      <th>4</th>\n      <td>1</td>\n      <td>-109.230205</td>\n      <td>86.888915</td>\n      <td>-33.059413</td>\n      <td>0.049041</td>\n      <td>0.001901</td>\n      <td>0.009327</td>\n    </tr>\n    <tr>\n      <th>...</th>\n      <td>...</td>\n      <td>...</td>\n      <td>...</td>\n      <td>...</td>\n      <td>...</td>\n      <td>...</td>\n      <td>...</td>\n    </tr>\n    <tr>\n      <th>57595</th>\n      <td>1200</td>\n      <td>45.294662</td>\n      <td>86.888915</td>\n      <td>-33.059413</td>\n      <td>NaN</td>\n      <td>NaN</td>\n      <td>NaN</td>\n    </tr>\n    <tr>\n      <th>57596</th>\n      <td>1200</td>\n      <td>49.256838</td>\n      <td>86.888915</td>\n      <td>-33.059413</td>\n      <td>NaN</td>\n      <td>NaN</td>\n      <td>NaN</td>\n    </tr>\n    <tr>\n      <th>57597</th>\n      <td>1200</td>\n      <td>53.219014</td>\n      <td>86.888915</td>\n      <td>-33.059413</td>\n      <td>NaN</td>\n      <td>NaN</td>\n      <td>NaN</td>\n    </tr>\n    <tr>\n      <th>57598</th>\n      <td>1200</td>\n      <td>57.181190</td>\n      <td>86.888915</td>\n      <td>-33.059413</td>\n      <td>NaN</td>\n      <td>NaN</td>\n      <td>NaN</td>\n    </tr>\n    <tr>\n      <th>57599</th>\n      <td>1200</td>\n      <td>61.143366</td>\n      <td>86.888915</td>\n      <td>-33.059413</td>\n      <td>NaN</td>\n      <td>NaN</td>\n      <td>NaN</td>\n    </tr>\n  </tbody>\n</table>\n<p>57600 rows × 7 columns</p>\n</div>"
     },
     "execution_count": 132,
     "metadata": {},
     "output_type": "execute_result"
    }
   ],
   "source": [
    "df_t"
   ],
   "metadata": {
    "collapsed": false
   }
  },
  {
   "cell_type": "code",
   "execution_count": 133,
   "outputs": [],
   "source": [
    "df.to_csv(f\"/mnt/d/sources/data/DL-PTV/merged/original_data.csv\", index=False);\n",
    "df_t.to_csv(f\"/mnt/d/sources/data/DL-PTV/merged/missing.csv\", index=False);"
   ],
   "metadata": {
    "collapsed": false
   }
  },
  {
   "cell_type": "code",
   "execution_count": null,
   "outputs": [],
   "source": [],
   "metadata": {
    "collapsed": false
   }
  },
  {
   "cell_type": "code",
   "execution_count": null,
   "outputs": [],
   "source": [],
   "metadata": {
    "collapsed": false
   }
  },
  {
   "cell_type": "code",
   "execution_count": null,
   "outputs": [],
   "source": [],
   "metadata": {
    "collapsed": false
   }
  },
  {
   "cell_type": "code",
   "execution_count": 107,
   "outputs": [
    {
     "data": {
      "text/plain": "              x          y          z  time        vx        vy        vz\n0    -125.07891  86.888915 -33.059413     1  0.049976  0.002444  0.009331\n1    -125.07891  86.888915 -33.059413     2  0.048241  0.001924  0.006840\n2    -125.07891  86.888915 -33.059413     3       NaN       NaN       NaN\n3    -125.07891  86.888915 -33.059413     4  0.045706  0.003309 -0.002533\n4    -125.07891  86.888915 -33.059413     5  0.046131  0.003496 -0.003103\n...         ...        ...        ...   ...       ...       ...       ...\n1195 -125.07891  86.888915 -33.059413  1196  0.047288  0.000353  0.008464\n1196 -125.07891  86.888915 -33.059413  1197       NaN       NaN       NaN\n1197 -125.07891  86.888915 -33.059413  1198  0.047505  0.001516  0.005546\n1198 -125.07891  86.888915 -33.059413  1199  0.046954  0.002016  0.004891\n1199 -125.07891  86.888915 -33.059413  1200       NaN       NaN       NaN\n\n[1200 rows x 7 columns]",
      "text/html": "<div>\n<style scoped>\n    .dataframe tbody tr th:only-of-type {\n        vertical-align: middle;\n    }\n\n    .dataframe tbody tr th {\n        vertical-align: top;\n    }\n\n    .dataframe thead th {\n        text-align: right;\n    }\n</style>\n<table border=\"1\" class=\"dataframe\">\n  <thead>\n    <tr style=\"text-align: right;\">\n      <th></th>\n      <th>x</th>\n      <th>y</th>\n      <th>z</th>\n      <th>time</th>\n      <th>vx</th>\n      <th>vy</th>\n      <th>vz</th>\n    </tr>\n  </thead>\n  <tbody>\n    <tr>\n      <th>0</th>\n      <td>-125.07891</td>\n      <td>86.888915</td>\n      <td>-33.059413</td>\n      <td>1</td>\n      <td>0.049976</td>\n      <td>0.002444</td>\n      <td>0.009331</td>\n    </tr>\n    <tr>\n      <th>1</th>\n      <td>-125.07891</td>\n      <td>86.888915</td>\n      <td>-33.059413</td>\n      <td>2</td>\n      <td>0.048241</td>\n      <td>0.001924</td>\n      <td>0.006840</td>\n    </tr>\n    <tr>\n      <th>2</th>\n      <td>-125.07891</td>\n      <td>86.888915</td>\n      <td>-33.059413</td>\n      <td>3</td>\n      <td>NaN</td>\n      <td>NaN</td>\n      <td>NaN</td>\n    </tr>\n    <tr>\n      <th>3</th>\n      <td>-125.07891</td>\n      <td>86.888915</td>\n      <td>-33.059413</td>\n      <td>4</td>\n      <td>0.045706</td>\n      <td>0.003309</td>\n      <td>-0.002533</td>\n    </tr>\n    <tr>\n      <th>4</th>\n      <td>-125.07891</td>\n      <td>86.888915</td>\n      <td>-33.059413</td>\n      <td>5</td>\n      <td>0.046131</td>\n      <td>0.003496</td>\n      <td>-0.003103</td>\n    </tr>\n    <tr>\n      <th>...</th>\n      <td>...</td>\n      <td>...</td>\n      <td>...</td>\n      <td>...</td>\n      <td>...</td>\n      <td>...</td>\n      <td>...</td>\n    </tr>\n    <tr>\n      <th>1195</th>\n      <td>-125.07891</td>\n      <td>86.888915</td>\n      <td>-33.059413</td>\n      <td>1196</td>\n      <td>0.047288</td>\n      <td>0.000353</td>\n      <td>0.008464</td>\n    </tr>\n    <tr>\n      <th>1196</th>\n      <td>-125.07891</td>\n      <td>86.888915</td>\n      <td>-33.059413</td>\n      <td>1197</td>\n      <td>NaN</td>\n      <td>NaN</td>\n      <td>NaN</td>\n    </tr>\n    <tr>\n      <th>1197</th>\n      <td>-125.07891</td>\n      <td>86.888915</td>\n      <td>-33.059413</td>\n      <td>1198</td>\n      <td>0.047505</td>\n      <td>0.001516</td>\n      <td>0.005546</td>\n    </tr>\n    <tr>\n      <th>1198</th>\n      <td>-125.07891</td>\n      <td>86.888915</td>\n      <td>-33.059413</td>\n      <td>1199</td>\n      <td>0.046954</td>\n      <td>0.002016</td>\n      <td>0.004891</td>\n    </tr>\n    <tr>\n      <th>1199</th>\n      <td>-125.07891</td>\n      <td>86.888915</td>\n      <td>-33.059413</td>\n      <td>1200</td>\n      <td>NaN</td>\n      <td>NaN</td>\n      <td>NaN</td>\n    </tr>\n  </tbody>\n</table>\n<p>1200 rows × 7 columns</p>\n</div>"
     },
     "execution_count": 107,
     "metadata": {},
     "output_type": "execute_result"
    }
   ],
   "source": [
    "df_t"
   ],
   "metadata": {
    "collapsed": false
   }
  },
  {
   "cell_type": "code",
   "execution_count": 6,
   "outputs": [],
   "source": [
    "df.sort_values(by=['time','loc_point'], inplace=True)"
   ],
   "metadata": {
    "collapsed": false
   }
  },
  {
   "cell_type": "code",
   "execution_count": 9,
   "outputs": [],
   "source": [
    "df.reset_index(inplace=True, drop=True)"
   ],
   "metadata": {
    "collapsed": false
   }
  },
  {
   "cell_type": "code",
   "execution_count": 10,
   "outputs": [
    {
     "data": {
      "text/plain": "         vx        vy        vz  time  loc_point\n0  0.049976  0.002444  0.009331     1          1\n1  0.049832  0.002287  0.009501     1          2\n2  0.049630  0.002129  0.009603     1          3\n3  0.049365  0.001991  0.009568     1          4\n4  0.049041  0.001901  0.009327     1          5",
      "text/html": "<div>\n<style scoped>\n    .dataframe tbody tr th:only-of-type {\n        vertical-align: middle;\n    }\n\n    .dataframe tbody tr th {\n        vertical-align: top;\n    }\n\n    .dataframe thead th {\n        text-align: right;\n    }\n</style>\n<table border=\"1\" class=\"dataframe\">\n  <thead>\n    <tr style=\"text-align: right;\">\n      <th></th>\n      <th>vx</th>\n      <th>vy</th>\n      <th>vz</th>\n      <th>time</th>\n      <th>loc_point</th>\n    </tr>\n  </thead>\n  <tbody>\n    <tr>\n      <th>0</th>\n      <td>0.049976</td>\n      <td>0.002444</td>\n      <td>0.009331</td>\n      <td>1</td>\n      <td>1</td>\n    </tr>\n    <tr>\n      <th>1</th>\n      <td>0.049832</td>\n      <td>0.002287</td>\n      <td>0.009501</td>\n      <td>1</td>\n      <td>2</td>\n    </tr>\n    <tr>\n      <th>2</th>\n      <td>0.049630</td>\n      <td>0.002129</td>\n      <td>0.009603</td>\n      <td>1</td>\n      <td>3</td>\n    </tr>\n    <tr>\n      <th>3</th>\n      <td>0.049365</td>\n      <td>0.001991</td>\n      <td>0.009568</td>\n      <td>1</td>\n      <td>4</td>\n    </tr>\n    <tr>\n      <th>4</th>\n      <td>0.049041</td>\n      <td>0.001901</td>\n      <td>0.009327</td>\n      <td>1</td>\n      <td>5</td>\n    </tr>\n  </tbody>\n</table>\n</div>"
     },
     "execution_count": 10,
     "metadata": {},
     "output_type": "execute_result"
    }
   ],
   "source": [
    "df.head()"
   ],
   "metadata": {
    "collapsed": false
   }
  },
  {
   "cell_type": "code",
   "execution_count": 11,
   "outputs": [],
   "source": [
    "df.to_pickle(f\"/mnt/d/sources/data/DL-PTV/merged/3p6_loc.pkl\", compression='zip')"
   ],
   "metadata": {
    "collapsed": false
   }
  },
  {
   "cell_type": "code",
   "execution_count": 20,
   "outputs": [],
   "source": [
    "df.to_csv(f\"/mnt/d/sources/data/DL-PTV/merged/{speed_to_folder(speed)}.csv\");"
   ],
   "metadata": {
    "collapsed": false
   }
  },
  {
   "cell_type": "code",
   "execution_count": 29,
   "outputs": [],
   "source": [
    "sppeds=[0.06528,0.06852,0.07824,0.09768,0.10092,0.11064,0.12036,0.13008,0.16248,0.17868]\n",
    "for speed in sppeds:\n",
    "    df = get_files_list(speed)\n",
    "    df.to_pickle(f\"/mnt/d/sources/data/DL-PTV/merged/{speed_to_folder(speed)}.pkl\", compression='zip')"
   ],
   "metadata": {
    "collapsed": false
   }
  },
  {
   "cell_type": "code",
   "execution_count": 22,
   "outputs": [],
   "source": [
    "df.to_pickle(f\"/mnt/d/sources/data/DL-PTV/merged/{speed_to_folder(speed)}.pkl\", compression='zip')"
   ],
   "metadata": {
    "collapsed": false
   }
  },
  {
   "cell_type": "code",
   "execution_count": 23,
   "outputs": [],
   "source": [
    "new_df = pd.read_pickle(f\"/mnt/d/sources/data/DL-PTV/merged/{speed_to_folder(speed)}.pkl\", compression='zip')"
   ],
   "metadata": {
    "collapsed": false
   }
  },
  {
   "cell_type": "code",
   "execution_count": 93,
   "outputs": [],
   "source": [
    "test_data = df.iloc[100:300,:]\n",
    "test_data.to_pickle(f\"/mnt/d/sources/data/DL-PTV/merged/test1.pkl\", compression='zip')"
   ],
   "metadata": {
    "collapsed": false
   }
  },
  {
   "cell_type": "code",
   "execution_count": 94,
   "outputs": [],
   "source": [
    "test_data = df.iloc[3000:3300,:]\n",
    "test_data.to_pickle(f\"/mnt/d/sources/data/DL-PTV/merged/test2.pkl\", compression='zip')"
   ],
   "metadata": {
    "collapsed": false
   }
  },
  {
   "cell_type": "code",
   "execution_count": 95,
   "outputs": [],
   "source": [
    "test_data = df.iloc[8000:8300,:]\n",
    "test_data.to_pickle(f\"/mnt/d/sources/data/DL-PTV/merged/test3.pkl\", compression='zip')"
   ],
   "metadata": {
    "collapsed": false
   }
  },
  {
   "cell_type": "code",
   "execution_count": 48,
   "outputs": [
    {
     "data": {
      "text/plain": "7"
     },
     "execution_count": 48,
     "metadata": {},
     "output_type": "execute_result"
    }
   ],
   "source": [
    "new_df.shape[1]"
   ],
   "metadata": {
    "collapsed": false
   }
  },
  {
   "cell_type": "code",
   "execution_count": 45,
   "outputs": [
    {
     "data": {
      "text/plain": "array([[-6.16840920e+01, -5.97116000e+01, -2.90972370e+01,\n         1.71515000e-01, -2.89943200e-04, -2.36501100e-04,\n         5.70000000e+01],\n       [-5.77219160e+01, -5.97116000e+01, -2.90972370e+01,\n         1.70899000e-01, -2.61071200e-06, -3.24674000e-04,\n         5.70000000e+01],\n       [-5.37597400e+01, -5.97116000e+01, -2.90972370e+01,\n         1.69658000e-01, -1.03361800e-04, -7.82681100e-04,\n         5.70000000e+01],\n       [-4.97975640e+01, -5.97116000e+01, -2.90972370e+01,\n         1.67861000e-01, -5.83022500e-04, -1.06800000e-03,\n         5.70000000e+01],\n       [-4.58353880e+01, -5.97116000e+01, -2.90972370e+01,\n         1.65986000e-01, -1.41900000e-03, -4.49711600e-04,\n         5.70000000e+01],\n       [-4.18732120e+01, -5.97116000e+01, -2.90972370e+01,\n         1.64646000e-01, -2.67700000e-03,  1.20100000e-03,\n         5.70000000e+01],\n       [-3.79110360e+01, -5.97116000e+01, -2.90972370e+01,\n         1.64261000e-01, -4.53000000e-03,  2.71400000e-03,\n         5.70000000e+01],\n       [-3.39488600e+01, -5.97116000e+01, -2.90972370e+01,\n         1.64913000e-01, -6.99600000e-03,  2.03700000e-03,\n         5.70000000e+01],\n       [-2.99866830e+01, -5.97116000e+01, -2.90972370e+01,\n         1.66401000e-01, -9.90400000e-03, -2.31700000e-03,\n         5.70000000e+01],\n       [-2.60245070e+01, -5.97116000e+01, -2.90972370e+01,\n         1.68280000e-01, -1.27770000e-02, -9.44700000e-03,\n         5.70000000e+01],\n       [-2.20623310e+01, -5.97116000e+01, -2.90972370e+01,\n         1.69974000e-01, -1.51030000e-02, -1.70090000e-02,\n         5.70000000e+01],\n       [-1.81001550e+01, -5.97116000e+01, -2.90972370e+01,\n         1.71092000e-01, -1.66400000e-02, -2.26260000e-02,\n         5.70000000e+01],\n       [-1.41379790e+01, -5.97116000e+01, -2.90972370e+01,\n         1.71579000e-01, -1.73010000e-02, -2.44800000e-02,\n         5.70000000e+01],\n       [-1.01758030e+01, -5.97116000e+01, -2.90972370e+01,\n         1.71556000e-01, -1.74760000e-02, -2.19590000e-02,\n         5.70000000e+01],\n       [-6.21362700e+00, -5.97116000e+01, -2.90972370e+01,\n         1.71216000e-01, -1.78430000e-02, -1.55120000e-02,\n         5.70000000e+01],\n       [-2.25145100e+00, -5.97116000e+01, -2.90972370e+01,\n         1.70856000e-01, -1.89460000e-02, -7.24400000e-03,\n         5.70000000e+01],\n       [ 1.71072500e+00, -5.97116000e+01, -2.90972370e+01,\n         1.70987000e-01, -2.09340000e-02,  1.78383400e-04,\n         5.70000000e+01],\n       [ 5.67290100e+00, -5.97116000e+01, -2.90972370e+01,\n         1.72165000e-01, -2.31690000e-02,  5.01000000e-03,\n         5.70000000e+01],\n       [ 9.63507700e+00, -5.97116000e+01, -2.90972370e+01,\n         1.74550000e-01, -2.47400000e-02,  6.54000000e-03,\n         5.70000000e+01],\n       [ 1.35972530e+01, -5.97116000e+01, -2.90972370e+01,\n         1.77763000e-01, -2.49810000e-02,  5.50600000e-03,\n         5.70000000e+01],\n       [ 1.75594300e+01, -5.97116000e+01, -2.90972370e+01,\n         1.81072000e-01, -2.37480000e-02,  3.45000000e-03,\n         5.70000000e+01],\n       [ 2.15216060e+01, -5.97116000e+01, -2.90972370e+01,\n         1.83911000e-01, -2.15300000e-02,  2.11900000e-03,\n         5.70000000e+01],\n       [ 2.54837820e+01, -5.97116000e+01, -2.90972370e+01,\n         1.86235000e-01, -1.87000000e-02,  2.73700000e-03,\n         5.70000000e+01],\n       [ 2.94459580e+01, -5.97116000e+01, -2.90972370e+01,\n         1.88272000e-01, -1.52520000e-02,  4.92000000e-03,\n         5.70000000e+01],\n       [ 3.34081340e+01, -5.97116000e+01, -2.90972370e+01,\n         1.90092000e-01, -1.10250000e-02,  7.29800000e-03,\n         5.70000000e+01],\n       [ 3.73703100e+01, -5.97116000e+01, -2.90972370e+01,\n         1.91346000e-01, -6.16100000e-03,  8.38000000e-03,\n         5.70000000e+01],\n       [ 4.13324860e+01, -5.97116000e+01, -2.90972370e+01,\n         1.91538000e-01, -1.37000000e-03,  7.06200000e-03,\n         5.70000000e+01],\n       [ 4.52946620e+01, -5.97116000e+01, -2.90972370e+01,\n         1.90459000e-01,  2.63500000e-03,  3.63700000e-03,\n         5.70000000e+01],\n       [ 4.92568380e+01, -5.97116000e+01, -2.90972370e+01,\n         1.88321000e-01,  5.55300000e-03, -1.46742900e-04,\n         5.70000000e+01],\n       [ 5.32190140e+01, -5.97116000e+01, -2.90972370e+01,\n         1.85554000e-01,  7.66300000e-03, -2.08900000e-03,\n         5.70000000e+01],\n       [ 5.71811900e+01, -5.97116000e+01, -2.90972370e+01,\n         1.82553000e-01,  9.41600000e-03, -1.24900000e-03,\n         5.70000000e+01],\n       [ 6.11433660e+01, -5.97116000e+01, -2.90972370e+01,\n         1.79650000e-01,  1.08810000e-02,  1.10100000e-03,\n         5.70000000e+01],\n       [ 6.51055430e+01, -5.97116000e+01, -2.90972370e+01,\n         1.77095000e-01,  1.19370000e-02,  2.91200000e-03,\n         5.70000000e+01],\n       [ 6.90677190e+01, -5.97116000e+01, -2.90972370e+01,\n         1.74979000e-01,  1.24400000e-02,  3.19000000e-03,\n         5.70000000e+01],\n       [ 7.30298950e+01, -5.97116000e+01, -2.90972370e+01,\n         1.73223000e-01,  1.24440000e-02,  2.49600000e-03,\n         5.70000000e+01],\n       [ 7.69920710e+01, -5.97116000e+01, -2.90972370e+01,\n         1.71641000e-01,  1.21570000e-02,  2.17000000e-03,\n         5.70000000e+01],\n       [ 8.09542470e+01, -5.97116000e+01, -2.90972370e+01,\n         1.70095000e-01,  1.16690000e-02,  3.14200000e-03,\n         5.70000000e+01],\n       [ 8.49164230e+01, -5.97116000e+01, -2.90972370e+01,\n         1.68534000e-01,  1.10000000e-02,  5.12500000e-03,\n         5.70000000e+01],\n       [ 8.88785990e+01, -5.97116000e+01, -2.90972370e+01,\n         1.66950000e-01,  1.00780000e-02,  6.98200000e-03,\n         5.70000000e+01],\n       [ 9.28407750e+01, -5.97116000e+01, -2.90972370e+01,\n         1.65341000e-01,  8.82600000e-03,  7.43300000e-03,\n         5.70000000e+01],\n       [ 9.68029510e+01, -5.97116000e+01, -2.90972370e+01,\n         1.63648000e-01,  7.21600000e-03,  5.48600000e-03,\n         5.70000000e+01],\n       [ 1.00765127e+02, -5.97116000e+01, -2.90972370e+01,\n         1.61843000e-01,  5.28400000e-03,  1.18900000e-03,\n         5.70000000e+01],\n       [ 1.04727303e+02, -5.97116000e+01, -2.90972370e+01,\n         1.59923000e-01,  3.24100000e-03, -4.32600000e-03,\n         5.70000000e+01],\n       [ 1.08689479e+02, -5.97116000e+01, -2.90972370e+01,\n         1.57843000e-01,  1.43300000e-03, -9.27700000e-03,\n         5.70000000e+01],\n       [ 1.12651656e+02, -5.97116000e+01, -2.90972370e+01,\n         1.55583000e-01,  1.99370300e-04, -1.23810000e-02,\n         5.70000000e+01],\n       [ 1.16613832e+02, -5.97116000e+01, -2.90972370e+01,\n         1.53174000e-01, -2.92090000e-04, -1.37670000e-02,\n         5.70000000e+01],\n       [ 1.20576008e+02, -5.97116000e+01, -2.90972370e+01,\n         1.50724000e-01, -5.95625700e-05, -1.41360000e-02,\n         5.70000000e+01],\n       [ 1.24538184e+02, -5.97116000e+01, -2.90972370e+01,\n         1.48345000e-01,  7.20965600e-04, -1.40110000e-02,\n         5.70000000e+01],\n       [-1.25078910e+02, -6.36737770e+01, -2.90972370e+01,\n         1.74995000e-01, -1.36380000e-02, -1.07760000e-02,\n         5.70000000e+01],\n       [-1.21116733e+02, -6.36737770e+01, -2.90972370e+01,\n         1.74698000e-01, -1.27380000e-02, -7.72400000e-03,\n         5.70000000e+01],\n       [-1.17154557e+02, -6.36737770e+01, -2.90972370e+01,\n         1.74091000e-01, -1.16940000e-02, -4.08600000e-03,\n         5.70000000e+01],\n       [-1.13192381e+02, -6.36737770e+01, -2.90972370e+01,\n         1.73322000e-01, -1.08010000e-02, -5.57235700e-04,\n         5.70000000e+01],\n       [-1.09230205e+02, -6.36737770e+01, -2.90972370e+01,\n         1.72625000e-01, -1.02640000e-02,  1.85100000e-03,\n         5.70000000e+01],\n       [-1.05268029e+02, -6.36737770e+01, -2.90972370e+01,\n         1.72293000e-01, -1.00300000e-02,  2.57400000e-03,\n         5.70000000e+01],\n       [-1.01305853e+02, -6.36737770e+01, -2.90972370e+01,\n         1.72529000e-01, -9.86300000e-03,  1.84600000e-03,\n         5.70000000e+01],\n       [-9.73436770e+01, -6.36737770e+01, -2.90972370e+01,\n         1.73240000e-01, -9.55800000e-03,  5.98430400e-04,\n         5.70000000e+01],\n       [-9.33815010e+01, -6.36737770e+01, -2.90972370e+01,\n         1.73996000e-01, -9.12600000e-03, -5.61642000e-04,\n         5.70000000e+01],\n       [-8.94193250e+01, -6.36737770e+01, -2.90972370e+01,\n         1.74302000e-01, -8.66600000e-03, -1.78200000e-03,\n         5.70000000e+01],\n       [-8.54571490e+01, -6.36737770e+01, -2.90972370e+01,\n         1.73923000e-01, -8.09900000e-03, -3.41600000e-03,\n         5.70000000e+01],\n       [-8.14949730e+01, -6.36737770e+01, -2.90972370e+01,\n         1.73007000e-01, -7.19200000e-03, -5.40600000e-03,\n         5.70000000e+01],\n       [-7.75327970e+01, -6.36737770e+01, -2.90972370e+01,\n         1.71976000e-01, -5.84200000e-03, -7.05300000e-03,\n         5.70000000e+01],\n       [-7.35706200e+01, -6.36737770e+01, -2.90972370e+01,\n         1.71230000e-01, -4.28500000e-03, -7.57000000e-03,\n         5.70000000e+01],\n       [-6.96084440e+01, -6.36737770e+01, -2.90972370e+01,\n         1.70921000e-01, -2.91200000e-03, -6.56300000e-03,\n         5.70000000e+01],\n       [-6.56462680e+01, -6.36737770e+01, -2.90972370e+01,\n         1.70937000e-01, -1.94500000e-03, -4.29700000e-03,\n         5.70000000e+01],\n       [-6.16840920e+01, -6.36737770e+01, -2.90972370e+01,\n         1.71005000e-01, -1.41800000e-03, -1.60600000e-03,\n         5.70000000e+01],\n       [-5.77219160e+01, -6.36737770e+01, -2.90972370e+01,\n         1.70815000e-01, -1.29900000e-03,  5.24756900e-04,\n         5.70000000e+01],\n       [-5.37597400e+01, -6.36737770e+01, -2.90972370e+01,\n         1.70104000e-01, -1.46300000e-03,  1.62900000e-03,\n         5.70000000e+01],\n       [-4.97975640e+01, -6.36737770e+01, -2.90972370e+01,\n         1.68819000e-01, -1.72400000e-03,  2.07900000e-03,\n         5.70000000e+01],\n       [-4.58353880e+01, -6.36737770e+01, -2.90972370e+01,\n         1.67240000e-01, -1.91900000e-03,  2.82100000e-03,\n         5.70000000e+01],\n       [-4.18732120e+01, -6.36737770e+01, -2.90972370e+01,\n         1.65844000e-01, -2.14100000e-03,  4.34400000e-03,\n         5.70000000e+01],\n       [-3.79110360e+01, -6.36737770e+01, -2.90972370e+01,\n         1.65046000e-01, -2.77100000e-03,  5.65500000e-03,\n         5.70000000e+01],\n       [-3.39488600e+01, -6.36737770e+01, -2.90972370e+01,\n         1.65045000e-01, -4.18900000e-03,  4.70600000e-03,\n         5.70000000e+01],\n       [-2.99866830e+01, -6.36737770e+01, -2.90972370e+01,\n         1.65833000e-01, -6.54900000e-03,  8.16909700e-05,\n         5.70000000e+01],\n       [-2.60245070e+01, -6.36737770e+01, -2.90972370e+01,\n         1.67184000e-01, -9.50800000e-03, -7.21300000e-03,\n         5.70000000e+01],\n       [-2.20623310e+01, -6.36737770e+01, -2.90972370e+01,\n         1.68681000e-01, -1.24600000e-02, -1.46980000e-02,\n         5.70000000e+01],\n       [-1.81001550e+01, -6.36737770e+01, -2.90972370e+01,\n         1.69982000e-01, -1.48750000e-02, -2.00730000e-02,\n         5.70000000e+01],\n       [-1.41379790e+01, -6.36737770e+01, -2.90972370e+01,\n         1.71003000e-01, -1.63670000e-02, -2.18910000e-02,\n         5.70000000e+01],\n       [-1.01758030e+01, -6.36737770e+01, -2.90972370e+01,\n         1.71757000e-01, -1.70560000e-02, -1.99030000e-02,\n         5.70000000e+01],\n       [-6.21362700e+00, -6.36737770e+01, -2.90972370e+01,\n         1.72284000e-01, -1.74050000e-02, -1.45360000e-02,\n         5.70000000e+01],\n       [-2.25145100e+00, -6.36737770e+01, -2.90972370e+01,\n         1.72725000e-01, -1.78640000e-02, -7.32800000e-03,\n         5.70000000e+01],\n       [ 1.71072500e+00, -6.36737770e+01, -2.90972370e+01,\n         1.73442000e-01, -1.86390000e-02, -4.99764000e-04,\n         5.70000000e+01],\n       [ 5.67290100e+00, -6.36737770e+01, -2.90972370e+01,\n         1.74858000e-01, -1.94090000e-02,  3.94700000e-03,\n         5.70000000e+01],\n       [ 9.63507700e+00, -6.36737770e+01, -2.90972370e+01,\n         1.77041000e-01, -1.96980000e-02,  4.68300000e-03,\n         5.70000000e+01],\n       [ 1.35972530e+01, -6.36737770e+01, -2.90972370e+01,\n         1.79656000e-01, -1.92150000e-02,  2.17000000e-03,\n         5.70000000e+01],\n       [ 1.75594300e+01, -6.36737770e+01, -2.90972370e+01,\n         1.82117000e-01, -1.79230000e-02, -1.67700000e-03,\n         5.70000000e+01],\n       [ 2.15216060e+01, -6.36737770e+01, -2.90972370e+01,\n         1.83989000e-01, -1.60940000e-02, -4.37900000e-03,\n         5.70000000e+01],\n       [ 2.54837820e+01, -6.36737770e+01, -2.90972370e+01,\n         1.85290000e-01, -1.38970000e-02, -4.24800000e-03,\n         5.70000000e+01],\n       [ 2.94459580e+01, -6.36737770e+01, -2.90972370e+01,\n         1.86326000e-01, -1.12790000e-02, -1.71500000e-03,\n         5.70000000e+01],\n       [ 3.34081340e+01, -6.36737770e+01, -2.90972370e+01,\n         1.87321000e-01, -8.16700000e-03,  1.57200000e-03,\n         5.70000000e+01],\n       [ 3.73703100e+01, -6.36737770e+01, -2.90972370e+01,\n         1.88104000e-01, -4.68200000e-03,  3.85000000e-03,\n         5.70000000e+01],\n       [ 4.13324860e+01, -6.36737770e+01, -2.90972370e+01,\n         1.88283000e-01, -1.34400000e-03,  3.86500000e-03,\n         5.70000000e+01],\n       [ 4.52946620e+01, -6.36737770e+01, -2.90972370e+01,\n         1.87616000e-01,  1.38200000e-03,  1.58700000e-03,\n         5.70000000e+01],\n       [ 4.92568380e+01, -6.36737770e+01, -2.90972370e+01,\n         1.86132000e-01,  3.42100000e-03, -1.53100000e-03,\n         5.70000000e+01],\n       [ 5.32190140e+01, -6.36737770e+01, -2.90972370e+01,\n         1.83987000e-01,  5.08600000e-03, -3.21400000e-03,\n         5.70000000e+01],\n       [ 5.71811900e+01, -6.36737770e+01, -2.90972370e+01,\n         1.81374000e-01,  6.67700000e-03, -2.23900000e-03,\n         5.70000000e+01],\n       [ 6.11433660e+01, -6.36737770e+01, -2.90972370e+01,\n         1.78601000e-01,  8.06600000e-03,  4.31463100e-04,\n         5.70000000e+01],\n       [ 6.51055430e+01, -6.36737770e+01, -2.90972370e+01,\n         1.76030000e-01,  9.01400000e-03,  2.81400000e-03,\n         5.70000000e+01],\n       [ 6.90677190e+01, -6.36737770e+01, -2.90972370e+01,\n         1.73915000e-01,  9.44800000e-03,  3.82600000e-03,\n         5.70000000e+01],\n       [ 7.30298950e+01, -6.36737770e+01, -2.90972370e+01,\n         1.72293000e-01,  9.54100000e-03,  3.88100000e-03,\n         5.70000000e+01],\n       [ 7.69920710e+01, -6.36737770e+01, -2.90972370e+01,\n         1.70998000e-01,  9.53000000e-03,  4.14500000e-03,\n         5.70000000e+01]])"
     },
     "execution_count": 45,
     "metadata": {},
     "output_type": "execute_result"
    }
   ],
   "source": [
    "test_data.values.reshape(-1,7)"
   ],
   "metadata": {
    "collapsed": false
   }
  },
  {
   "cell_type": "code",
   "execution_count": 6,
   "outputs": [],
   "source": [
    "def concat_files1():\n",
    "    speeds=[0.05232,0.06528]\n",
    "    #     speeds=[0.05232,0.06528,0.06852,0.07824,0.09768,0.10092,0.11064,0.12036,0.13008,0.16248,0.17868]\n",
    "    data = []\n",
    "    for speed in speeds:\n",
    "        new_df = get_files_list(speed)\n",
    "        data.append(new_df)\n",
    "\n",
    "    df = pd.concat(data, ignore_index=True)\n",
    "\n",
    "    return df"
   ],
   "metadata": {
    "collapsed": false
   }
  },
  {
   "cell_type": "code",
   "execution_count": 7,
   "outputs": [],
   "source": [
    "# def concat_files():\n",
    "#     speeds=[0.055555]\n",
    "#     #     sppeds=[0.05232,0.06528,0.06852,0.07824,0.09768,0.10092,0.11064,0.12036,0.13008,0.16248,0.17868]\n",
    "#     data = []\n",
    "#     train_data = []\n",
    "#     test_data = []\n",
    "#\n",
    "#     for speed in speeds:\n",
    "#         train_sample = train_no(speed,0.8)\n",
    "#         new_df = get_files_list(speed)\n",
    "#         train_df = new_df[new_df['time']<=train_sample]\n",
    "#         test_df = new_df[new_df['time']>train_sample]\n",
    "#         train_data.append(train_df)\n",
    "#         test_data.append(test_df)\n",
    "#\n",
    "#     df_train = pd.concat(train_data, ignore_index=True)\n",
    "#     df_test = pd.concat(test_data, ignore_index=True)\n",
    "#\n",
    "#     return df_train.to_numpy(dtype='float64'), df_test.to_numpy(dtype='float64')"
   ],
   "metadata": {
    "collapsed": false
   }
  },
  {
   "cell_type": "code",
   "execution_count": 72,
   "outputs": [
    {
     "data": {
      "text/plain": "             x          y          z        vx        vy        vz  time\n0    17.559430  82.926739 -33.059413  0.169153  0.004961  0.000826     1\n1    21.521606  82.926739 -33.059413  0.168211  0.006639  0.003873     1\n2    25.483782  82.926739 -33.059413  0.167201  0.008493  0.003999     1\n3    29.445958  82.926739 -33.059413  0.166278  0.010426  0.001571     1\n4    33.408134  82.926739 -33.059413  0.165591  0.012348 -0.002446     1\n..         ...        ...        ...       ...       ...       ...   ...\n295  61.143366 -63.673777 -29.097237  0.178601  0.008066  0.000431    10\n296  65.105543 -63.673777 -29.097237  0.176030  0.009014  0.002814    10\n297  69.067719 -63.673777 -29.097237  0.173915  0.009448  0.003826    10\n298  73.029895 -63.673777 -29.097237  0.172293  0.009541  0.003881    10\n299  76.992071 -63.673777 -29.097237  0.170998  0.009530  0.004145    10\n\n[300 rows x 7 columns]",
      "text/html": "<div>\n<style scoped>\n    .dataframe tbody tr th:only-of-type {\n        vertical-align: middle;\n    }\n\n    .dataframe tbody tr th {\n        vertical-align: top;\n    }\n\n    .dataframe thead th {\n        text-align: right;\n    }\n</style>\n<table border=\"1\" class=\"dataframe\">\n  <thead>\n    <tr style=\"text-align: right;\">\n      <th></th>\n      <th>x</th>\n      <th>y</th>\n      <th>z</th>\n      <th>vx</th>\n      <th>vy</th>\n      <th>vz</th>\n      <th>time</th>\n    </tr>\n  </thead>\n  <tbody>\n    <tr>\n      <th>0</th>\n      <td>17.559430</td>\n      <td>82.926739</td>\n      <td>-33.059413</td>\n      <td>0.169153</td>\n      <td>0.004961</td>\n      <td>0.000826</td>\n      <td>1</td>\n    </tr>\n    <tr>\n      <th>1</th>\n      <td>21.521606</td>\n      <td>82.926739</td>\n      <td>-33.059413</td>\n      <td>0.168211</td>\n      <td>0.006639</td>\n      <td>0.003873</td>\n      <td>1</td>\n    </tr>\n    <tr>\n      <th>2</th>\n      <td>25.483782</td>\n      <td>82.926739</td>\n      <td>-33.059413</td>\n      <td>0.167201</td>\n      <td>0.008493</td>\n      <td>0.003999</td>\n      <td>1</td>\n    </tr>\n    <tr>\n      <th>3</th>\n      <td>29.445958</td>\n      <td>82.926739</td>\n      <td>-33.059413</td>\n      <td>0.166278</td>\n      <td>0.010426</td>\n      <td>0.001571</td>\n      <td>1</td>\n    </tr>\n    <tr>\n      <th>4</th>\n      <td>33.408134</td>\n      <td>82.926739</td>\n      <td>-33.059413</td>\n      <td>0.165591</td>\n      <td>0.012348</td>\n      <td>-0.002446</td>\n      <td>1</td>\n    </tr>\n    <tr>\n      <th>...</th>\n      <td>...</td>\n      <td>...</td>\n      <td>...</td>\n      <td>...</td>\n      <td>...</td>\n      <td>...</td>\n      <td>...</td>\n    </tr>\n    <tr>\n      <th>295</th>\n      <td>61.143366</td>\n      <td>-63.673777</td>\n      <td>-29.097237</td>\n      <td>0.178601</td>\n      <td>0.008066</td>\n      <td>0.000431</td>\n      <td>10</td>\n    </tr>\n    <tr>\n      <th>296</th>\n      <td>65.105543</td>\n      <td>-63.673777</td>\n      <td>-29.097237</td>\n      <td>0.176030</td>\n      <td>0.009014</td>\n      <td>0.002814</td>\n      <td>10</td>\n    </tr>\n    <tr>\n      <th>297</th>\n      <td>69.067719</td>\n      <td>-63.673777</td>\n      <td>-29.097237</td>\n      <td>0.173915</td>\n      <td>0.009448</td>\n      <td>0.003826</td>\n      <td>10</td>\n    </tr>\n    <tr>\n      <th>298</th>\n      <td>73.029895</td>\n      <td>-63.673777</td>\n      <td>-29.097237</td>\n      <td>0.172293</td>\n      <td>0.009541</td>\n      <td>0.003881</td>\n      <td>10</td>\n    </tr>\n    <tr>\n      <th>299</th>\n      <td>76.992071</td>\n      <td>-63.673777</td>\n      <td>-29.097237</td>\n      <td>0.170998</td>\n      <td>0.009530</td>\n      <td>0.004145</td>\n      <td>10</td>\n    </tr>\n  </tbody>\n</table>\n<p>300 rows × 7 columns</p>\n</div>"
     },
     "execution_count": 72,
     "metadata": {},
     "output_type": "execute_result"
    }
   ],
   "source": [
    "df"
   ],
   "metadata": {
    "collapsed": false
   }
  },
  {
   "cell_type": "code",
   "execution_count": 68,
   "outputs": [],
   "source": [
    "a=0\n",
    "b=1\n",
    "for d in [30,60,90,120,150,180,210,240,270,300]:\n",
    "    df.loc[a:d,\"time\"]=b\n",
    "    a=d+1\n",
    "    b=b+1"
   ],
   "metadata": {
    "collapsed": false
   }
  },
  {
   "cell_type": "code",
   "execution_count": 99,
   "outputs": [],
   "source": [
    "path = \"/mnt/d/sources/data/DL-PTV/merged/\"\n",
    "data = []\n",
    "for speed in [\"test1\", \"test2\",\"test3\"]:\n",
    "    data.append(pd.read_pickle(path+speed+\".pkl\",compression=\"zip\"))\n",
    "\n",
    "df = pd.concat(data,ignore_index=True)\n",
    "a=0\n",
    "b=1\n",
    "for d in [30,60,90,120,150,180,210,240,270,300,330,360,390,410,440,470,500,530,560,590,620,650,680,710,740,770,800]:\n",
    "    df.loc[a:d,\"time\"]=b\n",
    "    a=d+1\n",
    "    b=b+1\n",
    "\n",
    "\n",
    "df.to_pickle(f\"/mnt/d/sources/data/DL-PTV/merged/test.pkl\", compression='zip')"
   ],
   "metadata": {
    "collapsed": false
   }
  },
  {
   "cell_type": "code",
   "execution_count": 100,
   "outputs": [
    {
     "data": {
      "text/plain": "             x          y          z        vx        vy        vz  time\n0    17.559430  82.926739 -33.059413  0.049695  0.000709  0.005559     1\n1    21.521606  82.926739 -33.059413  0.049391  0.000787  0.005296     1\n2    25.483782  82.926739 -33.059413  0.049173  0.000950  0.004962     1\n3    29.445958  82.926739 -33.059413  0.049061  0.001139  0.004679     1\n4    33.408134  82.926739 -33.059413  0.049037  0.001287  0.004625     1\n..         ...        ...        ...       ...       ...       ...   ...\n795  29.445958 -75.560305 -25.135060  0.048628 -0.000126  0.002526    27\n796  33.408134 -75.560305 -25.135060  0.047847 -0.000577  0.000994    27\n797  37.370310 -75.560305 -25.135060  0.047356 -0.001204 -0.000762    27\n798  41.332486 -75.560305 -25.135060  0.047215 -0.001870 -0.002081    27\n799  45.294662 -75.560305 -25.135060  0.047326 -0.002472 -0.002694    27\n\n[800 rows x 7 columns]",
      "text/html": "<div>\n<style scoped>\n    .dataframe tbody tr th:only-of-type {\n        vertical-align: middle;\n    }\n\n    .dataframe tbody tr th {\n        vertical-align: top;\n    }\n\n    .dataframe thead th {\n        text-align: right;\n    }\n</style>\n<table border=\"1\" class=\"dataframe\">\n  <thead>\n    <tr style=\"text-align: right;\">\n      <th></th>\n      <th>x</th>\n      <th>y</th>\n      <th>z</th>\n      <th>vx</th>\n      <th>vy</th>\n      <th>vz</th>\n      <th>time</th>\n    </tr>\n  </thead>\n  <tbody>\n    <tr>\n      <th>0</th>\n      <td>17.559430</td>\n      <td>82.926739</td>\n      <td>-33.059413</td>\n      <td>0.049695</td>\n      <td>0.000709</td>\n      <td>0.005559</td>\n      <td>1</td>\n    </tr>\n    <tr>\n      <th>1</th>\n      <td>21.521606</td>\n      <td>82.926739</td>\n      <td>-33.059413</td>\n      <td>0.049391</td>\n      <td>0.000787</td>\n      <td>0.005296</td>\n      <td>1</td>\n    </tr>\n    <tr>\n      <th>2</th>\n      <td>25.483782</td>\n      <td>82.926739</td>\n      <td>-33.059413</td>\n      <td>0.049173</td>\n      <td>0.000950</td>\n      <td>0.004962</td>\n      <td>1</td>\n    </tr>\n    <tr>\n      <th>3</th>\n      <td>29.445958</td>\n      <td>82.926739</td>\n      <td>-33.059413</td>\n      <td>0.049061</td>\n      <td>0.001139</td>\n      <td>0.004679</td>\n      <td>1</td>\n    </tr>\n    <tr>\n      <th>4</th>\n      <td>33.408134</td>\n      <td>82.926739</td>\n      <td>-33.059413</td>\n      <td>0.049037</td>\n      <td>0.001287</td>\n      <td>0.004625</td>\n      <td>1</td>\n    </tr>\n    <tr>\n      <th>...</th>\n      <td>...</td>\n      <td>...</td>\n      <td>...</td>\n      <td>...</td>\n      <td>...</td>\n      <td>...</td>\n      <td>...</td>\n    </tr>\n    <tr>\n      <th>795</th>\n      <td>29.445958</td>\n      <td>-75.560305</td>\n      <td>-25.135060</td>\n      <td>0.048628</td>\n      <td>-0.000126</td>\n      <td>0.002526</td>\n      <td>27</td>\n    </tr>\n    <tr>\n      <th>796</th>\n      <td>33.408134</td>\n      <td>-75.560305</td>\n      <td>-25.135060</td>\n      <td>0.047847</td>\n      <td>-0.000577</td>\n      <td>0.000994</td>\n      <td>27</td>\n    </tr>\n    <tr>\n      <th>797</th>\n      <td>37.370310</td>\n      <td>-75.560305</td>\n      <td>-25.135060</td>\n      <td>0.047356</td>\n      <td>-0.001204</td>\n      <td>-0.000762</td>\n      <td>27</td>\n    </tr>\n    <tr>\n      <th>798</th>\n      <td>41.332486</td>\n      <td>-75.560305</td>\n      <td>-25.135060</td>\n      <td>0.047215</td>\n      <td>-0.001870</td>\n      <td>-0.002081</td>\n      <td>27</td>\n    </tr>\n    <tr>\n      <th>799</th>\n      <td>45.294662</td>\n      <td>-75.560305</td>\n      <td>-25.135060</td>\n      <td>0.047326</td>\n      <td>-0.002472</td>\n      <td>-0.002694</td>\n      <td>27</td>\n    </tr>\n  </tbody>\n</table>\n<p>800 rows × 7 columns</p>\n</div>"
     },
     "execution_count": 100,
     "metadata": {},
     "output_type": "execute_result"
    }
   ],
   "source": [
    "df"
   ],
   "metadata": {
    "collapsed": false
   }
  },
  {
   "cell_type": "code",
   "execution_count": 24,
   "outputs": [],
   "source": [
    "path = \"/mnt/d/sources/data/DL-PTV/merged/\"\n",
    "data = []\n",
    "# for speed in [\"test1\", \"test2\",\"test3\"]:\n",
    "#     data.append(pd.read_pickle(path+speed+\".pkl\",compression=\"zip\"))\n",
    "\n",
    "df = pd.read_pickle(path + \"test.pkl\", compression=\"zip\")\n",
    "a=0\n",
    "b=1\n",
    "for d in [30,60,90,120,150,180,210,240,270,300]:\n",
    "    df.loc[a:d,\"time\"]=b\n",
    "    a=d+1\n",
    "    b=b+1\n",
    "# df = df.values.reshape(-1, df.shape[1])\n",
    "# print(len(df))\n",
    "# X_train = df[df[:,6]%2!=0]\n",
    "# X_test = df[df[:,6]%2==0][:10]\n",
    "\n",
    "\n",
    "# df[::2]\n",
    "# df[1::2]"
   ],
   "metadata": {
    "collapsed": false
   }
  },
  {
   "cell_type": "code",
   "execution_count": 20,
   "outputs": [
    {
     "data": {
      "text/plain": "(10, 7)"
     },
     "execution_count": 20,
     "metadata": {},
     "output_type": "execute_result"
    }
   ],
   "source": [
    "X_test.shape"
   ],
   "metadata": {
    "collapsed": false
   }
  },
  {
   "cell_type": "code",
   "execution_count": 18,
   "outputs": [
    {
     "data": {
      "text/plain": "(420, 7)"
     },
     "execution_count": 18,
     "metadata": {},
     "output_type": "execute_result"
    }
   ],
   "source": [
    "X_train.shape"
   ],
   "metadata": {
    "collapsed": false
   }
  },
  {
   "cell_type": "code",
   "execution_count": 25,
   "outputs": [
    {
     "data": {
      "text/plain": "             x          y          z        vx        vy        vz  time\n0    17.559430  82.926739 -33.059413  0.049695  0.000709  0.005559     1\n1    21.521606  82.926739 -33.059413  0.049391  0.000787  0.005296     1\n2    25.483782  82.926739 -33.059413  0.049173  0.000950  0.004962     1\n3    29.445958  82.926739 -33.059413  0.049061  0.001139  0.004679     1\n4    33.408134  82.926739 -33.059413  0.049037  0.001287  0.004625     1\n..         ...        ...        ...       ...       ...       ...   ...\n795  29.445958 -75.560305 -25.135060  0.048628 -0.000126  0.002526    27\n796  33.408134 -75.560305 -25.135060  0.047847 -0.000577  0.000994    27\n797  37.370310 -75.560305 -25.135060  0.047356 -0.001204 -0.000762    27\n798  41.332486 -75.560305 -25.135060  0.047215 -0.001870 -0.002081    27\n799  45.294662 -75.560305 -25.135060  0.047326 -0.002472 -0.002694    27\n\n[800 rows x 7 columns]",
      "text/html": "<div>\n<style scoped>\n    .dataframe tbody tr th:only-of-type {\n        vertical-align: middle;\n    }\n\n    .dataframe tbody tr th {\n        vertical-align: top;\n    }\n\n    .dataframe thead th {\n        text-align: right;\n    }\n</style>\n<table border=\"1\" class=\"dataframe\">\n  <thead>\n    <tr style=\"text-align: right;\">\n      <th></th>\n      <th>x</th>\n      <th>y</th>\n      <th>z</th>\n      <th>vx</th>\n      <th>vy</th>\n      <th>vz</th>\n      <th>time</th>\n    </tr>\n  </thead>\n  <tbody>\n    <tr>\n      <th>0</th>\n      <td>17.559430</td>\n      <td>82.926739</td>\n      <td>-33.059413</td>\n      <td>0.049695</td>\n      <td>0.000709</td>\n      <td>0.005559</td>\n      <td>1</td>\n    </tr>\n    <tr>\n      <th>1</th>\n      <td>21.521606</td>\n      <td>82.926739</td>\n      <td>-33.059413</td>\n      <td>0.049391</td>\n      <td>0.000787</td>\n      <td>0.005296</td>\n      <td>1</td>\n    </tr>\n    <tr>\n      <th>2</th>\n      <td>25.483782</td>\n      <td>82.926739</td>\n      <td>-33.059413</td>\n      <td>0.049173</td>\n      <td>0.000950</td>\n      <td>0.004962</td>\n      <td>1</td>\n    </tr>\n    <tr>\n      <th>3</th>\n      <td>29.445958</td>\n      <td>82.926739</td>\n      <td>-33.059413</td>\n      <td>0.049061</td>\n      <td>0.001139</td>\n      <td>0.004679</td>\n      <td>1</td>\n    </tr>\n    <tr>\n      <th>4</th>\n      <td>33.408134</td>\n      <td>82.926739</td>\n      <td>-33.059413</td>\n      <td>0.049037</td>\n      <td>0.001287</td>\n      <td>0.004625</td>\n      <td>1</td>\n    </tr>\n    <tr>\n      <th>...</th>\n      <td>...</td>\n      <td>...</td>\n      <td>...</td>\n      <td>...</td>\n      <td>...</td>\n      <td>...</td>\n      <td>...</td>\n    </tr>\n    <tr>\n      <th>795</th>\n      <td>29.445958</td>\n      <td>-75.560305</td>\n      <td>-25.135060</td>\n      <td>0.048628</td>\n      <td>-0.000126</td>\n      <td>0.002526</td>\n      <td>27</td>\n    </tr>\n    <tr>\n      <th>796</th>\n      <td>33.408134</td>\n      <td>-75.560305</td>\n      <td>-25.135060</td>\n      <td>0.047847</td>\n      <td>-0.000577</td>\n      <td>0.000994</td>\n      <td>27</td>\n    </tr>\n    <tr>\n      <th>797</th>\n      <td>37.370310</td>\n      <td>-75.560305</td>\n      <td>-25.135060</td>\n      <td>0.047356</td>\n      <td>-0.001204</td>\n      <td>-0.000762</td>\n      <td>27</td>\n    </tr>\n    <tr>\n      <th>798</th>\n      <td>41.332486</td>\n      <td>-75.560305</td>\n      <td>-25.135060</td>\n      <td>0.047215</td>\n      <td>-0.001870</td>\n      <td>-0.002081</td>\n      <td>27</td>\n    </tr>\n    <tr>\n      <th>799</th>\n      <td>45.294662</td>\n      <td>-75.560305</td>\n      <td>-25.135060</td>\n      <td>0.047326</td>\n      <td>-0.002472</td>\n      <td>-0.002694</td>\n      <td>27</td>\n    </tr>\n  </tbody>\n</table>\n<p>800 rows × 7 columns</p>\n</div>"
     },
     "execution_count": 25,
     "metadata": {},
     "output_type": "execute_result"
    }
   ],
   "source": [
    "df"
   ],
   "metadata": {
    "collapsed": false
   }
  },
  {
   "cell_type": "code",
   "execution_count": 3,
   "outputs": [],
   "source": [
    "path = \"/mnt/d/sources/data/DL-PTV/merged/\""
   ],
   "metadata": {
    "collapsed": false
   }
  },
  {
   "cell_type": "code",
   "execution_count": 32,
   "outputs": [],
   "source": [
    "df = pd.read_pickle(path + \"3p6.pkl\", compression=\"zip\")"
   ],
   "metadata": {
    "collapsed": false
   }
  },
  {
   "cell_type": "code",
   "execution_count": 13,
   "outputs": [
    {
     "data": {
      "text/plain": "            x          y          z        vx        vy        vz  time\n0 -125.078910  86.888915 -33.059413  0.045851  0.002016 -0.000504   363\n1 -121.116733  86.888915 -33.059413  0.046023  0.002110 -0.000301   363\n2 -117.154557  86.888915 -33.059413  0.046189  0.002267 -0.000104   363\n3 -113.192381  86.888915 -33.059413  0.046358  0.002493  0.000054   363\n4 -109.230205  86.888915 -33.059413  0.046543  0.002784  0.000152   363",
      "text/html": "<div>\n<style scoped>\n    .dataframe tbody tr th:only-of-type {\n        vertical-align: middle;\n    }\n\n    .dataframe tbody tr th {\n        vertical-align: top;\n    }\n\n    .dataframe thead th {\n        text-align: right;\n    }\n</style>\n<table border=\"1\" class=\"dataframe\">\n  <thead>\n    <tr style=\"text-align: right;\">\n      <th></th>\n      <th>x</th>\n      <th>y</th>\n      <th>z</th>\n      <th>vx</th>\n      <th>vy</th>\n      <th>vz</th>\n      <th>time</th>\n    </tr>\n  </thead>\n  <tbody>\n    <tr>\n      <th>0</th>\n      <td>-125.078910</td>\n      <td>86.888915</td>\n      <td>-33.059413</td>\n      <td>0.045851</td>\n      <td>0.002016</td>\n      <td>-0.000504</td>\n      <td>363</td>\n    </tr>\n    <tr>\n      <th>1</th>\n      <td>-121.116733</td>\n      <td>86.888915</td>\n      <td>-33.059413</td>\n      <td>0.046023</td>\n      <td>0.002110</td>\n      <td>-0.000301</td>\n      <td>363</td>\n    </tr>\n    <tr>\n      <th>2</th>\n      <td>-117.154557</td>\n      <td>86.888915</td>\n      <td>-33.059413</td>\n      <td>0.046189</td>\n      <td>0.002267</td>\n      <td>-0.000104</td>\n      <td>363</td>\n    </tr>\n    <tr>\n      <th>3</th>\n      <td>-113.192381</td>\n      <td>86.888915</td>\n      <td>-33.059413</td>\n      <td>0.046358</td>\n      <td>0.002493</td>\n      <td>0.000054</td>\n      <td>363</td>\n    </tr>\n    <tr>\n      <th>4</th>\n      <td>-109.230205</td>\n      <td>86.888915</td>\n      <td>-33.059413</td>\n      <td>0.046543</td>\n      <td>0.002784</td>\n      <td>0.000152</td>\n      <td>363</td>\n    </tr>\n  </tbody>\n</table>\n</div>"
     },
     "execution_count": 13,
     "metadata": {},
     "output_type": "execute_result"
    }
   ],
   "source": [
    "df.head()"
   ],
   "metadata": {
    "collapsed": false
   }
  },
  {
   "cell_type": "code",
   "execution_count": 14,
   "outputs": [],
   "source": [
    "df[\"loc_point\"] = df.index+1"
   ],
   "metadata": {
    "collapsed": false
   }
  },
  {
   "cell_type": "code",
   "execution_count": 15,
   "outputs": [
    {
     "data": {
      "text/plain": "            x          y          z        vx        vy        vz  time  \\\n0 -125.078910  86.888915 -33.059413  0.045851  0.002016 -0.000504   363   \n1 -121.116733  86.888915 -33.059413  0.046023  0.002110 -0.000301   363   \n2 -117.154557  86.888915 -33.059413  0.046189  0.002267 -0.000104   363   \n3 -113.192381  86.888915 -33.059413  0.046358  0.002493  0.000054   363   \n4 -109.230205  86.888915 -33.059413  0.046543  0.002784  0.000152   363   \n\n   loc_point  \n0          1  \n1          2  \n2          3  \n3          4  \n4          5  ",
      "text/html": "<div>\n<style scoped>\n    .dataframe tbody tr th:only-of-type {\n        vertical-align: middle;\n    }\n\n    .dataframe tbody tr th {\n        vertical-align: top;\n    }\n\n    .dataframe thead th {\n        text-align: right;\n    }\n</style>\n<table border=\"1\" class=\"dataframe\">\n  <thead>\n    <tr style=\"text-align: right;\">\n      <th></th>\n      <th>x</th>\n      <th>y</th>\n      <th>z</th>\n      <th>vx</th>\n      <th>vy</th>\n      <th>vz</th>\n      <th>time</th>\n      <th>loc_point</th>\n    </tr>\n  </thead>\n  <tbody>\n    <tr>\n      <th>0</th>\n      <td>-125.078910</td>\n      <td>86.888915</td>\n      <td>-33.059413</td>\n      <td>0.045851</td>\n      <td>0.002016</td>\n      <td>-0.000504</td>\n      <td>363</td>\n      <td>1</td>\n    </tr>\n    <tr>\n      <th>1</th>\n      <td>-121.116733</td>\n      <td>86.888915</td>\n      <td>-33.059413</td>\n      <td>0.046023</td>\n      <td>0.002110</td>\n      <td>-0.000301</td>\n      <td>363</td>\n      <td>2</td>\n    </tr>\n    <tr>\n      <th>2</th>\n      <td>-117.154557</td>\n      <td>86.888915</td>\n      <td>-33.059413</td>\n      <td>0.046189</td>\n      <td>0.002267</td>\n      <td>-0.000104</td>\n      <td>363</td>\n      <td>3</td>\n    </tr>\n    <tr>\n      <th>3</th>\n      <td>-113.192381</td>\n      <td>86.888915</td>\n      <td>-33.059413</td>\n      <td>0.046358</td>\n      <td>0.002493</td>\n      <td>0.000054</td>\n      <td>363</td>\n      <td>4</td>\n    </tr>\n    <tr>\n      <th>4</th>\n      <td>-109.230205</td>\n      <td>86.888915</td>\n      <td>-33.059413</td>\n      <td>0.046543</td>\n      <td>0.002784</td>\n      <td>0.000152</td>\n      <td>363</td>\n      <td>5</td>\n    </tr>\n  </tbody>\n</table>\n</div>"
     },
     "execution_count": 15,
     "metadata": {},
     "output_type": "execute_result"
    }
   ],
   "source": [
    "df.head()"
   ],
   "metadata": {
    "collapsed": false
   }
  },
  {
   "cell_type": "code",
   "execution_count": 16,
   "outputs": [],
   "source": [
    "df.drop(columns=[\"x\",\"y\",\"z\"],inplace=True)"
   ],
   "metadata": {
    "collapsed": false
   }
  },
  {
   "cell_type": "code",
   "execution_count": 17,
   "outputs": [
    {
     "data": {
      "text/plain": "         vx        vy        vz  time  loc_point\n0  0.045851  0.002016 -0.000504   363          1\n1  0.046023  0.002110 -0.000301   363          2\n2  0.046189  0.002267 -0.000104   363          3\n3  0.046358  0.002493  0.000054   363          4\n4  0.046543  0.002784  0.000152   363          5",
      "text/html": "<div>\n<style scoped>\n    .dataframe tbody tr th:only-of-type {\n        vertical-align: middle;\n    }\n\n    .dataframe tbody tr th {\n        vertical-align: top;\n    }\n\n    .dataframe thead th {\n        text-align: right;\n    }\n</style>\n<table border=\"1\" class=\"dataframe\">\n  <thead>\n    <tr style=\"text-align: right;\">\n      <th></th>\n      <th>vx</th>\n      <th>vy</th>\n      <th>vz</th>\n      <th>time</th>\n      <th>loc_point</th>\n    </tr>\n  </thead>\n  <tbody>\n    <tr>\n      <th>0</th>\n      <td>0.045851</td>\n      <td>0.002016</td>\n      <td>-0.000504</td>\n      <td>363</td>\n      <td>1</td>\n    </tr>\n    <tr>\n      <th>1</th>\n      <td>0.046023</td>\n      <td>0.002110</td>\n      <td>-0.000301</td>\n      <td>363</td>\n      <td>2</td>\n    </tr>\n    <tr>\n      <th>2</th>\n      <td>0.046189</td>\n      <td>0.002267</td>\n      <td>-0.000104</td>\n      <td>363</td>\n      <td>3</td>\n    </tr>\n    <tr>\n      <th>3</th>\n      <td>0.046358</td>\n      <td>0.002493</td>\n      <td>0.000054</td>\n      <td>363</td>\n      <td>4</td>\n    </tr>\n    <tr>\n      <th>4</th>\n      <td>0.046543</td>\n      <td>0.002784</td>\n      <td>0.000152</td>\n      <td>363</td>\n      <td>5</td>\n    </tr>\n  </tbody>\n</table>\n</div>"
     },
     "execution_count": 17,
     "metadata": {},
     "output_type": "execute_result"
    }
   ],
   "source": [
    "df.head()"
   ],
   "metadata": {
    "collapsed": false
   }
  },
  {
   "cell_type": "code",
   "execution_count": 18,
   "outputs": [],
   "source": [
    "df.to_pickle(f\"/mnt/d/sources/data/DL-PTV/merged/3p6_loc.pkl\", compression='zip')"
   ],
   "metadata": {
    "collapsed": false
   }
  },
  {
   "cell_type": "code",
   "execution_count": 4,
   "outputs": [],
   "source": [
    "df = pd.read_pickle(path + \"3p6_loc.pkl\", compression=\"zip\")"
   ],
   "metadata": {
    "collapsed": false
   }
  },
  {
   "cell_type": "code",
   "execution_count": null,
   "outputs": [],
   "source": [],
   "metadata": {
    "collapsed": false
   }
  },
  {
   "cell_type": "code",
   "execution_count": 5,
   "outputs": [
    {
     "data": {
      "text/plain": "         vx        vy        vz  time  loc_point\n0  0.049976  0.002444  0.009331     1          1\n1  0.049832  0.002287  0.009501     1          2\n2  0.049630  0.002129  0.009603     1          3\n3  0.049365  0.001991  0.009568     1          4\n4  0.049041  0.001901  0.009327     1          5",
      "text/html": "<div>\n<style scoped>\n    .dataframe tbody tr th:only-of-type {\n        vertical-align: middle;\n    }\n\n    .dataframe tbody tr th {\n        vertical-align: top;\n    }\n\n    .dataframe thead th {\n        text-align: right;\n    }\n</style>\n<table border=\"1\" class=\"dataframe\">\n  <thead>\n    <tr style=\"text-align: right;\">\n      <th></th>\n      <th>vx</th>\n      <th>vy</th>\n      <th>vz</th>\n      <th>time</th>\n      <th>loc_point</th>\n    </tr>\n  </thead>\n  <tbody>\n    <tr>\n      <th>0</th>\n      <td>0.049976</td>\n      <td>0.002444</td>\n      <td>0.009331</td>\n      <td>1</td>\n      <td>1</td>\n    </tr>\n    <tr>\n      <th>1</th>\n      <td>0.049832</td>\n      <td>0.002287</td>\n      <td>0.009501</td>\n      <td>1</td>\n      <td>2</td>\n    </tr>\n    <tr>\n      <th>2</th>\n      <td>0.049630</td>\n      <td>0.002129</td>\n      <td>0.009603</td>\n      <td>1</td>\n      <td>3</td>\n    </tr>\n    <tr>\n      <th>3</th>\n      <td>0.049365</td>\n      <td>0.001991</td>\n      <td>0.009568</td>\n      <td>1</td>\n      <td>4</td>\n    </tr>\n    <tr>\n      <th>4</th>\n      <td>0.049041</td>\n      <td>0.001901</td>\n      <td>0.009327</td>\n      <td>1</td>\n      <td>5</td>\n    </tr>\n  </tbody>\n</table>\n</div>"
     },
     "execution_count": 5,
     "metadata": {},
     "output_type": "execute_result"
    }
   ],
   "source": [
    "df.head()"
   ],
   "metadata": {
    "collapsed": false
   }
  },
  {
   "cell_type": "code",
   "execution_count": 6,
   "outputs": [],
   "source": [
    "df[\"vx\"] = df[\"vx\"]*1000\n",
    "df[\"vy\"] = df[\"vy\"]*100000\n",
    "df[\"vz\"] = df[\"vz\"]*10000"
   ],
   "metadata": {
    "collapsed": false
   }
  },
  {
   "cell_type": "code",
   "execution_count": 7,
   "outputs": [
    {
     "data": {
      "text/plain": "       vx     vy     vz  time  loc_point\n0  499.76  24.44  93.31     1          1\n1  498.32  22.87  95.01     1          2\n2  496.30  21.29  96.03     1          3\n3  493.65  19.91  95.68     1          4\n4  490.41  19.01  93.27     1          5",
      "text/html": "<div>\n<style scoped>\n    .dataframe tbody tr th:only-of-type {\n        vertical-align: middle;\n    }\n\n    .dataframe tbody tr th {\n        vertical-align: top;\n    }\n\n    .dataframe thead th {\n        text-align: right;\n    }\n</style>\n<table border=\"1\" class=\"dataframe\">\n  <thead>\n    <tr style=\"text-align: right;\">\n      <th></th>\n      <th>vx</th>\n      <th>vy</th>\n      <th>vz</th>\n      <th>time</th>\n      <th>loc_point</th>\n    </tr>\n  </thead>\n  <tbody>\n    <tr>\n      <th>0</th>\n      <td>499.76</td>\n      <td>24.44</td>\n      <td>93.31</td>\n      <td>1</td>\n      <td>1</td>\n    </tr>\n    <tr>\n      <th>1</th>\n      <td>498.32</td>\n      <td>22.87</td>\n      <td>95.01</td>\n      <td>1</td>\n      <td>2</td>\n    </tr>\n    <tr>\n      <th>2</th>\n      <td>496.30</td>\n      <td>21.29</td>\n      <td>96.03</td>\n      <td>1</td>\n      <td>3</td>\n    </tr>\n    <tr>\n      <th>3</th>\n      <td>493.65</td>\n      <td>19.91</td>\n      <td>95.68</td>\n      <td>1</td>\n      <td>4</td>\n    </tr>\n    <tr>\n      <th>4</th>\n      <td>490.41</td>\n      <td>19.01</td>\n      <td>93.27</td>\n      <td>1</td>\n      <td>5</td>\n    </tr>\n  </tbody>\n</table>\n</div>"
     },
     "execution_count": 7,
     "metadata": {},
     "output_type": "execute_result"
    }
   ],
   "source": [
    "df.head()"
   ],
   "metadata": {
    "collapsed": false
   }
  },
  {
   "cell_type": "code",
   "execution_count": 11,
   "outputs": [],
   "source": [
    "df[\"vx\"] = df[\"vx\"]/10"
   ],
   "metadata": {
    "collapsed": false
   }
  },
  {
   "cell_type": "code",
   "execution_count": 15,
   "outputs": [],
   "source": [
    "df[\"vy\"] = df[\"vy\"] * 10"
   ],
   "metadata": {
    "collapsed": false
   }
  },
  {
   "cell_type": "code",
   "execution_count": 16,
   "outputs": [
    {
     "data": {
      "text/plain": "(22.73520072794724, 10.106047613974207, 10.492377637733618)"
     },
     "execution_count": 16,
     "metadata": {},
     "output_type": "execute_result"
    }
   ],
   "source": [
    "df[\"vx\"].mean(), df[\"vy\"].mean(), df[\"vz\"].mean()"
   ],
   "metadata": {
    "collapsed": false
   }
  },
  {
   "cell_type": "code",
   "execution_count": null,
   "outputs": [],
   "source": [
    "df.to_pickle(f\"/mnt/d/sources/data/DL-PTV/merged/3p6_loc.pkl\", compression='zip')"
   ],
   "metadata": {
    "collapsed": false
   }
  },
  {
   "cell_type": "code",
   "execution_count": 27,
   "outputs": [],
   "source": [
    "df.to_pickle(f\"/mnt/d/sources/data/DL-PTV/merged/3p6_loc_scaled.pkl\", compression='zip')"
   ],
   "metadata": {
    "collapsed": false
   }
  },
  {
   "cell_type": "code",
   "execution_count": 18,
   "outputs": [
    {
     "name": "stdout",
     "output_type": "stream",
     "text": [
      "279.35290160430094 km\n"
     ]
    }
   ],
   "source": [
    "import geopy.distance\n",
    "\n",
    "coords_1 = (52.2296756, 21.0122287)\n",
    "coords_2 = (52.406374, 16.9251681)\n",
    "\n",
    "print(geopy.distance.distance(coords_1, coords_2))"
   ],
   "metadata": {
    "collapsed": false
   }
  },
  {
   "cell_type": "code",
   "execution_count": 13,
   "outputs": [],
   "source": [
    "p1 = np.array([1,2,3])\n",
    "p2 = np.array([4,5,6])\n",
    "dist = np.linalg.norm(p2 - p1)"
   ],
   "metadata": {
    "collapsed": false
   }
  },
  {
   "cell_type": "code",
   "execution_count": 14,
   "outputs": [
    {
     "data": {
      "text/plain": "5.196152422706632"
     },
     "execution_count": 14,
     "metadata": {},
     "output_type": "execute_result"
    }
   ],
   "source": [
    "dist"
   ],
   "metadata": {
    "collapsed": false
   }
  },
  {
   "cell_type": "code",
   "execution_count": 26,
   "outputs": [
    {
     "data": {
      "text/plain": "5.196152422706632"
     },
     "execution_count": 26,
     "metadata": {},
     "output_type": "execute_result"
    }
   ],
   "source": [
    "squared_dist = np.sum((p1-p2)**2, axis=0)\n",
    "dist = np.sqrt(squared_dist)\n",
    "dist"
   ],
   "metadata": {
    "collapsed": false
   }
  },
  {
   "cell_type": "code",
   "execution_count": null,
   "outputs": [],
   "source": [
    "median = median(x), median(y), median(z)"
   ],
   "metadata": {
    "collapsed": false
   }
  },
  {
   "cell_type": "code",
   "execution_count": 33,
   "outputs": [
    {
     "data": {
      "text/plain": "            x          y          z        vx        vy        vz  time\n0 -125.078910  86.888915 -33.059413  0.045851  0.002016 -0.000504   363\n1 -121.116733  86.888915 -33.059413  0.046023  0.002110 -0.000301   363\n2 -117.154557  86.888915 -33.059413  0.046189  0.002267 -0.000104   363\n3 -113.192381  86.888915 -33.059413  0.046358  0.002493  0.000054   363\n4 -109.230205  86.888915 -33.059413  0.046543  0.002784  0.000152   363",
      "text/html": "<div>\n<style scoped>\n    .dataframe tbody tr th:only-of-type {\n        vertical-align: middle;\n    }\n\n    .dataframe tbody tr th {\n        vertical-align: top;\n    }\n\n    .dataframe thead th {\n        text-align: right;\n    }\n</style>\n<table border=\"1\" class=\"dataframe\">\n  <thead>\n    <tr style=\"text-align: right;\">\n      <th></th>\n      <th>x</th>\n      <th>y</th>\n      <th>z</th>\n      <th>vx</th>\n      <th>vy</th>\n      <th>vz</th>\n      <th>time</th>\n    </tr>\n  </thead>\n  <tbody>\n    <tr>\n      <th>0</th>\n      <td>-125.078910</td>\n      <td>86.888915</td>\n      <td>-33.059413</td>\n      <td>0.045851</td>\n      <td>0.002016</td>\n      <td>-0.000504</td>\n      <td>363</td>\n    </tr>\n    <tr>\n      <th>1</th>\n      <td>-121.116733</td>\n      <td>86.888915</td>\n      <td>-33.059413</td>\n      <td>0.046023</td>\n      <td>0.002110</td>\n      <td>-0.000301</td>\n      <td>363</td>\n    </tr>\n    <tr>\n      <th>2</th>\n      <td>-117.154557</td>\n      <td>86.888915</td>\n      <td>-33.059413</td>\n      <td>0.046189</td>\n      <td>0.002267</td>\n      <td>-0.000104</td>\n      <td>363</td>\n    </tr>\n    <tr>\n      <th>3</th>\n      <td>-113.192381</td>\n      <td>86.888915</td>\n      <td>-33.059413</td>\n      <td>0.046358</td>\n      <td>0.002493</td>\n      <td>0.000054</td>\n      <td>363</td>\n    </tr>\n    <tr>\n      <th>4</th>\n      <td>-109.230205</td>\n      <td>86.888915</td>\n      <td>-33.059413</td>\n      <td>0.046543</td>\n      <td>0.002784</td>\n      <td>0.000152</td>\n      <td>363</td>\n    </tr>\n  </tbody>\n</table>\n</div>"
     },
     "execution_count": 33,
     "metadata": {},
     "output_type": "execute_result"
    }
   ],
   "source": [
    "df.head()"
   ],
   "metadata": {
    "collapsed": false
   }
  },
  {
   "cell_type": "code",
   "execution_count": null,
   "outputs": [],
   "source": [],
   "metadata": {
    "collapsed": false
   }
  },
  {
   "cell_type": "code",
   "execution_count": 4,
   "outputs": [
    {
     "ename": "NameError",
     "evalue": "name 'df' is not defined",
     "output_type": "error",
     "traceback": [
      "\u001B[0;31m---------------------------------------------------------------------------\u001B[0m",
      "\u001B[0;31mNameError\u001B[0m                                 Traceback (most recent call last)",
      "Input \u001B[0;32mIn [4]\u001B[0m, in \u001B[0;36m<cell line: 1>\u001B[0;34m()\u001B[0m\n\u001B[0;32m----> 1\u001B[0m centroid \u001B[38;5;241m=\u001B[39m np\u001B[38;5;241m.\u001B[39mmedian(\u001B[43mdf\u001B[49m[\u001B[38;5;124m\"\u001B[39m\u001B[38;5;124mx\u001B[39m\u001B[38;5;124m\"\u001B[39m]), np\u001B[38;5;241m.\u001B[39mmedian(df[\u001B[38;5;124m\"\u001B[39m\u001B[38;5;124my\u001B[39m\u001B[38;5;124m\"\u001B[39m]), np\u001B[38;5;241m.\u001B[39mmedian(df[\u001B[38;5;124m\"\u001B[39m\u001B[38;5;124mz\u001B[39m\u001B[38;5;124m\"\u001B[39m])\n",
      "\u001B[0;31mNameError\u001B[0m: name 'df' is not defined"
     ]
    }
   ],
   "source": [
    "centroid = np.median(df[\"x\"]), np.median(df[\"y\"]), np.median(df[\"z\"])"
   ],
   "metadata": {
    "collapsed": false
   }
  },
  {
   "cell_type": "code",
   "execution_count": 3,
   "outputs": [
    {
     "ename": "NameError",
     "evalue": "name 'centroid' is not defined",
     "output_type": "error",
     "traceback": [
      "\u001B[0;31m---------------------------------------------------------------------------\u001B[0m",
      "\u001B[0;31mNameError\u001B[0m                                 Traceback (most recent call last)",
      "Input \u001B[0;32mIn [3]\u001B[0m, in \u001B[0;36m<cell line: 1>\u001B[0;34m()\u001B[0m\n\u001B[0;32m----> 1\u001B[0m \u001B[43mcentroid\u001B[49m\n",
      "\u001B[0;31mNameError\u001B[0m: name 'centroid' is not defined"
     ]
    }
   ],
   "source": [
    "centroid"
   ],
   "metadata": {
    "collapsed": false
   }
  },
  {
   "cell_type": "code",
   "execution_count": 2,
   "outputs": [
    {
     "ename": "NameError",
     "evalue": "name 'centroid' is not defined",
     "output_type": "error",
     "traceback": [
      "\u001B[0;31m---------------------------------------------------------------------------\u001B[0m",
      "\u001B[0;31mNameError\u001B[0m                                 Traceback (most recent call last)",
      "Input \u001B[0;32mIn [2]\u001B[0m, in \u001B[0;36m<cell line: 2>\u001B[0;34m()\u001B[0m\n\u001B[1;32m      1\u001B[0m \u001B[38;5;28;01mimport\u001B[39;00m \u001B[38;5;21;01mnumpy\u001B[39;00m \u001B[38;5;28;01mas\u001B[39;00m \u001B[38;5;21;01mnp\u001B[39;00m\n\u001B[0;32m----> 2\u001B[0m centroid\u001B[38;5;241m=\u001B[39m np\u001B[38;5;241m.\u001B[39masarray(\u001B[43mcentroid\u001B[49m)\n\u001B[1;32m      3\u001B[0m centroid\n",
      "\u001B[0;31mNameError\u001B[0m: name 'centroid' is not defined"
     ]
    }
   ],
   "source": [
    "centroid= np.asarray(centroid)\n",
    "centroid"
   ],
   "metadata": {
    "collapsed": false
   }
  },
  {
   "cell_type": "code",
   "execution_count": 39,
   "outputs": [
    {
     "ename": "TypeError",
     "evalue": "unsupported operand type(s) for -: 'list' and 'tuple'",
     "output_type": "error",
     "traceback": [
      "\u001B[0;31m---------------------------------------------------------------------------\u001B[0m",
      "\u001B[0;31mTypeError\u001B[0m                                 Traceback (most recent call last)",
      "Input \u001B[0;32mIn [39]\u001B[0m, in \u001B[0;36m<cell line: 1>\u001B[0;34m()\u001B[0m\n\u001B[0;32m----> 1\u001B[0m \u001B[43mdf\u001B[49m\u001B[43m[\u001B[49m\u001B[43m:\u001B[49m\u001B[38;5;241;43m3\u001B[39;49m\u001B[43m]\u001B[49m\u001B[38;5;241;43m.\u001B[39;49m\u001B[43mapply\u001B[49m\u001B[43m(\u001B[49m\u001B[38;5;28;43;01mlambda\u001B[39;49;00m\u001B[43m \u001B[49m\u001B[43mrow\u001B[49m\u001B[43m:\u001B[49m\u001B[43m \u001B[49m\u001B[43mcalculate_distance\u001B[49m\u001B[43m(\u001B[49m\u001B[43mrow\u001B[49m\u001B[43m,\u001B[49m\u001B[43mcentroid\u001B[49m\u001B[43m)\u001B[49m\u001B[43m,\u001B[49m\u001B[43m \u001B[49m\u001B[43maxis\u001B[49m\u001B[38;5;241;43m=\u001B[39;49m\u001B[38;5;241;43m1\u001B[39;49m\u001B[43m)\u001B[49m\n",
      "File \u001B[0;32m~/miniconda3/envs/venv/lib/python3.9/site-packages/pandas/core/frame.py:8845\u001B[0m, in \u001B[0;36mDataFrame.apply\u001B[0;34m(self, func, axis, raw, result_type, args, **kwargs)\u001B[0m\n\u001B[1;32m   8834\u001B[0m \u001B[38;5;28;01mfrom\u001B[39;00m \u001B[38;5;21;01mpandas\u001B[39;00m\u001B[38;5;21;01m.\u001B[39;00m\u001B[38;5;21;01mcore\u001B[39;00m\u001B[38;5;21;01m.\u001B[39;00m\u001B[38;5;21;01mapply\u001B[39;00m \u001B[38;5;28;01mimport\u001B[39;00m frame_apply\n\u001B[1;32m   8836\u001B[0m op \u001B[38;5;241m=\u001B[39m frame_apply(\n\u001B[1;32m   8837\u001B[0m     \u001B[38;5;28mself\u001B[39m,\n\u001B[1;32m   8838\u001B[0m     func\u001B[38;5;241m=\u001B[39mfunc,\n\u001B[0;32m   (...)\u001B[0m\n\u001B[1;32m   8843\u001B[0m     kwargs\u001B[38;5;241m=\u001B[39mkwargs,\n\u001B[1;32m   8844\u001B[0m )\n\u001B[0;32m-> 8845\u001B[0m \u001B[38;5;28;01mreturn\u001B[39;00m \u001B[43mop\u001B[49m\u001B[38;5;241;43m.\u001B[39;49m\u001B[43mapply\u001B[49m\u001B[43m(\u001B[49m\u001B[43m)\u001B[49m\u001B[38;5;241m.\u001B[39m__finalize__(\u001B[38;5;28mself\u001B[39m, method\u001B[38;5;241m=\u001B[39m\u001B[38;5;124m\"\u001B[39m\u001B[38;5;124mapply\u001B[39m\u001B[38;5;124m\"\u001B[39m)\n",
      "File \u001B[0;32m~/miniconda3/envs/venv/lib/python3.9/site-packages/pandas/core/apply.py:733\u001B[0m, in \u001B[0;36mFrameApply.apply\u001B[0;34m(self)\u001B[0m\n\u001B[1;32m    730\u001B[0m \u001B[38;5;28;01melif\u001B[39;00m \u001B[38;5;28mself\u001B[39m\u001B[38;5;241m.\u001B[39mraw:\n\u001B[1;32m    731\u001B[0m     \u001B[38;5;28;01mreturn\u001B[39;00m \u001B[38;5;28mself\u001B[39m\u001B[38;5;241m.\u001B[39mapply_raw()\n\u001B[0;32m--> 733\u001B[0m \u001B[38;5;28;01mreturn\u001B[39;00m \u001B[38;5;28;43mself\u001B[39;49m\u001B[38;5;241;43m.\u001B[39;49m\u001B[43mapply_standard\u001B[49m\u001B[43m(\u001B[49m\u001B[43m)\u001B[49m\n",
      "File \u001B[0;32m~/miniconda3/envs/venv/lib/python3.9/site-packages/pandas/core/apply.py:857\u001B[0m, in \u001B[0;36mFrameApply.apply_standard\u001B[0;34m(self)\u001B[0m\n\u001B[1;32m    856\u001B[0m \u001B[38;5;28;01mdef\u001B[39;00m \u001B[38;5;21mapply_standard\u001B[39m(\u001B[38;5;28mself\u001B[39m):\n\u001B[0;32m--> 857\u001B[0m     results, res_index \u001B[38;5;241m=\u001B[39m \u001B[38;5;28;43mself\u001B[39;49m\u001B[38;5;241;43m.\u001B[39;49m\u001B[43mapply_series_generator\u001B[49m\u001B[43m(\u001B[49m\u001B[43m)\u001B[49m\n\u001B[1;32m    859\u001B[0m     \u001B[38;5;66;03m# wrap results\u001B[39;00m\n\u001B[1;32m    860\u001B[0m     \u001B[38;5;28;01mreturn\u001B[39;00m \u001B[38;5;28mself\u001B[39m\u001B[38;5;241m.\u001B[39mwrap_results(results, res_index)\n",
      "File \u001B[0;32m~/miniconda3/envs/venv/lib/python3.9/site-packages/pandas/core/apply.py:873\u001B[0m, in \u001B[0;36mFrameApply.apply_series_generator\u001B[0;34m(self)\u001B[0m\n\u001B[1;32m    870\u001B[0m \u001B[38;5;28;01mwith\u001B[39;00m option_context(\u001B[38;5;124m\"\u001B[39m\u001B[38;5;124mmode.chained_assignment\u001B[39m\u001B[38;5;124m\"\u001B[39m, \u001B[38;5;28;01mNone\u001B[39;00m):\n\u001B[1;32m    871\u001B[0m     \u001B[38;5;28;01mfor\u001B[39;00m i, v \u001B[38;5;129;01min\u001B[39;00m \u001B[38;5;28menumerate\u001B[39m(series_gen):\n\u001B[1;32m    872\u001B[0m         \u001B[38;5;66;03m# ignore SettingWithCopy here in case the user mutates\u001B[39;00m\n\u001B[0;32m--> 873\u001B[0m         results[i] \u001B[38;5;241m=\u001B[39m \u001B[38;5;28;43mself\u001B[39;49m\u001B[38;5;241;43m.\u001B[39;49m\u001B[43mf\u001B[49m\u001B[43m(\u001B[49m\u001B[43mv\u001B[49m\u001B[43m)\u001B[49m\n\u001B[1;32m    874\u001B[0m         \u001B[38;5;28;01mif\u001B[39;00m \u001B[38;5;28misinstance\u001B[39m(results[i], ABCSeries):\n\u001B[1;32m    875\u001B[0m             \u001B[38;5;66;03m# If we have a view on v, we need to make a copy because\u001B[39;00m\n\u001B[1;32m    876\u001B[0m             \u001B[38;5;66;03m#  series_generator will swap out the underlying data\u001B[39;00m\n\u001B[1;32m    877\u001B[0m             results[i] \u001B[38;5;241m=\u001B[39m results[i]\u001B[38;5;241m.\u001B[39mcopy(deep\u001B[38;5;241m=\u001B[39m\u001B[38;5;28;01mFalse\u001B[39;00m)\n",
      "Input \u001B[0;32mIn [39]\u001B[0m, in \u001B[0;36m<lambda>\u001B[0;34m(row)\u001B[0m\n\u001B[0;32m----> 1\u001B[0m df[:\u001B[38;5;241m3\u001B[39m]\u001B[38;5;241m.\u001B[39mapply(\u001B[38;5;28;01mlambda\u001B[39;00m row: \u001B[43mcalculate_distance\u001B[49m\u001B[43m(\u001B[49m\u001B[43mrow\u001B[49m\u001B[43m,\u001B[49m\u001B[43mcentroid\u001B[49m\u001B[43m)\u001B[49m, axis\u001B[38;5;241m=\u001B[39m\u001B[38;5;241m1\u001B[39m)\n",
      "Input \u001B[0;32mIn [34]\u001B[0m, in \u001B[0;36mcalculate_distance\u001B[0;34m(row, arr2)\u001B[0m\n\u001B[1;32m      1\u001B[0m \u001B[38;5;28;01mdef\u001B[39;00m \u001B[38;5;21mcalculate_distance\u001B[39m(row, arr2):\n\u001B[0;32m----> 2\u001B[0m     \u001B[38;5;28;01mreturn\u001B[39;00m np\u001B[38;5;241m.\u001B[39mlinalg\u001B[38;5;241m.\u001B[39mnorm(\u001B[43m[\u001B[49m\u001B[43mrow\u001B[49m\u001B[43m[\u001B[49m\u001B[38;5;124;43m\"\u001B[39;49m\u001B[38;5;124;43mx\u001B[39;49m\u001B[38;5;124;43m\"\u001B[39;49m\u001B[43m]\u001B[49m\u001B[43m,\u001B[49m\u001B[43mrow\u001B[49m\u001B[43m[\u001B[49m\u001B[38;5;124;43m\"\u001B[39;49m\u001B[38;5;124;43my\u001B[39;49m\u001B[38;5;124;43m\"\u001B[39;49m\u001B[43m]\u001B[49m\u001B[43m,\u001B[49m\u001B[43m \u001B[49m\u001B[43mrow\u001B[49m\u001B[43m[\u001B[49m\u001B[38;5;124;43m\"\u001B[39;49m\u001B[38;5;124;43mz\u001B[39;49m\u001B[38;5;124;43m\"\u001B[39;49m\u001B[43m]\u001B[49m\u001B[43m]\u001B[49m\u001B[38;5;241;43m-\u001B[39;49m\u001B[43m \u001B[49m\u001B[43marr2\u001B[49m)\n",
      "\u001B[0;31mTypeError\u001B[0m: unsupported operand type(s) for -: 'list' and 'tuple'"
     ]
    }
   ],
   "source": [
    "df[:3].apply(lambda row: calculate_distance(row,centroid), axis=1)"
   ],
   "metadata": {
    "collapsed": false
   }
  },
  {
   "cell_type": "code",
   "execution_count": 2,
   "outputs": [
    {
     "ename": "NameError",
     "evalue": "name 'path' is not defined",
     "output_type": "error",
     "traceback": [
      "\u001B[0;31m---------------------------------------------------------------------------\u001B[0m",
      "\u001B[0;31mNameError\u001B[0m                                 Traceback (most recent call last)",
      "Input \u001B[0;32mIn [2]\u001B[0m, in \u001B[0;36m<cell line: 1>\u001B[0;34m()\u001B[0m\n\u001B[0;32m----> 1\u001B[0m df_with_distance \u001B[38;5;241m=\u001B[39m pd\u001B[38;5;241m.\u001B[39mread_pickle(\u001B[43mpath\u001B[49m \u001B[38;5;241m+\u001B[39m \u001B[38;5;124m\"\u001B[39m\u001B[38;5;124m3p6.pkl\u001B[39m\u001B[38;5;124m\"\u001B[39m, compression\u001B[38;5;241m=\u001B[39m\u001B[38;5;124m\"\u001B[39m\u001B[38;5;124mzip\u001B[39m\u001B[38;5;124m\"\u001B[39m)\n",
      "\u001B[0;31mNameError\u001B[0m: name 'path' is not defined"
     ]
    }
   ],
   "source": [
    "df_with_distance = pd.read_pickle(path + \"3p6.pkl\", compression=\"zip\")"
   ],
   "metadata": {
    "collapsed": false
   }
  },
  {
   "cell_type": "code",
   "execution_count": 9,
   "outputs": [
    {
     "data": {
      "text/plain": "            x          y          z        vx        vy        vz  time\n0 -125.078910  86.888915 -33.059413  0.045851  0.002016 -0.000504   363\n1 -121.116733  86.888915 -33.059413  0.046023  0.002110 -0.000301   363\n2 -117.154557  86.888915 -33.059413  0.046189  0.002267 -0.000104   363\n3 -113.192381  86.888915 -33.059413  0.046358  0.002493  0.000054   363\n4 -109.230205  86.888915 -33.059413  0.046543  0.002784  0.000152   363",
      "text/html": "<div>\n<style scoped>\n    .dataframe tbody tr th:only-of-type {\n        vertical-align: middle;\n    }\n\n    .dataframe tbody tr th {\n        vertical-align: top;\n    }\n\n    .dataframe thead th {\n        text-align: right;\n    }\n</style>\n<table border=\"1\" class=\"dataframe\">\n  <thead>\n    <tr style=\"text-align: right;\">\n      <th></th>\n      <th>x</th>\n      <th>y</th>\n      <th>z</th>\n      <th>vx</th>\n      <th>vy</th>\n      <th>vz</th>\n      <th>time</th>\n    </tr>\n  </thead>\n  <tbody>\n    <tr>\n      <th>0</th>\n      <td>-125.078910</td>\n      <td>86.888915</td>\n      <td>-33.059413</td>\n      <td>0.045851</td>\n      <td>0.002016</td>\n      <td>-0.000504</td>\n      <td>363</td>\n    </tr>\n    <tr>\n      <th>1</th>\n      <td>-121.116733</td>\n      <td>86.888915</td>\n      <td>-33.059413</td>\n      <td>0.046023</td>\n      <td>0.002110</td>\n      <td>-0.000301</td>\n      <td>363</td>\n    </tr>\n    <tr>\n      <th>2</th>\n      <td>-117.154557</td>\n      <td>86.888915</td>\n      <td>-33.059413</td>\n      <td>0.046189</td>\n      <td>0.002267</td>\n      <td>-0.000104</td>\n      <td>363</td>\n    </tr>\n    <tr>\n      <th>3</th>\n      <td>-113.192381</td>\n      <td>86.888915</td>\n      <td>-33.059413</td>\n      <td>0.046358</td>\n      <td>0.002493</td>\n      <td>0.000054</td>\n      <td>363</td>\n    </tr>\n    <tr>\n      <th>4</th>\n      <td>-109.230205</td>\n      <td>86.888915</td>\n      <td>-33.059413</td>\n      <td>0.046543</td>\n      <td>0.002784</td>\n      <td>0.000152</td>\n      <td>363</td>\n    </tr>\n  </tbody>\n</table>\n</div>"
     },
     "execution_count": 9,
     "metadata": {},
     "output_type": "execute_result"
    }
   ],
   "source": [
    "df_with_distance.head()"
   ],
   "metadata": {
    "collapsed": false
   }
  },
  {
   "cell_type": "code",
   "execution_count": 10,
   "outputs": [],
   "source": [
    "median = np.median(df_with_distance[\"x\"]), np.median(df_with_distance[\"y\"]), np.median(df_with_distance[\"z\"])\n"
   ],
   "metadata": {
    "collapsed": false
   }
  },
  {
   "cell_type": "code",
   "execution_count": 11,
   "outputs": [
    {
     "data": {
      "text/plain": "(-0.2703629999999999, 1.702129, 0.6190840000000001)"
     },
     "execution_count": 11,
     "metadata": {},
     "output_type": "execute_result"
    }
   ],
   "source": [
    "median"
   ],
   "metadata": {
    "collapsed": false
   }
  },
  {
   "cell_type": "code",
   "execution_count": 12,
   "outputs": [],
   "source": [
    "new = df_with_distance[[\"x\",\"y\",\"z\"]][:1].to_numpy()"
   ],
   "metadata": {
    "collapsed": false
   }
  },
  {
   "cell_type": "code",
   "execution_count": 16,
   "outputs": [
    {
     "data": {
      "text/plain": "(array([-125.07891 ,   86.888915,  -33.059413]), array([1, 2, 3]))"
     },
     "execution_count": 16,
     "metadata": {},
     "output_type": "execute_result"
    }
   ],
   "source": [
    "new[0], p1"
   ],
   "metadata": {
    "collapsed": false
   }
  },
  {
   "cell_type": "code",
   "execution_count": 17,
   "outputs": [
    {
     "data": {
      "text/plain": "156.21235771401024"
     },
     "execution_count": 17,
     "metadata": {},
     "output_type": "execute_result"
    }
   ],
   "source": [
    "dist = np.linalg.norm(new[0] - p1)\n",
    "dist"
   ],
   "metadata": {
    "collapsed": false
   }
  },
  {
   "cell_type": "code",
   "execution_count": 37,
   "outputs": [],
   "source": [
    "centroid = np.median(df_with_distance[\"x\"]), np.median(df_with_distance[\"y\"]), np.median(df_with_distance[\"z\"])"
   ],
   "metadata": {
    "collapsed": false
   }
  },
  {
   "cell_type": "code",
   "execution_count": 34,
   "outputs": [],
   "source": [
    "def calculate_distance(row, arr2):\n",
    "    return np.linalg.norm([row[\"x\"],row[\"y\"], row[\"z\"]]- arr2)"
   ],
   "metadata": {
    "collapsed": false
   }
  },
  {
   "cell_type": "code",
   "execution_count": 35,
   "outputs": [],
   "source": [
    "def create_array(row):\n",
    "    return [row[\"x\"],row[\"y\"], row[\"z\"]]"
   ],
   "metadata": {
    "collapsed": false
   }
  },
  {
   "cell_type": "code",
   "execution_count": 29,
   "outputs": [
    {
     "ename": "NameError",
     "evalue": "name 'calculate_distance' is not defined",
     "output_type": "error",
     "traceback": [
      "\u001B[0;31m---------------------------------------------------------------------------\u001B[0m",
      "\u001B[0;31mNameError\u001B[0m                                 Traceback (most recent call last)",
      "Input \u001B[0;32mIn [29]\u001B[0m, in \u001B[0;36m<cell line: 1>\u001B[0;34m()\u001B[0m\n\u001B[0;32m----> 1\u001B[0m \u001B[43mdf_with_distance\u001B[49m\u001B[43m[\u001B[49m\u001B[43m:\u001B[49m\u001B[38;5;241;43m3\u001B[39;49m\u001B[43m]\u001B[49m\u001B[38;5;241;43m.\u001B[39;49m\u001B[43mapply\u001B[49m\u001B[43m(\u001B[49m\u001B[38;5;28;43;01mlambda\u001B[39;49;00m\u001B[43m \u001B[49m\u001B[43mrow\u001B[49m\u001B[43m:\u001B[49m\u001B[43m \u001B[49m\u001B[43mcalculate_distance\u001B[49m\u001B[43m(\u001B[49m\u001B[43mrow\u001B[49m\u001B[43m,\u001B[49m\u001B[43mcentroid\u001B[49m\u001B[43m)\u001B[49m\u001B[43m,\u001B[49m\u001B[43m \u001B[49m\u001B[43maxis\u001B[49m\u001B[38;5;241;43m=\u001B[39;49m\u001B[38;5;241;43m1\u001B[39;49m\u001B[43m)\u001B[49m\n",
      "File \u001B[0;32m~/miniconda3/envs/venv/lib/python3.9/site-packages/pandas/core/frame.py:8845\u001B[0m, in \u001B[0;36mDataFrame.apply\u001B[0;34m(self, func, axis, raw, result_type, args, **kwargs)\u001B[0m\n\u001B[1;32m   8834\u001B[0m \u001B[38;5;28;01mfrom\u001B[39;00m \u001B[38;5;21;01mpandas\u001B[39;00m\u001B[38;5;21;01m.\u001B[39;00m\u001B[38;5;21;01mcore\u001B[39;00m\u001B[38;5;21;01m.\u001B[39;00m\u001B[38;5;21;01mapply\u001B[39;00m \u001B[38;5;28;01mimport\u001B[39;00m frame_apply\n\u001B[1;32m   8836\u001B[0m op \u001B[38;5;241m=\u001B[39m frame_apply(\n\u001B[1;32m   8837\u001B[0m     \u001B[38;5;28mself\u001B[39m,\n\u001B[1;32m   8838\u001B[0m     func\u001B[38;5;241m=\u001B[39mfunc,\n\u001B[0;32m   (...)\u001B[0m\n\u001B[1;32m   8843\u001B[0m     kwargs\u001B[38;5;241m=\u001B[39mkwargs,\n\u001B[1;32m   8844\u001B[0m )\n\u001B[0;32m-> 8845\u001B[0m \u001B[38;5;28;01mreturn\u001B[39;00m \u001B[43mop\u001B[49m\u001B[38;5;241;43m.\u001B[39;49m\u001B[43mapply\u001B[49m\u001B[43m(\u001B[49m\u001B[43m)\u001B[49m\u001B[38;5;241m.\u001B[39m__finalize__(\u001B[38;5;28mself\u001B[39m, method\u001B[38;5;241m=\u001B[39m\u001B[38;5;124m\"\u001B[39m\u001B[38;5;124mapply\u001B[39m\u001B[38;5;124m\"\u001B[39m)\n",
      "File \u001B[0;32m~/miniconda3/envs/venv/lib/python3.9/site-packages/pandas/core/apply.py:733\u001B[0m, in \u001B[0;36mFrameApply.apply\u001B[0;34m(self)\u001B[0m\n\u001B[1;32m    730\u001B[0m \u001B[38;5;28;01melif\u001B[39;00m \u001B[38;5;28mself\u001B[39m\u001B[38;5;241m.\u001B[39mraw:\n\u001B[1;32m    731\u001B[0m     \u001B[38;5;28;01mreturn\u001B[39;00m \u001B[38;5;28mself\u001B[39m\u001B[38;5;241m.\u001B[39mapply_raw()\n\u001B[0;32m--> 733\u001B[0m \u001B[38;5;28;01mreturn\u001B[39;00m \u001B[38;5;28;43mself\u001B[39;49m\u001B[38;5;241;43m.\u001B[39;49m\u001B[43mapply_standard\u001B[49m\u001B[43m(\u001B[49m\u001B[43m)\u001B[49m\n",
      "File \u001B[0;32m~/miniconda3/envs/venv/lib/python3.9/site-packages/pandas/core/apply.py:857\u001B[0m, in \u001B[0;36mFrameApply.apply_standard\u001B[0;34m(self)\u001B[0m\n\u001B[1;32m    856\u001B[0m \u001B[38;5;28;01mdef\u001B[39;00m \u001B[38;5;21mapply_standard\u001B[39m(\u001B[38;5;28mself\u001B[39m):\n\u001B[0;32m--> 857\u001B[0m     results, res_index \u001B[38;5;241m=\u001B[39m \u001B[38;5;28;43mself\u001B[39;49m\u001B[38;5;241;43m.\u001B[39;49m\u001B[43mapply_series_generator\u001B[49m\u001B[43m(\u001B[49m\u001B[43m)\u001B[49m\n\u001B[1;32m    859\u001B[0m     \u001B[38;5;66;03m# wrap results\u001B[39;00m\n\u001B[1;32m    860\u001B[0m     \u001B[38;5;28;01mreturn\u001B[39;00m \u001B[38;5;28mself\u001B[39m\u001B[38;5;241m.\u001B[39mwrap_results(results, res_index)\n",
      "File \u001B[0;32m~/miniconda3/envs/venv/lib/python3.9/site-packages/pandas/core/apply.py:873\u001B[0m, in \u001B[0;36mFrameApply.apply_series_generator\u001B[0;34m(self)\u001B[0m\n\u001B[1;32m    870\u001B[0m \u001B[38;5;28;01mwith\u001B[39;00m option_context(\u001B[38;5;124m\"\u001B[39m\u001B[38;5;124mmode.chained_assignment\u001B[39m\u001B[38;5;124m\"\u001B[39m, \u001B[38;5;28;01mNone\u001B[39;00m):\n\u001B[1;32m    871\u001B[0m     \u001B[38;5;28;01mfor\u001B[39;00m i, v \u001B[38;5;129;01min\u001B[39;00m \u001B[38;5;28menumerate\u001B[39m(series_gen):\n\u001B[1;32m    872\u001B[0m         \u001B[38;5;66;03m# ignore SettingWithCopy here in case the user mutates\u001B[39;00m\n\u001B[0;32m--> 873\u001B[0m         results[i] \u001B[38;5;241m=\u001B[39m \u001B[38;5;28;43mself\u001B[39;49m\u001B[38;5;241;43m.\u001B[39;49m\u001B[43mf\u001B[49m\u001B[43m(\u001B[49m\u001B[43mv\u001B[49m\u001B[43m)\u001B[49m\n\u001B[1;32m    874\u001B[0m         \u001B[38;5;28;01mif\u001B[39;00m \u001B[38;5;28misinstance\u001B[39m(results[i], ABCSeries):\n\u001B[1;32m    875\u001B[0m             \u001B[38;5;66;03m# If we have a view on v, we need to make a copy because\u001B[39;00m\n\u001B[1;32m    876\u001B[0m             \u001B[38;5;66;03m#  series_generator will swap out the underlying data\u001B[39;00m\n\u001B[1;32m    877\u001B[0m             results[i] \u001B[38;5;241m=\u001B[39m results[i]\u001B[38;5;241m.\u001B[39mcopy(deep\u001B[38;5;241m=\u001B[39m\u001B[38;5;28;01mFalse\u001B[39;00m)\n",
      "Input \u001B[0;32mIn [29]\u001B[0m, in \u001B[0;36m<lambda>\u001B[0;34m(row)\u001B[0m\n\u001B[0;32m----> 1\u001B[0m df_with_distance[:\u001B[38;5;241m3\u001B[39m]\u001B[38;5;241m.\u001B[39mapply(\u001B[38;5;28;01mlambda\u001B[39;00m row: \u001B[43mcalculate_distance\u001B[49m(row,centroid), axis\u001B[38;5;241m=\u001B[39m\u001B[38;5;241m1\u001B[39m)\n",
      "\u001B[0;31mNameError\u001B[0m: name 'calculate_distance' is not defined"
     ]
    }
   ],
   "source": [
    "df_with_distance[:3].apply(lambda row: calculate_distance(row,centroid), axis=1)"
   ],
   "metadata": {
    "collapsed": false
   }
  },
  {
   "cell_type": "code",
   "execution_count": null,
   "outputs": [],
   "source": [
    "df_with_distance[\"loc_arr\"]= df_with_distance.apply(lambda row: calculate_distance(row,centroid), axis=1)"
   ],
   "metadata": {
    "collapsed": false
   }
  },
  {
   "cell_type": "code",
   "execution_count": 28,
   "outputs": [
    {
     "ename": "KeyboardInterrupt",
     "evalue": "",
     "output_type": "error",
     "traceback": [
      "\u001B[0;31m---------------------------------------------------------------------------\u001B[0m",
      "\u001B[0;31mKeyboardInterrupt\u001B[0m                         Traceback (most recent call last)",
      "Input \u001B[0;32mIn [28]\u001B[0m, in \u001B[0;36m<cell line: 1>\u001B[0;34m()\u001B[0m\n\u001B[0;32m----> 1\u001B[0m df_with_distance[\u001B[38;5;124m\"\u001B[39m\u001B[38;5;124mloc_arr\u001B[39m\u001B[38;5;124m\"\u001B[39m]\u001B[38;5;241m=\u001B[39m \u001B[43mdf_with_distance\u001B[49m\u001B[38;5;241;43m.\u001B[39;49m\u001B[43mapply\u001B[49m\u001B[43m(\u001B[49m\u001B[38;5;28;43;01mlambda\u001B[39;49;00m\u001B[43m \u001B[49m\u001B[43mrow\u001B[49m\u001B[43m:\u001B[49m\u001B[43m \u001B[49m\u001B[43mcreate_array\u001B[49m\u001B[43m(\u001B[49m\u001B[43mrow\u001B[49m\u001B[43m)\u001B[49m\u001B[43m,\u001B[49m\u001B[43m \u001B[49m\u001B[43maxis\u001B[49m\u001B[38;5;241;43m=\u001B[39;49m\u001B[38;5;241;43m1\u001B[39;49m\u001B[43m)\u001B[49m\n",
      "File \u001B[0;32m~/miniconda3/envs/venv/lib/python3.9/site-packages/pandas/core/frame.py:8845\u001B[0m, in \u001B[0;36mDataFrame.apply\u001B[0;34m(self, func, axis, raw, result_type, args, **kwargs)\u001B[0m\n\u001B[1;32m   8834\u001B[0m \u001B[38;5;28;01mfrom\u001B[39;00m \u001B[38;5;21;01mpandas\u001B[39;00m\u001B[38;5;21;01m.\u001B[39;00m\u001B[38;5;21;01mcore\u001B[39;00m\u001B[38;5;21;01m.\u001B[39;00m\u001B[38;5;21;01mapply\u001B[39;00m \u001B[38;5;28;01mimport\u001B[39;00m frame_apply\n\u001B[1;32m   8836\u001B[0m op \u001B[38;5;241m=\u001B[39m frame_apply(\n\u001B[1;32m   8837\u001B[0m     \u001B[38;5;28mself\u001B[39m,\n\u001B[1;32m   8838\u001B[0m     func\u001B[38;5;241m=\u001B[39mfunc,\n\u001B[0;32m   (...)\u001B[0m\n\u001B[1;32m   8843\u001B[0m     kwargs\u001B[38;5;241m=\u001B[39mkwargs,\n\u001B[1;32m   8844\u001B[0m )\n\u001B[0;32m-> 8845\u001B[0m \u001B[38;5;28;01mreturn\u001B[39;00m \u001B[43mop\u001B[49m\u001B[38;5;241;43m.\u001B[39;49m\u001B[43mapply\u001B[49m\u001B[43m(\u001B[49m\u001B[43m)\u001B[49m\u001B[38;5;241m.\u001B[39m__finalize__(\u001B[38;5;28mself\u001B[39m, method\u001B[38;5;241m=\u001B[39m\u001B[38;5;124m\"\u001B[39m\u001B[38;5;124mapply\u001B[39m\u001B[38;5;124m\"\u001B[39m)\n",
      "File \u001B[0;32m~/miniconda3/envs/venv/lib/python3.9/site-packages/pandas/core/apply.py:733\u001B[0m, in \u001B[0;36mFrameApply.apply\u001B[0;34m(self)\u001B[0m\n\u001B[1;32m    730\u001B[0m \u001B[38;5;28;01melif\u001B[39;00m \u001B[38;5;28mself\u001B[39m\u001B[38;5;241m.\u001B[39mraw:\n\u001B[1;32m    731\u001B[0m     \u001B[38;5;28;01mreturn\u001B[39;00m \u001B[38;5;28mself\u001B[39m\u001B[38;5;241m.\u001B[39mapply_raw()\n\u001B[0;32m--> 733\u001B[0m \u001B[38;5;28;01mreturn\u001B[39;00m \u001B[38;5;28;43mself\u001B[39;49m\u001B[38;5;241;43m.\u001B[39;49m\u001B[43mapply_standard\u001B[49m\u001B[43m(\u001B[49m\u001B[43m)\u001B[49m\n",
      "File \u001B[0;32m~/miniconda3/envs/venv/lib/python3.9/site-packages/pandas/core/apply.py:857\u001B[0m, in \u001B[0;36mFrameApply.apply_standard\u001B[0;34m(self)\u001B[0m\n\u001B[1;32m    856\u001B[0m \u001B[38;5;28;01mdef\u001B[39;00m \u001B[38;5;21mapply_standard\u001B[39m(\u001B[38;5;28mself\u001B[39m):\n\u001B[0;32m--> 857\u001B[0m     results, res_index \u001B[38;5;241m=\u001B[39m \u001B[38;5;28;43mself\u001B[39;49m\u001B[38;5;241;43m.\u001B[39;49m\u001B[43mapply_series_generator\u001B[49m\u001B[43m(\u001B[49m\u001B[43m)\u001B[49m\n\u001B[1;32m    859\u001B[0m     \u001B[38;5;66;03m# wrap results\u001B[39;00m\n\u001B[1;32m    860\u001B[0m     \u001B[38;5;28;01mreturn\u001B[39;00m \u001B[38;5;28mself\u001B[39m\u001B[38;5;241m.\u001B[39mwrap_results(results, res_index)\n",
      "File \u001B[0;32m~/miniconda3/envs/venv/lib/python3.9/site-packages/pandas/core/apply.py:873\u001B[0m, in \u001B[0;36mFrameApply.apply_series_generator\u001B[0;34m(self)\u001B[0m\n\u001B[1;32m    870\u001B[0m \u001B[38;5;28;01mwith\u001B[39;00m option_context(\u001B[38;5;124m\"\u001B[39m\u001B[38;5;124mmode.chained_assignment\u001B[39m\u001B[38;5;124m\"\u001B[39m, \u001B[38;5;28;01mNone\u001B[39;00m):\n\u001B[1;32m    871\u001B[0m     \u001B[38;5;28;01mfor\u001B[39;00m i, v \u001B[38;5;129;01min\u001B[39;00m \u001B[38;5;28menumerate\u001B[39m(series_gen):\n\u001B[1;32m    872\u001B[0m         \u001B[38;5;66;03m# ignore SettingWithCopy here in case the user mutates\u001B[39;00m\n\u001B[0;32m--> 873\u001B[0m         results[i] \u001B[38;5;241m=\u001B[39m \u001B[38;5;28;43mself\u001B[39;49m\u001B[38;5;241;43m.\u001B[39;49m\u001B[43mf\u001B[49m\u001B[43m(\u001B[49m\u001B[43mv\u001B[49m\u001B[43m)\u001B[49m\n\u001B[1;32m    874\u001B[0m         \u001B[38;5;28;01mif\u001B[39;00m \u001B[38;5;28misinstance\u001B[39m(results[i], ABCSeries):\n\u001B[1;32m    875\u001B[0m             \u001B[38;5;66;03m# If we have a view on v, we need to make a copy because\u001B[39;00m\n\u001B[1;32m    876\u001B[0m             \u001B[38;5;66;03m#  series_generator will swap out the underlying data\u001B[39;00m\n\u001B[1;32m    877\u001B[0m             results[i] \u001B[38;5;241m=\u001B[39m results[i]\u001B[38;5;241m.\u001B[39mcopy(deep\u001B[38;5;241m=\u001B[39m\u001B[38;5;28;01mFalse\u001B[39;00m)\n",
      "Input \u001B[0;32mIn [28]\u001B[0m, in \u001B[0;36m<lambda>\u001B[0;34m(row)\u001B[0m\n\u001B[0;32m----> 1\u001B[0m df_with_distance[\u001B[38;5;124m\"\u001B[39m\u001B[38;5;124mloc_arr\u001B[39m\u001B[38;5;124m\"\u001B[39m]\u001B[38;5;241m=\u001B[39m df_with_distance\u001B[38;5;241m.\u001B[39mapply(\u001B[38;5;28;01mlambda\u001B[39;00m row: \u001B[43mcreate_array\u001B[49m\u001B[43m(\u001B[49m\u001B[43mrow\u001B[49m\u001B[43m)\u001B[49m, axis\u001B[38;5;241m=\u001B[39m\u001B[38;5;241m1\u001B[39m)\n",
      "Input \u001B[0;32mIn [26]\u001B[0m, in \u001B[0;36mcreate_array\u001B[0;34m(row)\u001B[0m\n\u001B[1;32m      1\u001B[0m \u001B[38;5;28;01mdef\u001B[39;00m \u001B[38;5;21mcreate_array\u001B[39m(row):\n\u001B[0;32m----> 2\u001B[0m     \u001B[38;5;28;01mreturn\u001B[39;00m [row\u001B[38;5;241m.\u001B[39mloc[\u001B[38;5;124m\"\u001B[39m\u001B[38;5;124mx\u001B[39m\u001B[38;5;124m\"\u001B[39m],row\u001B[38;5;241m.\u001B[39mloc[\u001B[38;5;124m\"\u001B[39m\u001B[38;5;124my\u001B[39m\u001B[38;5;124m\"\u001B[39m], \u001B[43mrow\u001B[49m\u001B[38;5;241;43m.\u001B[39;49m\u001B[43mloc\u001B[49m[\u001B[38;5;124m\"\u001B[39m\u001B[38;5;124mz\u001B[39m\u001B[38;5;124m\"\u001B[39m]]\n",
      "File \u001B[0;32m~/miniconda3/envs/venv/lib/python3.9/site-packages/pandas/core/indexing.py:267\u001B[0m, in \u001B[0;36mIndexingMixin.loc\u001B[0;34m(self)\u001B[0m\n\u001B[1;32m    132\u001B[0m     \u001B[38;5;124;03m\"\"\"\u001B[39;00m\n\u001B[1;32m    133\u001B[0m \u001B[38;5;124;03m    Purely integer-location based indexing for selection by position.\u001B[39;00m\n\u001B[1;32m    134\u001B[0m \n\u001B[0;32m   (...)\u001B[0m\n\u001B[1;32m    263\u001B[0m \u001B[38;5;124;03m    2  1000  3000\u001B[39;00m\n\u001B[1;32m    264\u001B[0m \u001B[38;5;124;03m    \"\"\"\u001B[39;00m\n\u001B[1;32m    265\u001B[0m     \u001B[38;5;28;01mreturn\u001B[39;00m _iLocIndexer(\u001B[38;5;124m\"\u001B[39m\u001B[38;5;124miloc\u001B[39m\u001B[38;5;124m\"\u001B[39m, \u001B[38;5;28mself\u001B[39m)\n\u001B[0;32m--> 267\u001B[0m \u001B[38;5;129m@property\u001B[39m\n\u001B[1;32m    268\u001B[0m \u001B[38;5;28;01mdef\u001B[39;00m \u001B[38;5;21mloc\u001B[39m(\u001B[38;5;28mself\u001B[39m) \u001B[38;5;241m-\u001B[39m\u001B[38;5;241m>\u001B[39m _LocIndexer:\n\u001B[1;32m    269\u001B[0m     \u001B[38;5;124;03m\"\"\"\u001B[39;00m\n\u001B[1;32m    270\u001B[0m \u001B[38;5;124;03m    Access a group of rows and columns by label(s) or a boolean array.\u001B[39;00m\n\u001B[1;32m    271\u001B[0m \n\u001B[0;32m   (...)\u001B[0m\n\u001B[1;32m    523\u001B[0m \u001B[38;5;124;03m    viper      mark ii          7       1\u001B[39;00m\n\u001B[1;32m    524\u001B[0m \u001B[38;5;124;03m    \"\"\"\u001B[39;00m\n\u001B[1;32m    525\u001B[0m     \u001B[38;5;28;01mreturn\u001B[39;00m _LocIndexer(\u001B[38;5;124m\"\u001B[39m\u001B[38;5;124mloc\u001B[39m\u001B[38;5;124m\"\u001B[39m, \u001B[38;5;28mself\u001B[39m)\n",
      "\u001B[0;31mKeyboardInterrupt\u001B[0m: "
     ]
    }
   ],
   "source": [
    "df_with_distance[\"loc_arr\"]= df_with_distance.apply(lambda row: create_array(row), axis=1)"
   ],
   "metadata": {
    "collapsed": false
   }
  },
  {
   "cell_type": "code",
   "execution_count": 40,
   "outputs": [
    {
     "data": {
      "text/plain": "           x          y          z\n0 -125.07891  86.888915 -33.059413",
      "text/html": "<div>\n<style scoped>\n    .dataframe tbody tr th:only-of-type {\n        vertical-align: middle;\n    }\n\n    .dataframe tbody tr th {\n        vertical-align: top;\n    }\n\n    .dataframe thead th {\n        text-align: right;\n    }\n</style>\n<table border=\"1\" class=\"dataframe\">\n  <thead>\n    <tr style=\"text-align: right;\">\n      <th></th>\n      <th>x</th>\n      <th>y</th>\n      <th>z</th>\n    </tr>\n  </thead>\n  <tbody>\n    <tr>\n      <th>0</th>\n      <td>-125.07891</td>\n      <td>86.888915</td>\n      <td>-33.059413</td>\n    </tr>\n  </tbody>\n</table>\n</div>"
     },
     "execution_count": 40,
     "metadata": {},
     "output_type": "execute_result"
    }
   ],
   "source": [
    "df_with_distance.head()"
   ],
   "metadata": {
    "collapsed": false
   }
  },
  {
   "cell_type": "code",
   "execution_count": 2,
   "outputs": [
    {
     "ename": "NameError",
     "evalue": "name 'df_with_distance' is not defined",
     "output_type": "error",
     "traceback": [
      "\u001B[0;31m---------------------------------------------------------------------------\u001B[0m",
      "\u001B[0;31mNameError\u001B[0m                                 Traceback (most recent call last)",
      "Input \u001B[0;32mIn [2]\u001B[0m, in \u001B[0;36m<cell line: 1>\u001B[0;34m()\u001B[0m\n\u001B[0;32m----> 1\u001B[0m \u001B[43mdf_with_distance\u001B[49m[[\u001B[38;5;124m\"\u001B[39m\u001B[38;5;124mx\u001B[39m\u001B[38;5;124m\"\u001B[39m,\u001B[38;5;124m\"\u001B[39m\u001B[38;5;124my\u001B[39m\u001B[38;5;124m\"\u001B[39m,\u001B[38;5;124m\"\u001B[39m\u001B[38;5;124mz\u001B[39m\u001B[38;5;124m\"\u001B[39m]][:\u001B[38;5;241m1\u001B[39m]\u001B[38;5;241m.\u001B[39mto_numpy()\n",
      "\u001B[0;31mNameError\u001B[0m: name 'df_with_distance' is not defined"
     ]
    }
   ],
   "source": [
    "df_with_distance[[\"x\",\"y\",\"z\"]][:1].to_numpy()"
   ],
   "metadata": {
    "collapsed": false
   }
  },
  {
   "cell_type": "code",
   "execution_count": null,
   "outputs": [],
   "source": [],
   "metadata": {
    "collapsed": false
   }
  }
 ],
 "metadata": {
  "kernelspec": {
   "display_name": "Python 3",
   "language": "python",
   "name": "python3"
  },
  "language_info": {
   "codemirror_mode": {
    "name": "ipython",
    "version": 2
   },
   "file_extension": ".py",
   "mimetype": "text/x-python",
   "name": "python",
   "nbconvert_exporter": "python",
   "pygments_lexer": "ipython2",
   "version": "2.7.6"
  }
 },
 "nbformat": 4,
 "nbformat_minor": 0
}
