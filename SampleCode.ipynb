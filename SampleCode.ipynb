{
 "cells": [
  {
   "metadata": {},
   "cell_type": "code",
   "outputs": [],
   "execution_count": null,
   "source": "list1 = ['3p6', '4p4', '4p6', '5p2', '6p4', '7p2', '7p8','8p4','10p4', '11p4']",
   "id": "4900be05d5856897"
  },
  {
   "cell_type": "code",
   "execution_count": null,
   "id": "initial_id",
   "metadata": {
    "collapsed": true
   },
   "outputs": [],
   "source": [
    "# for l in list:\n",
    "#     df1 = pd.read_pickle(f\"EvaluationResult/3/result_1_300_{l}_3_07022024.pkl\")\n",
    "#     df2 = pd.read_pickle(f\"EvaluationResult/3/result_301_600_{l}_3_07022024.pkl\")\n",
    "#     df3 = pd.read_pickle(f\"EvaluationResult/3/result_601_900_{l}_3_07022024.pkl\")\n",
    "#     df4 = pd.read_pickle(f\"EvaluationResult/3/result_901_1200_{l}_3_07032024.pkl\")\n",
    "#     frames= [df1, df2, df3, df4]\n",
    "#     result = pd.concat(frames)\n",
    "#     result.to_pickle(f\"EvaluationResult/3/result_{l}_3_07022024.pkl\")"
   ]
  },
  {
   "metadata": {},
   "cell_type": "code",
   "outputs": [],
   "execution_count": null,
   "source": [
    "dataframes = []\n",
    "\n",
    "for i in range(5, 1201, 5):\n",
    "    file_path = f\"Data/3p6/latent_representation_for_{i}.pkl\"\n",
    "\n",
    "    with open(file_path, 'rb') as file:\n",
    "        df = pickle.load(file)\n",
    "        dataframes.append(df)\n",
    "combined_df = pd.concat(dataframes)"
   ],
   "id": "ac7077176be18981"
  }
 ],
 "metadata": {
  "kernelspec": {
   "display_name": "Python 3",
   "language": "python",
   "name": "python3"
  },
  "language_info": {
   "codemirror_mode": {
    "name": "ipython",
    "version": 2
   },
   "file_extension": ".py",
   "mimetype": "text/x-python",
   "name": "python",
   "nbconvert_exporter": "python",
   "pygments_lexer": "ipython2",
   "version": "2.7.6"
  }
 },
 "nbformat": 4,
 "nbformat_minor": 5
}
